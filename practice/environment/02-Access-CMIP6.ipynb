{
 "cells": [
  {
   "cell_type": "markdown",
   "metadata": {},
   "source": [
    "# CMIP6 data\n",
    "\n",
    "This notebook shows how to access CMIP6 data from the cloud"
   ]
  },
  {
   "cell_type": "markdown",
   "metadata": {},
   "source": [
    "## Import modules and libraries"
   ]
  },
  {
   "cell_type": "markdown",
   "metadata": {},
   "source": [
    "*First, let's make sure the Python env is correct to run this notebook*:"
   ]
  },
  {
   "cell_type": "code",
   "execution_count": null,
   "metadata": {},
   "outputs": [],
   "source": [
    "import os, sys, urllib, tempfile\n",
    "with tempfile.TemporaryDirectory() as tmpdirname:\n",
    "    sys.path.append(tmpdirname)\n",
    "    repo = \"https://raw.githubusercontent.com/obidam/ds2-2023/main/\"\n",
    "    urllib.request.urlretrieve(os.path.join(repo, \"utils.py\"), \n",
    "                               os.path.join(tmpdirname, \"utils.py\"))\n",
    "    from utils import check_up_env\n",
    "    check_up_env()"
   ]
  },
  {
   "cell_type": "code",
   "execution_count": null,
   "metadata": {},
   "outputs": [],
   "source": [
    "import sys\n",
    "import gcsfs\n",
    "import xarray as xr\n",
    "import intake\n",
    "import zarr\n",
    "import pandas as pd\n",
    "# print(gcsfs.__version__)\n",
    "# print(xr.__version__)\n",
    "# print(intake.__version__)\n",
    "# print(zarr.__version__)\n",
    "\n",
    "# this only needs to be created once\n",
    "gcs = gcsfs.GCSFileSystem(token='anon')\n",
    "\n",
    "# \n",
    "xr.set_options(display_style='html')\n",
    "%matplotlib inline\n",
    "%config InlineBackend.figure_format = 'retina' "
   ]
  },
  {
   "cell_type": "markdown",
   "metadata": {},
   "source": [
    "## Read the full CMIP6 catalog"
   ]
  },
  {
   "cell_type": "code",
   "execution_count": null,
   "metadata": {},
   "outputs": [],
   "source": [
    "df_full = pd.read_csv('https://storage.googleapis.com/cmip6/cmip6-zarr-consolidated-stores.csv')\n",
    "df_full.sample(10)"
   ]
  },
  {
   "cell_type": "markdown",
   "metadata": {},
   "source": [
    "### Make a subset of it"
   ]
  },
  {
   "cell_type": "code",
   "execution_count": null,
   "metadata": {},
   "outputs": [],
   "source": [
    "# df = df_full.query(\"activity_id=='CMIP' & table_id == 'Omon' & variable_id == 'thetao' & experiment_id == 'historical' & member_id == 'r1i1p1f1'\")\n",
    "df = df_full.query(\"activity_id=='CMIP' & table_id == 'Omon' & institution_id == 'CNRM-CERFACS' & experiment_id == 'historical'\")\n",
    "# df = df_full.query('institution_id == \"CNRM-CERFACS\" & member_id==\"r1i1p1f2\" & source_id==\"CNRM-CM6-1\"')\n",
    "\n",
    "# df = df_full.query(\"activity_id=='CMIP' & table_id == 'Omon' & variable_id == 'thetao' & experiment_id == 'abrupt-4xCO2'\")\n",
    "\n",
    "# df = df.query(\"source_id=='CNRM-CM6-1-HR' & variable_id=='thetao'\") # Horizontal resolution up to 1/4 deg\n",
    "# df = df.query(\"source_id=='CNRM-ESM2-1' & variable_id=='thetao'\") # Horizontal resolution up to 1deg\n",
    "df = df.query(\"source_id=='CNRM-ESM2-1' & (variable_id=='thetao' | variable_id=='so')\") # Horizontal resolution up to 1deg\n",
    "\n",
    "# df = df.sort_values('version')\n",
    "df = df.sort_values('member_id')\n",
    "df"
   ]
  },
  {
   "cell_type": "markdown",
   "metadata": {},
   "source": [
    "## Read some data (1 row of the catalog)"
   ]
  },
  {
   "cell_type": "code",
   "execution_count": null,
   "metadata": {},
   "outputs": [],
   "source": [
    "def open_cmip6(df_row):\n",
    "    # get the path to zarr store\n",
    "    zstore = df.zstore.values[-1]\n",
    "    print(zstore)\n",
    "    \n",
    "    # create a mutable-mapping-style interface to the store\n",
    "    mapper = gcs.get_mapper(zstore)\n",
    "\n",
    "    # open it using xarray and zarr\n",
    "    ds = xr.open_zarr(mapper, consolidated=True)\n",
    "    print(\"Size of this dataset:\", ds.nbytes/1e9,\"Gb\")\n",
    "\n",
    "    return ds\n",
    "\n",
    "ds = open_cmip6(df.iloc[0])\n",
    "ds"
   ]
  },
  {
   "cell_type": "markdown",
   "metadata": {},
   "source": [
    "### Play with it"
   ]
  },
  {
   "cell_type": "code",
   "execution_count": null,
   "metadata": {},
   "outputs": [],
   "source": [
    "# Compute size of the full df selection:\n",
    "total_size = 0 # Gb\n",
    "for index, row in df.iterrows():\n",
    "    ds = open_cmip6(row)\n",
    "    total_size += ds.nbytes/1e9\n",
    "print(\"Size of the selection of datasets:\", total_size, \"Gb\")    "
   ]
  },
  {
   "cell_type": "code",
   "execution_count": null,
   "metadata": {},
   "outputs": [],
   "source": [
    "sst = ds['thetao'].sel(lev=0, method='nearest')\n",
    "sst"
   ]
  },
  {
   "cell_type": "code",
   "execution_count": null,
   "metadata": {},
   "outputs": [],
   "source": [
    "sst.sel(time='1978-05-28T12:00:00', method='nearest').plot()"
   ]
  },
  {
   "cell_type": "code",
   "execution_count": null,
   "metadata": {},
   "outputs": [],
   "source": [
    "sst.where(sst['lat']>=0).where(sst['lon']>=360-275).sel(time='1978-05-28T12:00:00', method='nearest').plot(xlim=[0, 120], ylim=[140, 270])"
   ]
  },
  {
   "cell_type": "markdown",
   "metadata": {},
   "source": [
    "### Horizontal resolution of the grid"
   ]
  },
  {
   "cell_type": "code",
   "execution_count": null,
   "metadata": {},
   "outputs": [],
   "source": [
    "ds['lat'].isel(x=0).diff('y').plot()"
   ]
  },
  {
   "cell_type": "code",
   "execution_count": null,
   "metadata": {},
   "outputs": [],
   "source": [
    "ds['lon'].isel(y=0).diff('x').plot()"
   ]
  }
 ],
 "metadata": {
  "kernelspec": {
   "display_name": "Python 3 (py38)",
   "language": "python",
   "name": "python3"
  },
  "language_info": {
   "codemirror_mode": {
    "name": "ipython",
    "version": 3
   },
   "file_extension": ".py",
   "mimetype": "text/x-python",
   "name": "python",
   "nbconvert_exporter": "python",
   "pygments_lexer": "ipython3",
   "version": "3.8.12"
  },
  "widgets": {
   "application/vnd.jupyter.widget-state+json": {
    "state": {},
    "version_major": 2,
    "version_minor": 0
   }
  }
 },
 "nbformat": 4,
 "nbformat_minor": 4
}
