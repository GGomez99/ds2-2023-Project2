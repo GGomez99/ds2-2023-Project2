{
  "nbformat": 4,
  "nbformat_minor": 0,
  "metadata": {
    "anaconda-cloud": {},
    "colab": {
      "provenance": []
    },
    "kernelspec": {
      "display_name": "Python 3",
      "language": "python",
      "name": "python3"
    },
    "language_info": {
      "codemirror_mode": {
        "name": "ipython",
        "version": 3
      },
      "file_extension": ".py",
      "mimetype": "text/x-python",
      "name": "python",
      "nbconvert_exporter": "python",
      "pygments_lexer": "ipython3",
      "version": "3.7.8"
    },
    "widgets": {
      "application/vnd.jupyter.widget-state+json": {
        "a0db1715f599446d81af3b92a072469f": {
          "model_module": "@jupyter-widgets/controls",
          "model_name": "HBoxModel",
          "model_module_version": "1.5.0",
          "state": {
            "_dom_classes": [],
            "_model_module": "@jupyter-widgets/controls",
            "_model_module_version": "1.5.0",
            "_model_name": "HBoxModel",
            "_view_count": null,
            "_view_module": "@jupyter-widgets/controls",
            "_view_module_version": "1.5.0",
            "_view_name": "HBoxView",
            "box_style": "",
            "children": [
              "IPY_MODEL_917022b9ed914b2f88574979e2a642ae",
              "IPY_MODEL_2c9468f9ad684aada4dd36773654d461",
              "IPY_MODEL_6763e44cb4d44e629b2656dcf63ff739"
            ],
            "layout": "IPY_MODEL_f9c06533a05e45489613490a24d841f7"
          }
        },
        "917022b9ed914b2f88574979e2a642ae": {
          "model_module": "@jupyter-widgets/controls",
          "model_name": "HTMLModel",
          "model_module_version": "1.5.0",
          "state": {
            "_dom_classes": [],
            "_model_module": "@jupyter-widgets/controls",
            "_model_module_version": "1.5.0",
            "_model_name": "HTMLModel",
            "_view_count": null,
            "_view_module": "@jupyter-widgets/controls",
            "_view_module_version": "1.5.0",
            "_view_name": "HTMLView",
            "description": "",
            "description_tooltip": null,
            "layout": "IPY_MODEL_11fef33bfc524209a9f80dae0dec971a",
            "placeholder": "​",
            "style": "IPY_MODEL_3b9ecbf290ca4598ab45eb3a35519378",
            "value": "Job ID bb1f15a7-64a9-4730-8386-34878ec52324 successfully executed: 100%"
          }
        },
        "2c9468f9ad684aada4dd36773654d461": {
          "model_module": "@jupyter-widgets/controls",
          "model_name": "FloatProgressModel",
          "model_module_version": "1.5.0",
          "state": {
            "_dom_classes": [],
            "_model_module": "@jupyter-widgets/controls",
            "_model_module_version": "1.5.0",
            "_model_name": "FloatProgressModel",
            "_view_count": null,
            "_view_module": "@jupyter-widgets/controls",
            "_view_module_version": "1.5.0",
            "_view_name": "ProgressView",
            "bar_style": "success",
            "description": "",
            "description_tooltip": null,
            "layout": "IPY_MODEL_5abe6edd877d4c15af16c990be16a8a2",
            "max": 1,
            "min": 0,
            "orientation": "horizontal",
            "style": "IPY_MODEL_2244ec2018764f048935a236d2a7d4bc",
            "value": 1
          }
        },
        "6763e44cb4d44e629b2656dcf63ff739": {
          "model_module": "@jupyter-widgets/controls",
          "model_name": "HTMLModel",
          "model_module_version": "1.5.0",
          "state": {
            "_dom_classes": [],
            "_model_module": "@jupyter-widgets/controls",
            "_model_module_version": "1.5.0",
            "_model_name": "HTMLModel",
            "_view_count": null,
            "_view_module": "@jupyter-widgets/controls",
            "_view_module_version": "1.5.0",
            "_view_name": "HTMLView",
            "description": "",
            "description_tooltip": null,
            "layout": "IPY_MODEL_5e566149e6414ee9aea0b397067c02c3",
            "placeholder": "​",
            "style": "IPY_MODEL_0746301c1c5046edb32f280bdbbc2446",
            "value": ""
          }
        },
        "f9c06533a05e45489613490a24d841f7": {
          "model_module": "@jupyter-widgets/base",
          "model_name": "LayoutModel",
          "model_module_version": "1.2.0",
          "state": {
            "_model_module": "@jupyter-widgets/base",
            "_model_module_version": "1.2.0",
            "_model_name": "LayoutModel",
            "_view_count": null,
            "_view_module": "@jupyter-widgets/base",
            "_view_module_version": "1.2.0",
            "_view_name": "LayoutView",
            "align_content": null,
            "align_items": null,
            "align_self": null,
            "border": null,
            "bottom": null,
            "display": null,
            "flex": null,
            "flex_flow": null,
            "grid_area": null,
            "grid_auto_columns": null,
            "grid_auto_flow": null,
            "grid_auto_rows": null,
            "grid_column": null,
            "grid_gap": null,
            "grid_row": null,
            "grid_template_areas": null,
            "grid_template_columns": null,
            "grid_template_rows": null,
            "height": null,
            "justify_content": null,
            "justify_items": null,
            "left": null,
            "margin": null,
            "max_height": null,
            "max_width": null,
            "min_height": null,
            "min_width": null,
            "object_fit": null,
            "object_position": null,
            "order": null,
            "overflow": null,
            "overflow_x": null,
            "overflow_y": null,
            "padding": null,
            "right": null,
            "top": null,
            "visibility": null,
            "width": null
          }
        },
        "11fef33bfc524209a9f80dae0dec971a": {
          "model_module": "@jupyter-widgets/base",
          "model_name": "LayoutModel",
          "model_module_version": "1.2.0",
          "state": {
            "_model_module": "@jupyter-widgets/base",
            "_model_module_version": "1.2.0",
            "_model_name": "LayoutModel",
            "_view_count": null,
            "_view_module": "@jupyter-widgets/base",
            "_view_module_version": "1.2.0",
            "_view_name": "LayoutView",
            "align_content": null,
            "align_items": null,
            "align_self": null,
            "border": null,
            "bottom": null,
            "display": null,
            "flex": null,
            "flex_flow": null,
            "grid_area": null,
            "grid_auto_columns": null,
            "grid_auto_flow": null,
            "grid_auto_rows": null,
            "grid_column": null,
            "grid_gap": null,
            "grid_row": null,
            "grid_template_areas": null,
            "grid_template_columns": null,
            "grid_template_rows": null,
            "height": null,
            "justify_content": null,
            "justify_items": null,
            "left": null,
            "margin": null,
            "max_height": null,
            "max_width": null,
            "min_height": null,
            "min_width": null,
            "object_fit": null,
            "object_position": null,
            "order": null,
            "overflow": null,
            "overflow_x": null,
            "overflow_y": null,
            "padding": null,
            "right": null,
            "top": null,
            "visibility": null,
            "width": null
          }
        },
        "3b9ecbf290ca4598ab45eb3a35519378": {
          "model_module": "@jupyter-widgets/controls",
          "model_name": "DescriptionStyleModel",
          "model_module_version": "1.5.0",
          "state": {
            "_model_module": "@jupyter-widgets/controls",
            "_model_module_version": "1.5.0",
            "_model_name": "DescriptionStyleModel",
            "_view_count": null,
            "_view_module": "@jupyter-widgets/base",
            "_view_module_version": "1.2.0",
            "_view_name": "StyleView",
            "description_width": ""
          }
        },
        "5abe6edd877d4c15af16c990be16a8a2": {
          "model_module": "@jupyter-widgets/base",
          "model_name": "LayoutModel",
          "model_module_version": "1.2.0",
          "state": {
            "_model_module": "@jupyter-widgets/base",
            "_model_module_version": "1.2.0",
            "_model_name": "LayoutModel",
            "_view_count": null,
            "_view_module": "@jupyter-widgets/base",
            "_view_module_version": "1.2.0",
            "_view_name": "LayoutView",
            "align_content": null,
            "align_items": null,
            "align_self": null,
            "border": null,
            "bottom": null,
            "display": null,
            "flex": null,
            "flex_flow": null,
            "grid_area": null,
            "grid_auto_columns": null,
            "grid_auto_flow": null,
            "grid_auto_rows": null,
            "grid_column": null,
            "grid_gap": null,
            "grid_row": null,
            "grid_template_areas": null,
            "grid_template_columns": null,
            "grid_template_rows": null,
            "height": null,
            "justify_content": null,
            "justify_items": null,
            "left": null,
            "margin": null,
            "max_height": null,
            "max_width": null,
            "min_height": null,
            "min_width": null,
            "object_fit": null,
            "object_position": null,
            "order": null,
            "overflow": null,
            "overflow_x": null,
            "overflow_y": null,
            "padding": null,
            "right": null,
            "top": null,
            "visibility": null,
            "width": null
          }
        },
        "2244ec2018764f048935a236d2a7d4bc": {
          "model_module": "@jupyter-widgets/controls",
          "model_name": "ProgressStyleModel",
          "model_module_version": "1.5.0",
          "state": {
            "_model_module": "@jupyter-widgets/controls",
            "_model_module_version": "1.5.0",
            "_model_name": "ProgressStyleModel",
            "_view_count": null,
            "_view_module": "@jupyter-widgets/base",
            "_view_module_version": "1.2.0",
            "_view_name": "StyleView",
            "bar_color": null,
            "description_width": ""
          }
        },
        "5e566149e6414ee9aea0b397067c02c3": {
          "model_module": "@jupyter-widgets/base",
          "model_name": "LayoutModel",
          "model_module_version": "1.2.0",
          "state": {
            "_model_module": "@jupyter-widgets/base",
            "_model_module_version": "1.2.0",
            "_model_name": "LayoutModel",
            "_view_count": null,
            "_view_module": "@jupyter-widgets/base",
            "_view_module_version": "1.2.0",
            "_view_name": "LayoutView",
            "align_content": null,
            "align_items": null,
            "align_self": null,
            "border": null,
            "bottom": null,
            "display": null,
            "flex": null,
            "flex_flow": null,
            "grid_area": null,
            "grid_auto_columns": null,
            "grid_auto_flow": null,
            "grid_auto_rows": null,
            "grid_column": null,
            "grid_gap": null,
            "grid_row": null,
            "grid_template_areas": null,
            "grid_template_columns": null,
            "grid_template_rows": null,
            "height": null,
            "justify_content": null,
            "justify_items": null,
            "left": null,
            "margin": null,
            "max_height": null,
            "max_width": null,
            "min_height": null,
            "min_width": null,
            "object_fit": null,
            "object_position": null,
            "order": null,
            "overflow": null,
            "overflow_x": null,
            "overflow_y": null,
            "padding": null,
            "right": null,
            "top": null,
            "visibility": null,
            "width": null
          }
        },
        "0746301c1c5046edb32f280bdbbc2446": {
          "model_module": "@jupyter-widgets/controls",
          "model_name": "DescriptionStyleModel",
          "model_module_version": "1.5.0",
          "state": {
            "_model_module": "@jupyter-widgets/controls",
            "_model_module_version": "1.5.0",
            "_model_name": "DescriptionStyleModel",
            "_view_count": null,
            "_view_module": "@jupyter-widgets/base",
            "_view_module_version": "1.2.0",
            "_view_name": "StyleView",
            "description_width": ""
          }
        },
        "ab22cceec15c45a1b3d8f1ce75e945ab": {
          "model_module": "@jupyter-widgets/controls",
          "model_name": "HBoxModel",
          "model_module_version": "1.5.0",
          "state": {
            "_dom_classes": [],
            "_model_module": "@jupyter-widgets/controls",
            "_model_module_version": "1.5.0",
            "_model_name": "HBoxModel",
            "_view_count": null,
            "_view_module": "@jupyter-widgets/controls",
            "_view_module_version": "1.5.0",
            "_view_name": "HBoxView",
            "box_style": "",
            "children": [
              "IPY_MODEL_ead5b071599848188896a2f275e39a65",
              "IPY_MODEL_0845f8ccb8b04265a99dbce26314276c",
              "IPY_MODEL_4abfde982105477c9d84f2015aae22f6"
            ],
            "layout": "IPY_MODEL_e399e657c50f4cc8973278be3f80dadc"
          }
        },
        "ead5b071599848188896a2f275e39a65": {
          "model_module": "@jupyter-widgets/controls",
          "model_name": "HTMLModel",
          "model_module_version": "1.5.0",
          "state": {
            "_dom_classes": [],
            "_model_module": "@jupyter-widgets/controls",
            "_model_module_version": "1.5.0",
            "_model_name": "HTMLModel",
            "_view_count": null,
            "_view_module": "@jupyter-widgets/controls",
            "_view_module_version": "1.5.0",
            "_view_name": "HTMLView",
            "description": "",
            "description_tooltip": null,
            "layout": "IPY_MODEL_d75ffb74a1164344b86ea39054ccd52a",
            "placeholder": "​",
            "style": "IPY_MODEL_4e68ad8181644762bc3072aa5c7b19a5",
            "value": "Downloading: 100%"
          }
        },
        "0845f8ccb8b04265a99dbce26314276c": {
          "model_module": "@jupyter-widgets/controls",
          "model_name": "FloatProgressModel",
          "model_module_version": "1.5.0",
          "state": {
            "_dom_classes": [],
            "_model_module": "@jupyter-widgets/controls",
            "_model_module_version": "1.5.0",
            "_model_name": "FloatProgressModel",
            "_view_count": null,
            "_view_module": "@jupyter-widgets/controls",
            "_view_module_version": "1.5.0",
            "_view_name": "ProgressView",
            "bar_style": "success",
            "description": "",
            "description_tooltip": null,
            "layout": "IPY_MODEL_83fa61fd73884f92ab92d390648eb41a",
            "max": 1255634,
            "min": 0,
            "orientation": "horizontal",
            "style": "IPY_MODEL_000695ca48b742539145afaf6887099c",
            "value": 1255634
          }
        },
        "4abfde982105477c9d84f2015aae22f6": {
          "model_module": "@jupyter-widgets/controls",
          "model_name": "HTMLModel",
          "model_module_version": "1.5.0",
          "state": {
            "_dom_classes": [],
            "_model_module": "@jupyter-widgets/controls",
            "_model_module_version": "1.5.0",
            "_model_name": "HTMLModel",
            "_view_count": null,
            "_view_module": "@jupyter-widgets/controls",
            "_view_module_version": "1.5.0",
            "_view_name": "HTMLView",
            "description": "",
            "description_tooltip": null,
            "layout": "IPY_MODEL_d412788116314f7283ca225576b0fdb9",
            "placeholder": "​",
            "style": "IPY_MODEL_def9bef4fad6455ca792976094ef3d78",
            "value": ""
          }
        },
        "e399e657c50f4cc8973278be3f80dadc": {
          "model_module": "@jupyter-widgets/base",
          "model_name": "LayoutModel",
          "model_module_version": "1.2.0",
          "state": {
            "_model_module": "@jupyter-widgets/base",
            "_model_module_version": "1.2.0",
            "_model_name": "LayoutModel",
            "_view_count": null,
            "_view_module": "@jupyter-widgets/base",
            "_view_module_version": "1.2.0",
            "_view_name": "LayoutView",
            "align_content": null,
            "align_items": null,
            "align_self": null,
            "border": null,
            "bottom": null,
            "display": null,
            "flex": null,
            "flex_flow": null,
            "grid_area": null,
            "grid_auto_columns": null,
            "grid_auto_flow": null,
            "grid_auto_rows": null,
            "grid_column": null,
            "grid_gap": null,
            "grid_row": null,
            "grid_template_areas": null,
            "grid_template_columns": null,
            "grid_template_rows": null,
            "height": null,
            "justify_content": null,
            "justify_items": null,
            "left": null,
            "margin": null,
            "max_height": null,
            "max_width": null,
            "min_height": null,
            "min_width": null,
            "object_fit": null,
            "object_position": null,
            "order": null,
            "overflow": null,
            "overflow_x": null,
            "overflow_y": null,
            "padding": null,
            "right": null,
            "top": null,
            "visibility": null,
            "width": null
          }
        },
        "d75ffb74a1164344b86ea39054ccd52a": {
          "model_module": "@jupyter-widgets/base",
          "model_name": "LayoutModel",
          "model_module_version": "1.2.0",
          "state": {
            "_model_module": "@jupyter-widgets/base",
            "_model_module_version": "1.2.0",
            "_model_name": "LayoutModel",
            "_view_count": null,
            "_view_module": "@jupyter-widgets/base",
            "_view_module_version": "1.2.0",
            "_view_name": "LayoutView",
            "align_content": null,
            "align_items": null,
            "align_self": null,
            "border": null,
            "bottom": null,
            "display": null,
            "flex": null,
            "flex_flow": null,
            "grid_area": null,
            "grid_auto_columns": null,
            "grid_auto_flow": null,
            "grid_auto_rows": null,
            "grid_column": null,
            "grid_gap": null,
            "grid_row": null,
            "grid_template_areas": null,
            "grid_template_columns": null,
            "grid_template_rows": null,
            "height": null,
            "justify_content": null,
            "justify_items": null,
            "left": null,
            "margin": null,
            "max_height": null,
            "max_width": null,
            "min_height": null,
            "min_width": null,
            "object_fit": null,
            "object_position": null,
            "order": null,
            "overflow": null,
            "overflow_x": null,
            "overflow_y": null,
            "padding": null,
            "right": null,
            "top": null,
            "visibility": null,
            "width": null
          }
        },
        "4e68ad8181644762bc3072aa5c7b19a5": {
          "model_module": "@jupyter-widgets/controls",
          "model_name": "DescriptionStyleModel",
          "model_module_version": "1.5.0",
          "state": {
            "_model_module": "@jupyter-widgets/controls",
            "_model_module_version": "1.5.0",
            "_model_name": "DescriptionStyleModel",
            "_view_count": null,
            "_view_module": "@jupyter-widgets/base",
            "_view_module_version": "1.2.0",
            "_view_name": "StyleView",
            "description_width": ""
          }
        },
        "83fa61fd73884f92ab92d390648eb41a": {
          "model_module": "@jupyter-widgets/base",
          "model_name": "LayoutModel",
          "model_module_version": "1.2.0",
          "state": {
            "_model_module": "@jupyter-widgets/base",
            "_model_module_version": "1.2.0",
            "_model_name": "LayoutModel",
            "_view_count": null,
            "_view_module": "@jupyter-widgets/base",
            "_view_module_version": "1.2.0",
            "_view_name": "LayoutView",
            "align_content": null,
            "align_items": null,
            "align_self": null,
            "border": null,
            "bottom": null,
            "display": null,
            "flex": null,
            "flex_flow": null,
            "grid_area": null,
            "grid_auto_columns": null,
            "grid_auto_flow": null,
            "grid_auto_rows": null,
            "grid_column": null,
            "grid_gap": null,
            "grid_row": null,
            "grid_template_areas": null,
            "grid_template_columns": null,
            "grid_template_rows": null,
            "height": null,
            "justify_content": null,
            "justify_items": null,
            "left": null,
            "margin": null,
            "max_height": null,
            "max_width": null,
            "min_height": null,
            "min_width": null,
            "object_fit": null,
            "object_position": null,
            "order": null,
            "overflow": null,
            "overflow_x": null,
            "overflow_y": null,
            "padding": null,
            "right": null,
            "top": null,
            "visibility": null,
            "width": null
          }
        },
        "000695ca48b742539145afaf6887099c": {
          "model_module": "@jupyter-widgets/controls",
          "model_name": "ProgressStyleModel",
          "model_module_version": "1.5.0",
          "state": {
            "_model_module": "@jupyter-widgets/controls",
            "_model_module_version": "1.5.0",
            "_model_name": "ProgressStyleModel",
            "_view_count": null,
            "_view_module": "@jupyter-widgets/base",
            "_view_module_version": "1.2.0",
            "_view_name": "StyleView",
            "bar_color": null,
            "description_width": ""
          }
        },
        "d412788116314f7283ca225576b0fdb9": {
          "model_module": "@jupyter-widgets/base",
          "model_name": "LayoutModel",
          "model_module_version": "1.2.0",
          "state": {
            "_model_module": "@jupyter-widgets/base",
            "_model_module_version": "1.2.0",
            "_model_name": "LayoutModel",
            "_view_count": null,
            "_view_module": "@jupyter-widgets/base",
            "_view_module_version": "1.2.0",
            "_view_name": "LayoutView",
            "align_content": null,
            "align_items": null,
            "align_self": null,
            "border": null,
            "bottom": null,
            "display": null,
            "flex": null,
            "flex_flow": null,
            "grid_area": null,
            "grid_auto_columns": null,
            "grid_auto_flow": null,
            "grid_auto_rows": null,
            "grid_column": null,
            "grid_gap": null,
            "grid_row": null,
            "grid_template_areas": null,
            "grid_template_columns": null,
            "grid_template_rows": null,
            "height": null,
            "justify_content": null,
            "justify_items": null,
            "left": null,
            "margin": null,
            "max_height": null,
            "max_width": null,
            "min_height": null,
            "min_width": null,
            "object_fit": null,
            "object_position": null,
            "order": null,
            "overflow": null,
            "overflow_x": null,
            "overflow_y": null,
            "padding": null,
            "right": null,
            "top": null,
            "visibility": null,
            "width": null
          }
        },
        "def9bef4fad6455ca792976094ef3d78": {
          "model_module": "@jupyter-widgets/controls",
          "model_name": "DescriptionStyleModel",
          "model_module_version": "1.5.0",
          "state": {
            "_model_module": "@jupyter-widgets/controls",
            "_model_module_version": "1.5.0",
            "_model_name": "DescriptionStyleModel",
            "_view_count": null,
            "_view_module": "@jupyter-widgets/base",
            "_view_module_version": "1.2.0",
            "_view_name": "StyleView",
            "description_width": ""
          }
        }
      }
    }
  },
  "cells": [
    {
      "cell_type": "code",
      "source": [
        "try:\n",
        "  import google.colab\n",
        "  print(\"Running in a colab, all good\")\n",
        "except:\n",
        "  raise \"You need to run this notebook in a Google Colab !\""
      ],
      "metadata": {
        "colab": {
          "base_uri": "https://localhost:8080/"
        },
        "id": "yo3gIs2YUbVg",
        "outputId": "254f8928-800a-4c51-8a8b-175fc91d5f3f"
      },
      "execution_count": 1,
      "outputs": [
        {
          "output_type": "stream",
          "name": "stdout",
          "text": [
            "Running in a colab, all good\n"
          ]
        }
      ]
    },
    {
      "cell_type": "markdown",
      "source": [
        "## Note before running the repo\n",
        "In order to run this notebook, you need the datasets of cyclones, in a hierarchy as follows : \n",
        "```\n",
        "data\n",
        "  |--- ibtracs-gulf of mexico-1998-2015.csv\n",
        "  |--- ibtracs-japan-1998-2015.csv\n",
        "```\n",
        "You can either upload the files manually to collab, or run the commands below to automatically download the files from our github repo"
      ],
      "metadata": {
        "id": "HfhU7CMwUpBQ"
      }
    },
    {
      "cell_type": "code",
      "source": [
        "!mkdir data\n",
        "!wget 'https://raw.githubusercontent.com/GGomez99/ds2-2023-Project2/main/project/arens-gomez-humeau-khieu/data/ibtracs-gulf%20of%20mexico-1998-2015.csv' -O \"data/ibtracs-gulf of mexico-1998-2015.csv\"\n",
        "!wget 'https://raw.githubusercontent.com/GGomez99/ds2-2023-Project2/main/project/arens-gomez-humeau-khieu/data/ibtracs-japan-1998-2015.csv' -O \"data/ibtracs-japan-1998-2015.csv\""
      ],
      "metadata": {
        "colab": {
          "base_uri": "https://localhost:8080/"
        },
        "id": "aagctwh3UogU",
        "outputId": "ab810b0d-56d3-4ae0-8453-d188ff95d0b9"
      },
      "execution_count": 2,
      "outputs": [
        {
          "output_type": "stream",
          "name": "stdout",
          "text": [
            "mkdir: cannot create directory ‘data’: File exists\n",
            "--2023-01-19 21:39:12--  https://raw.githubusercontent.com/GGomez99/ds2-2023-Project2/main/project/arens-gomez-humeau-khieu/data/ibtracs-gulf%20of%20mexico-1998-2015.csv\n",
            "Resolving raw.githubusercontent.com (raw.githubusercontent.com)... 185.199.111.133, 185.199.109.133, 185.199.108.133, ...\n",
            "Connecting to raw.githubusercontent.com (raw.githubusercontent.com)|185.199.111.133|:443... connected.\n",
            "HTTP request sent, awaiting response... 200 OK\n",
            "Length: 235033 (230K) [text/plain]\n",
            "Saving to: ‘data/ibtracs-gulf of mexico-1998-2015.csv’\n",
            "\n",
            "data/ibtracs-gulf o 100%[===================>] 229.52K  --.-KB/s    in 0.03s   \n",
            "\n",
            "2023-01-19 21:39:12 (8.81 MB/s) - ‘data/ibtracs-gulf of mexico-1998-2015.csv’ saved [235033/235033]\n",
            "\n",
            "--2023-01-19 21:39:12--  https://raw.githubusercontent.com/GGomez99/ds2-2023-Project2/main/project/arens-gomez-humeau-khieu/data/ibtracs-japan-1998-2015.csv\n",
            "Resolving raw.githubusercontent.com (raw.githubusercontent.com)... 185.199.108.133, 185.199.109.133, 185.199.110.133, ...\n",
            "Connecting to raw.githubusercontent.com (raw.githubusercontent.com)|185.199.108.133|:443... connected.\n",
            "HTTP request sent, awaiting response... 200 OK\n",
            "Length: 553390 (540K) [text/plain]\n",
            "Saving to: ‘data/ibtracs-japan-1998-2015.csv’\n",
            "\n",
            "data/ibtracs-japan- 100%[===================>] 540.42K  --.-KB/s    in 0.04s   \n",
            "\n",
            "2023-01-19 21:39:13 (12.7 MB/s) - ‘data/ibtracs-japan-1998-2015.csv’ saved [553390/553390]\n",
            "\n"
          ]
        }
      ]
    },
    {
      "cell_type": "markdown",
      "source": [
        "## Parameters and variables"
      ],
      "metadata": {
        "id": "nqlP7KOvPlv-"
      }
    },
    {
      "cell_type": "code",
      "source": [
        "#Notebook parameters\n",
        "#zoneAnalysis = \"Japan\"\n",
        "zoneAnalysis = \"Gulf of Mexico\""
      ],
      "metadata": {
        "id": "X1SVb-OYMBOK"
      },
      "execution_count": 3,
      "outputs": []
    },
    {
      "cell_type": "code",
      "source": [
        "#usefull global variables\n",
        "maxLon, minLon, maxLat, minLat = 0,0,0,0\n",
        "minYear = 1998\n",
        "maxYear = 2015\n",
        "\n",
        "if (zoneAnalysis == \"Gulf of Mexico\"):\n",
        "    maxLon = 282\n",
        "    minLon = 256\n",
        "    maxLat = 32\n",
        "    minLat = 18\n",
        "else:\n",
        "    maxLon = 145\n",
        "    minLon = 120\n",
        "    maxLat = 40\n",
        "    minLat = 20"
      ],
      "metadata": {
        "id": "6athtBSOMg9R"
      },
      "execution_count": 4,
      "outputs": []
    },
    {
      "cell_type": "markdown",
      "source": [
        "## Initialisation & Data loading"
      ],
      "metadata": {
        "id": "Y7xNqnFyPo3p"
      }
    },
    {
      "cell_type": "code",
      "metadata": {
        "id": "PHwkL_9OtuBw",
        "colab": {
          "base_uri": "https://localhost:8080/"
        },
        "outputId": "1220335c-74ce-4328-8a33-1da28881e77a",
        "pycharm": {
          "name": "#%%\n"
        }
      },
      "source": [
        "!pip install basemap"
      ],
      "execution_count": 5,
      "outputs": [
        {
          "output_type": "stream",
          "name": "stdout",
          "text": [
            "Looking in indexes: https://pypi.org/simple, https://us-python.pkg.dev/colab-wheels/public/simple/\n",
            "Collecting basemap\n",
            "  Using cached basemap-1.3.6-cp38-cp38-manylinux1_x86_64.whl (863 kB)\n",
            "Requirement already satisfied: matplotlib<3.7,>=1.5 in /usr/local/lib/python3.8/dist-packages (from basemap) (3.2.2)\n",
            "Collecting basemap-data<1.4,>=1.3.2\n",
            "  Using cached basemap_data-1.3.2-py2.py3-none-any.whl (30.5 MB)\n",
            "Collecting numpy<1.24,>=1.22\n",
            "  Downloading numpy-1.23.5-cp38-cp38-manylinux_2_17_x86_64.manylinux2014_x86_64.whl (17.1 MB)\n",
            "\u001b[2K     \u001b[90m━━━━━━━━━━━━━━━━━━━━━━━━━━━━━━━━━━━━━━━━\u001b[0m \u001b[32m17.1/17.1 MB\u001b[0m \u001b[31m46.6 MB/s\u001b[0m eta \u001b[36m0:00:00\u001b[0m\n",
            "\u001b[?25hCollecting pyproj<3.5.0,>=1.9.3\n",
            "  Using cached pyproj-3.4.1-cp38-cp38-manylinux_2_17_x86_64.manylinux2014_x86_64.whl (7.8 MB)\n",
            "Collecting pyshp<2.4,>=1.2\n",
            "  Using cached pyshp-2.3.1-py2.py3-none-any.whl (46 kB)\n",
            "Requirement already satisfied: pyparsing!=2.0.4,!=2.1.2,!=2.1.6,>=2.0.1 in /usr/local/lib/python3.8/dist-packages (from matplotlib<3.7,>=1.5->basemap) (3.0.9)\n",
            "Requirement already satisfied: cycler>=0.10 in /usr/local/lib/python3.8/dist-packages (from matplotlib<3.7,>=1.5->basemap) (0.11.0)\n",
            "Requirement already satisfied: python-dateutil>=2.1 in /usr/local/lib/python3.8/dist-packages (from matplotlib<3.7,>=1.5->basemap) (2.8.2)\n",
            "Requirement already satisfied: kiwisolver>=1.0.1 in /usr/local/lib/python3.8/dist-packages (from matplotlib<3.7,>=1.5->basemap) (1.4.4)\n",
            "Requirement already satisfied: certifi in /usr/local/lib/python3.8/dist-packages (from pyproj<3.5.0,>=1.9.3->basemap) (2022.12.7)\n",
            "Requirement already satisfied: six>=1.5 in /usr/local/lib/python3.8/dist-packages (from python-dateutil>=2.1->matplotlib<3.7,>=1.5->basemap) (1.15.0)\n",
            "Installing collected packages: pyshp, pyproj, numpy, basemap-data, basemap\n",
            "  Attempting uninstall: numpy\n",
            "    Found existing installation: numpy 1.21.6\n",
            "    Uninstalling numpy-1.21.6:\n",
            "      Successfully uninstalled numpy-1.21.6\n",
            "\u001b[31mERROR: pip's dependency resolver does not currently take into account all the packages that are installed. This behaviour is the source of the following dependency conflicts.\n",
            "scipy 1.7.3 requires numpy<1.23.0,>=1.16.5, but you have numpy 1.23.5 which is incompatible.\u001b[0m\u001b[31m\n",
            "\u001b[0mSuccessfully installed basemap-1.3.6 basemap-data-1.3.2 numpy-1.23.5 pyproj-3.4.1 pyshp-2.3.1\n"
          ]
        }
      ]
    },
    {
      "cell_type": "code",
      "metadata": {
        "id": "7SYwR8rLjJ4T",
        "colab": {
          "base_uri": "https://localhost:8080/"
        },
        "outputId": "5d948454-658e-4148-da21-3cd609323c31",
        "pycharm": {
          "name": "#%%\n"
        }
      },
      "source": [
        "%matplotlib inline\n",
        "%pylab inline\n",
        "from mpl_toolkits.basemap import Basemap\n",
        "import sklearn\n",
        "import pandas as pd\n",
        "import numpy as np\n",
        "from scipy.stats.mstats import zscore\n",
        "import warnings, gc\n",
        "warnings.filterwarnings(\"ignore\") # disable warnings\n",
        "pylab.rcParams['figure.figsize']=(15,15) # graph size"
      ],
      "execution_count": 6,
      "outputs": [
        {
          "output_type": "stream",
          "name": "stdout",
          "text": [
            "Populating the interactive namespace from numpy and matplotlib\n"
          ]
        }
      ]
    },
    {
      "cell_type": "code",
      "metadata": {
        "id": "irVyDROljJ4X",
        "pycharm": {
          "name": "#%%\n"
        }
      },
      "source": [
        "# function to plot images  \n",
        "def plot_im(lon,lat,im,size_points,var_name):\n",
        "    \n",
        "    # transform to arrays (just in case)\n",
        "    lon=array(lon)\n",
        "    lat=array(lat)\n",
        "    im=array(im)\n",
        "    \n",
        "    if max(lon)-min(lon)<100:\n",
        "      # Mercator projection (for small zone)\n",
        "      m=Basemap(projection='merc',llcrnrlat=nanmin(lat),urcrnrlat=nanmax(lat),\\\n",
        "                llcrnrlon=nanmin(lon),urcrnrlon=nanmax(lon),lat_0=(nanmax(lat)+nanmin(lat))*0.5,\\\n",
        "                lon_0=(nanmax(lon)+nanmin(lon))*0.5,resolution='l')\n",
        "    else:\n",
        "      # Orthogonal projection (for large zone)\n",
        "      m=Basemap(projection='robin',lat_0=0,lon_0=0,resolution='l')\n",
        "    # you can use other projections (see https://matplotlib.org/basemap/users/mapsetup.html)\n",
        "    \n",
        "    # transform (lon,lat) to (x,y)\n",
        "    x,y=m(lon,lat)\n",
        "\n",
        "    # plot\n",
        "    #im=ma.masked_where(isnan(im),im)\n",
        "    res=m.scatter(x,y,size_points,im,'o',alpha=1,cmap='jet',lw=0)\n",
        "    m.drawcoastlines()\n",
        "    m.fillcontinents()\n",
        "    parallels = linspace(nanmin(lat),nanmax(lat),15)\n",
        "    meridians = linspace(nanmin(lon),nanmax(lon),15)\n",
        "    #m.drawparallels(parallels,labels=[1,0,0,1],fontsize=10)\n",
        "    #m.drawmeridians(meridians,labels=[1,0,0,1],fontsize=10)\n",
        "    cb=m.colorbar(res,location=\"right\")\n",
        "    cb.set_label(var_name,fontsize=15)\n",
        "    \n",
        "# function to plot time series\n",
        "def plot_ts(time,ts,line_type,var_name):\n",
        "\n",
        "    # plot\n",
        "    plot_date(time,ts,line_type)\n",
        "    xlabel('Time',fontsize=15)\n",
        "    ylabel(var_name,fontsize=15)"
      ],
      "execution_count": 7,
      "outputs": []
    },
    {
      "cell_type": "markdown",
      "metadata": {
        "id": "oC-kPabMjJ4Z",
        "pycharm": {
          "name": "#%% md\n"
        }
      },
      "source": [
        "**Connection to the GCP:**\n",
        "\n",
        "First, we have to connect to the Google Cloud Platform. Enter the login \"bigdataocean2020@gmail.com\" and password \"bdoimt2023\". Do it only once. We will maybe need an authentication: contact me at pierre.tandeo@imt-atlantique.fr."
      ]
    },
    {
      "cell_type": "code",
      "metadata": {
        "id": "XST81zP1ZS0i",
        "pycharm": {
          "name": "#%%\n"
        }
      },
      "source": [
        "import os\n",
        "os.environ['USE_AUTH_EPHEM'] = '0'\n",
        "\n",
        "from google.colab import auth\n",
        "auth.authenticate_user()"
      ],
      "execution_count": 8,
      "outputs": []
    },
    {
      "cell_type": "code",
      "source": [
        "params = {\"min_lat\": minLat, \"max_lat\": maxLat, \"min_lon\": minLon, \"max_lon\": maxLon}"
      ],
      "metadata": {
        "id": "a1UBZY3_NtjO"
      },
      "execution_count": 9,
      "outputs": []
    },
    {
      "cell_type": "markdown",
      "source": [
        "### SST & SSH request to bigquery database"
      ],
      "metadata": {
        "id": "EoTuaDJPP_ho"
      }
    },
    {
      "cell_type": "code",
      "metadata": {
        "id": "YZzH5UWaZ1zb",
        "colab": {
          "base_uri": "https://localhost:8080/",
          "height": 81,
          "referenced_widgets": [
            "a0db1715f599446d81af3b92a072469f",
            "917022b9ed914b2f88574979e2a642ae",
            "2c9468f9ad684aada4dd36773654d461",
            "6763e44cb4d44e629b2656dcf63ff739",
            "f9c06533a05e45489613490a24d841f7",
            "11fef33bfc524209a9f80dae0dec971a",
            "3b9ecbf290ca4598ab45eb3a35519378",
            "5abe6edd877d4c15af16c990be16a8a2",
            "2244ec2018764f048935a236d2a7d4bc",
            "5e566149e6414ee9aea0b397067c02c3",
            "0746301c1c5046edb32f280bdbbc2446",
            "ab22cceec15c45a1b3d8f1ce75e945ab",
            "ead5b071599848188896a2f275e39a65",
            "0845f8ccb8b04265a99dbce26314276c",
            "4abfde982105477c9d84f2015aae22f6",
            "e399e657c50f4cc8973278be3f80dadc",
            "d75ffb74a1164344b86ea39054ccd52a",
            "4e68ad8181644762bc3072aa5c7b19a5",
            "83fa61fd73884f92ab92d390648eb41a",
            "000695ca48b742539145afaf6887099c",
            "d412788116314f7283ca225576b0fdb9",
            "def9bef4fad6455ca792976094ef3d78"
          ]
        },
        "outputId": "e1d18809-e9da-40b6-c2b2-68a48449a743",
        "pycharm": {
          "name": "#%%\n"
        }
      },
      "source": [
        "%%bigquery output --project alert-ground-261008 --params $params\n",
        "SELECT ROUND(lon) as lon, ROUND(lat) as lat, year, month, day, AVG(sst) AS sst, AVG(ssh) AS ssh\n",
        "FROM bdo2020.bdo2020.1998_2015_withtimes\n",
        "WHERE lon>@min_lon AND lon<@max_lon AND lat>@min_lat AND lat<@max_lat\n",
        "GROUP BY ROUND(lon), ROUND(lat), year, month, day"
      ],
      "execution_count": 10,
      "outputs": [
        {
          "output_type": "display_data",
          "data": {
            "text/plain": [
              "Query is running:   0%|          |"
            ],
            "application/vnd.jupyter.widget-view+json": {
              "version_major": 2,
              "version_minor": 0,
              "model_id": "a0db1715f599446d81af3b92a072469f"
            }
          },
          "metadata": {}
        },
        {
          "output_type": "display_data",
          "data": {
            "text/plain": [
              "Downloading:   0%|          |"
            ],
            "application/vnd.jupyter.widget-view+json": {
              "version_major": 2,
              "version_minor": 0,
              "model_id": "ab22cceec15c45a1b3d8f1ce75e945ab"
            }
          },
          "metadata": {}
        }
      ]
    },
    {
      "cell_type": "markdown",
      "source": [
        "### IBTRACS data loading"
      ],
      "metadata": {
        "id": "szuIl01rQJLj"
      }
    },
    {
      "cell_type": "code",
      "source": [
        "#data loading from zone files\n",
        "cyclonesData: pd.DataFrame\n",
        "if (zoneAnalysis == \"Japan\"):\n",
        "    cyclonesData = pd.read_csv(\"data/ibtracs-japan-1998-2015.csv\")\n",
        "else:\n",
        "    cyclonesData = pd.read_csv(\"data/ibtracs-gulf of mexico-1998-2015.csv\")\n",
        "\n",
        "#time conversion\n",
        "cyclonesData.ISO_TIME = pd.to_datetime(cyclonesData.ISO_TIME)\n",
        "cyclonesData[\"NSEC_TIME\"] = cyclonesData.NSEC_TIME.astype(\"int64\")"
      ],
      "metadata": {
        "id": "CosSjF5vQI31"
      },
      "execution_count": 11,
      "outputs": []
    },
    {
      "cell_type": "markdown",
      "source": [
        "## Data formating & merging for final dataset"
      ],
      "metadata": {
        "id": "mQ-2WGo-Pi85"
      }
    },
    {
      "cell_type": "code",
      "source": [
        "output[\"ISO_TIME\"] = pd.to_datetime(output[['year','month','day']])\n",
        "output[\"NSEC_TIME\"] = output.ISO_TIME.astype(\"int64\")\n",
        "output.rename(columns={\"lon\": \"LON\", \"lat\": \"LAT\"}, inplace=True)\n",
        "output.head()"
      ],
      "metadata": {
        "id": "plPioCh2YQYW",
        "outputId": "301d67b9-f931-4a5c-f124-be71d1554c1f",
        "colab": {
          "base_uri": "https://localhost:8080/",
          "height": 206
        }
      },
      "execution_count": 12,
      "outputs": [
        {
          "output_type": "execute_result",
          "data": {
            "text/plain": [
              "     LON   LAT  year  month  day        sst       ssh   ISO_TIME  \\\n",
              "0  272.0  23.0  1998      1    2  23.953125  0.209775 1998-01-02   \n",
              "1  272.0  22.0  1998      8   31  29.062500  0.263825 1998-08-31   \n",
              "2  272.0  29.0  1999      1   31  21.730000  0.180493 1999-01-31   \n",
              "3  272.0  24.0  1999     10   24  27.684375  0.301375 1999-10-24   \n",
              "4  272.0  23.0  2000      3    3  24.618750  0.212488 2000-03-03   \n",
              "\n",
              "            NSEC_TIME  \n",
              "0  883699200000000000  \n",
              "1  904521600000000000  \n",
              "2  917740800000000000  \n",
              "3  940723200000000000  \n",
              "4  952041600000000000  "
            ],
            "text/html": [
              "\n",
              "  <div id=\"df-810c42a6-1392-446e-bd76-bb6a8b5a5d11\">\n",
              "    <div class=\"colab-df-container\">\n",
              "      <div>\n",
              "<style scoped>\n",
              "    .dataframe tbody tr th:only-of-type {\n",
              "        vertical-align: middle;\n",
              "    }\n",
              "\n",
              "    .dataframe tbody tr th {\n",
              "        vertical-align: top;\n",
              "    }\n",
              "\n",
              "    .dataframe thead th {\n",
              "        text-align: right;\n",
              "    }\n",
              "</style>\n",
              "<table border=\"1\" class=\"dataframe\">\n",
              "  <thead>\n",
              "    <tr style=\"text-align: right;\">\n",
              "      <th></th>\n",
              "      <th>LON</th>\n",
              "      <th>LAT</th>\n",
              "      <th>year</th>\n",
              "      <th>month</th>\n",
              "      <th>day</th>\n",
              "      <th>sst</th>\n",
              "      <th>ssh</th>\n",
              "      <th>ISO_TIME</th>\n",
              "      <th>NSEC_TIME</th>\n",
              "    </tr>\n",
              "  </thead>\n",
              "  <tbody>\n",
              "    <tr>\n",
              "      <th>0</th>\n",
              "      <td>272.0</td>\n",
              "      <td>23.0</td>\n",
              "      <td>1998</td>\n",
              "      <td>1</td>\n",
              "      <td>2</td>\n",
              "      <td>23.953125</td>\n",
              "      <td>0.209775</td>\n",
              "      <td>1998-01-02</td>\n",
              "      <td>883699200000000000</td>\n",
              "    </tr>\n",
              "    <tr>\n",
              "      <th>1</th>\n",
              "      <td>272.0</td>\n",
              "      <td>22.0</td>\n",
              "      <td>1998</td>\n",
              "      <td>8</td>\n",
              "      <td>31</td>\n",
              "      <td>29.062500</td>\n",
              "      <td>0.263825</td>\n",
              "      <td>1998-08-31</td>\n",
              "      <td>904521600000000000</td>\n",
              "    </tr>\n",
              "    <tr>\n",
              "      <th>2</th>\n",
              "      <td>272.0</td>\n",
              "      <td>29.0</td>\n",
              "      <td>1999</td>\n",
              "      <td>1</td>\n",
              "      <td>31</td>\n",
              "      <td>21.730000</td>\n",
              "      <td>0.180493</td>\n",
              "      <td>1999-01-31</td>\n",
              "      <td>917740800000000000</td>\n",
              "    </tr>\n",
              "    <tr>\n",
              "      <th>3</th>\n",
              "      <td>272.0</td>\n",
              "      <td>24.0</td>\n",
              "      <td>1999</td>\n",
              "      <td>10</td>\n",
              "      <td>24</td>\n",
              "      <td>27.684375</td>\n",
              "      <td>0.301375</td>\n",
              "      <td>1999-10-24</td>\n",
              "      <td>940723200000000000</td>\n",
              "    </tr>\n",
              "    <tr>\n",
              "      <th>4</th>\n",
              "      <td>272.0</td>\n",
              "      <td>23.0</td>\n",
              "      <td>2000</td>\n",
              "      <td>3</td>\n",
              "      <td>3</td>\n",
              "      <td>24.618750</td>\n",
              "      <td>0.212488</td>\n",
              "      <td>2000-03-03</td>\n",
              "      <td>952041600000000000</td>\n",
              "    </tr>\n",
              "  </tbody>\n",
              "</table>\n",
              "</div>\n",
              "      <button class=\"colab-df-convert\" onclick=\"convertToInteractive('df-810c42a6-1392-446e-bd76-bb6a8b5a5d11')\"\n",
              "              title=\"Convert this dataframe to an interactive table.\"\n",
              "              style=\"display:none;\">\n",
              "        \n",
              "  <svg xmlns=\"http://www.w3.org/2000/svg\" height=\"24px\"viewBox=\"0 0 24 24\"\n",
              "       width=\"24px\">\n",
              "    <path d=\"M0 0h24v24H0V0z\" fill=\"none\"/>\n",
              "    <path d=\"M18.56 5.44l.94 2.06.94-2.06 2.06-.94-2.06-.94-.94-2.06-.94 2.06-2.06.94zm-11 1L8.5 8.5l.94-2.06 2.06-.94-2.06-.94L8.5 2.5l-.94 2.06-2.06.94zm10 10l.94 2.06.94-2.06 2.06-.94-2.06-.94-.94-2.06-.94 2.06-2.06.94z\"/><path d=\"M17.41 7.96l-1.37-1.37c-.4-.4-.92-.59-1.43-.59-.52 0-1.04.2-1.43.59L10.3 9.45l-7.72 7.72c-.78.78-.78 2.05 0 2.83L4 21.41c.39.39.9.59 1.41.59.51 0 1.02-.2 1.41-.59l7.78-7.78 2.81-2.81c.8-.78.8-2.07 0-2.86zM5.41 20L4 18.59l7.72-7.72 1.47 1.35L5.41 20z\"/>\n",
              "  </svg>\n",
              "      </button>\n",
              "      \n",
              "  <style>\n",
              "    .colab-df-container {\n",
              "      display:flex;\n",
              "      flex-wrap:wrap;\n",
              "      gap: 12px;\n",
              "    }\n",
              "\n",
              "    .colab-df-convert {\n",
              "      background-color: #E8F0FE;\n",
              "      border: none;\n",
              "      border-radius: 50%;\n",
              "      cursor: pointer;\n",
              "      display: none;\n",
              "      fill: #1967D2;\n",
              "      height: 32px;\n",
              "      padding: 0 0 0 0;\n",
              "      width: 32px;\n",
              "    }\n",
              "\n",
              "    .colab-df-convert:hover {\n",
              "      background-color: #E2EBFA;\n",
              "      box-shadow: 0px 1px 2px rgba(60, 64, 67, 0.3), 0px 1px 3px 1px rgba(60, 64, 67, 0.15);\n",
              "      fill: #174EA6;\n",
              "    }\n",
              "\n",
              "    [theme=dark] .colab-df-convert {\n",
              "      background-color: #3B4455;\n",
              "      fill: #D2E3FC;\n",
              "    }\n",
              "\n",
              "    [theme=dark] .colab-df-convert:hover {\n",
              "      background-color: #434B5C;\n",
              "      box-shadow: 0px 1px 3px 1px rgba(0, 0, 0, 0.15);\n",
              "      filter: drop-shadow(0px 1px 2px rgba(0, 0, 0, 0.3));\n",
              "      fill: #FFFFFF;\n",
              "    }\n",
              "  </style>\n",
              "\n",
              "      <script>\n",
              "        const buttonEl =\n",
              "          document.querySelector('#df-810c42a6-1392-446e-bd76-bb6a8b5a5d11 button.colab-df-convert');\n",
              "        buttonEl.style.display =\n",
              "          google.colab.kernel.accessAllowed ? 'block' : 'none';\n",
              "\n",
              "        async function convertToInteractive(key) {\n",
              "          const element = document.querySelector('#df-810c42a6-1392-446e-bd76-bb6a8b5a5d11');\n",
              "          const dataTable =\n",
              "            await google.colab.kernel.invokeFunction('convertToInteractive',\n",
              "                                                     [key], {});\n",
              "          if (!dataTable) return;\n",
              "\n",
              "          const docLinkHtml = 'Like what you see? Visit the ' +\n",
              "            '<a target=\"_blank\" href=https://colab.research.google.com/notebooks/data_table.ipynb>data table notebook</a>'\n",
              "            + ' to learn more about interactive tables.';\n",
              "          element.innerHTML = '';\n",
              "          dataTable['output_type'] = 'display_data';\n",
              "          await google.colab.output.renderOutput(dataTable, element);\n",
              "          const docLink = document.createElement('div');\n",
              "          docLink.innerHTML = docLinkHtml;\n",
              "          element.appendChild(docLink);\n",
              "        }\n",
              "      </script>\n",
              "    </div>\n",
              "  </div>\n",
              "  "
            ]
          },
          "metadata": {},
          "execution_count": 12
        }
      ]
    },
    {
      "cell_type": "code",
      "source": [
        "coordDegreeMultiple = 0.250\n",
        "\n",
        "cyclonesData.ISO_TIME = pd.to_datetime(cyclonesData.ISO_TIME.dt.date)\n",
        "cyclonesData[\"CYCLONE_PRESENT\"] = 1\n",
        "cyclonesData[[\"LAT\", \"LON\"]] = cyclonesData[[\"LAT\", \"LON\"]].round()\n",
        "\"\"\"cyclonesData[[\"LAT\", \"LON\"]] = (cyclonesData[[\"LAT\", \"LON\"]] - coordDegreeMultiple/2) / coordDegreeMultiple\n",
        "cyclonesData[[\"LAT\", \"LON\"]] = cyclonesData[[\"LAT\", \"LON\"]].round()\n",
        "cyclonesData[[\"LAT\", \"LON\"]] = cyclonesData[[\"LAT\", \"LON\"]] * coordDegreeMultiple + coordDegreeMultiple/2\"\"\"\n",
        "cyclonesData.head()"
      ],
      "metadata": {
        "id": "ms3ncM8TLuXA",
        "outputId": "dc5bdc02-210b-4297-ef49-68560eb3d091",
        "colab": {
          "base_uri": "https://localhost:8080/",
          "height": 206
        }
      },
      "execution_count": 13,
      "outputs": [
        {
          "output_type": "execute_result",
          "data": {
            "text/plain": [
              "    LAT    LON            SID  USA_WIND CATEGORY           NSEC_TIME  \\\n",
              "0  25.0  268.0  1998233N25268      25.0       TD  903679200000000000   \n",
              "1  25.0  267.0  1998233N25268      27.0       TD  903690000000000000   \n",
              "2  25.0  266.0  1998233N25268      30.0       TD  903700800000000000   \n",
              "3  26.0  266.0  1998233N25268      35.0       TS  903711600000000000   \n",
              "4  26.0  266.0  1998233N25268      40.0       TS  903722400000000000   \n",
              "\n",
              "    ISO_TIME  CYCLONE_PRESENT  \n",
              "0 1998-08-21                1  \n",
              "1 1998-08-21                1  \n",
              "2 1998-08-21                1  \n",
              "3 1998-08-21                1  \n",
              "4 1998-08-21                1  "
            ],
            "text/html": [
              "\n",
              "  <div id=\"df-4d2b1849-b1e0-4d47-8785-482035328830\">\n",
              "    <div class=\"colab-df-container\">\n",
              "      <div>\n",
              "<style scoped>\n",
              "    .dataframe tbody tr th:only-of-type {\n",
              "        vertical-align: middle;\n",
              "    }\n",
              "\n",
              "    .dataframe tbody tr th {\n",
              "        vertical-align: top;\n",
              "    }\n",
              "\n",
              "    .dataframe thead th {\n",
              "        text-align: right;\n",
              "    }\n",
              "</style>\n",
              "<table border=\"1\" class=\"dataframe\">\n",
              "  <thead>\n",
              "    <tr style=\"text-align: right;\">\n",
              "      <th></th>\n",
              "      <th>LAT</th>\n",
              "      <th>LON</th>\n",
              "      <th>SID</th>\n",
              "      <th>USA_WIND</th>\n",
              "      <th>CATEGORY</th>\n",
              "      <th>NSEC_TIME</th>\n",
              "      <th>ISO_TIME</th>\n",
              "      <th>CYCLONE_PRESENT</th>\n",
              "    </tr>\n",
              "  </thead>\n",
              "  <tbody>\n",
              "    <tr>\n",
              "      <th>0</th>\n",
              "      <td>25.0</td>\n",
              "      <td>268.0</td>\n",
              "      <td>1998233N25268</td>\n",
              "      <td>25.0</td>\n",
              "      <td>TD</td>\n",
              "      <td>903679200000000000</td>\n",
              "      <td>1998-08-21</td>\n",
              "      <td>1</td>\n",
              "    </tr>\n",
              "    <tr>\n",
              "      <th>1</th>\n",
              "      <td>25.0</td>\n",
              "      <td>267.0</td>\n",
              "      <td>1998233N25268</td>\n",
              "      <td>27.0</td>\n",
              "      <td>TD</td>\n",
              "      <td>903690000000000000</td>\n",
              "      <td>1998-08-21</td>\n",
              "      <td>1</td>\n",
              "    </tr>\n",
              "    <tr>\n",
              "      <th>2</th>\n",
              "      <td>25.0</td>\n",
              "      <td>266.0</td>\n",
              "      <td>1998233N25268</td>\n",
              "      <td>30.0</td>\n",
              "      <td>TD</td>\n",
              "      <td>903700800000000000</td>\n",
              "      <td>1998-08-21</td>\n",
              "      <td>1</td>\n",
              "    </tr>\n",
              "    <tr>\n",
              "      <th>3</th>\n",
              "      <td>26.0</td>\n",
              "      <td>266.0</td>\n",
              "      <td>1998233N25268</td>\n",
              "      <td>35.0</td>\n",
              "      <td>TS</td>\n",
              "      <td>903711600000000000</td>\n",
              "      <td>1998-08-21</td>\n",
              "      <td>1</td>\n",
              "    </tr>\n",
              "    <tr>\n",
              "      <th>4</th>\n",
              "      <td>26.0</td>\n",
              "      <td>266.0</td>\n",
              "      <td>1998233N25268</td>\n",
              "      <td>40.0</td>\n",
              "      <td>TS</td>\n",
              "      <td>903722400000000000</td>\n",
              "      <td>1998-08-21</td>\n",
              "      <td>1</td>\n",
              "    </tr>\n",
              "  </tbody>\n",
              "</table>\n",
              "</div>\n",
              "      <button class=\"colab-df-convert\" onclick=\"convertToInteractive('df-4d2b1849-b1e0-4d47-8785-482035328830')\"\n",
              "              title=\"Convert this dataframe to an interactive table.\"\n",
              "              style=\"display:none;\">\n",
              "        \n",
              "  <svg xmlns=\"http://www.w3.org/2000/svg\" height=\"24px\"viewBox=\"0 0 24 24\"\n",
              "       width=\"24px\">\n",
              "    <path d=\"M0 0h24v24H0V0z\" fill=\"none\"/>\n",
              "    <path d=\"M18.56 5.44l.94 2.06.94-2.06 2.06-.94-2.06-.94-.94-2.06-.94 2.06-2.06.94zm-11 1L8.5 8.5l.94-2.06 2.06-.94-2.06-.94L8.5 2.5l-.94 2.06-2.06.94zm10 10l.94 2.06.94-2.06 2.06-.94-2.06-.94-.94-2.06-.94 2.06-2.06.94z\"/><path d=\"M17.41 7.96l-1.37-1.37c-.4-.4-.92-.59-1.43-.59-.52 0-1.04.2-1.43.59L10.3 9.45l-7.72 7.72c-.78.78-.78 2.05 0 2.83L4 21.41c.39.39.9.59 1.41.59.51 0 1.02-.2 1.41-.59l7.78-7.78 2.81-2.81c.8-.78.8-2.07 0-2.86zM5.41 20L4 18.59l7.72-7.72 1.47 1.35L5.41 20z\"/>\n",
              "  </svg>\n",
              "      </button>\n",
              "      \n",
              "  <style>\n",
              "    .colab-df-container {\n",
              "      display:flex;\n",
              "      flex-wrap:wrap;\n",
              "      gap: 12px;\n",
              "    }\n",
              "\n",
              "    .colab-df-convert {\n",
              "      background-color: #E8F0FE;\n",
              "      border: none;\n",
              "      border-radius: 50%;\n",
              "      cursor: pointer;\n",
              "      display: none;\n",
              "      fill: #1967D2;\n",
              "      height: 32px;\n",
              "      padding: 0 0 0 0;\n",
              "      width: 32px;\n",
              "    }\n",
              "\n",
              "    .colab-df-convert:hover {\n",
              "      background-color: #E2EBFA;\n",
              "      box-shadow: 0px 1px 2px rgba(60, 64, 67, 0.3), 0px 1px 3px 1px rgba(60, 64, 67, 0.15);\n",
              "      fill: #174EA6;\n",
              "    }\n",
              "\n",
              "    [theme=dark] .colab-df-convert {\n",
              "      background-color: #3B4455;\n",
              "      fill: #D2E3FC;\n",
              "    }\n",
              "\n",
              "    [theme=dark] .colab-df-convert:hover {\n",
              "      background-color: #434B5C;\n",
              "      box-shadow: 0px 1px 3px 1px rgba(0, 0, 0, 0.15);\n",
              "      filter: drop-shadow(0px 1px 2px rgba(0, 0, 0, 0.3));\n",
              "      fill: #FFFFFF;\n",
              "    }\n",
              "  </style>\n",
              "\n",
              "      <script>\n",
              "        const buttonEl =\n",
              "          document.querySelector('#df-4d2b1849-b1e0-4d47-8785-482035328830 button.colab-df-convert');\n",
              "        buttonEl.style.display =\n",
              "          google.colab.kernel.accessAllowed ? 'block' : 'none';\n",
              "\n",
              "        async function convertToInteractive(key) {\n",
              "          const element = document.querySelector('#df-4d2b1849-b1e0-4d47-8785-482035328830');\n",
              "          const dataTable =\n",
              "            await google.colab.kernel.invokeFunction('convertToInteractive',\n",
              "                                                     [key], {});\n",
              "          if (!dataTable) return;\n",
              "\n",
              "          const docLinkHtml = 'Like what you see? Visit the ' +\n",
              "            '<a target=\"_blank\" href=https://colab.research.google.com/notebooks/data_table.ipynb>data table notebook</a>'\n",
              "            + ' to learn more about interactive tables.';\n",
              "          element.innerHTML = '';\n",
              "          dataTable['output_type'] = 'display_data';\n",
              "          await google.colab.output.renderOutput(dataTable, element);\n",
              "          const docLink = document.createElement('div');\n",
              "          docLink.innerHTML = docLinkHtml;\n",
              "          element.appendChild(docLink);\n",
              "        }\n",
              "      </script>\n",
              "    </div>\n",
              "  </div>\n",
              "  "
            ]
          },
          "metadata": {},
          "execution_count": 13
        }
      ]
    },
    {
      "cell_type": "code",
      "source": [
        "finalData = pd.merge(left=output, right=cyclonesData[['LON', 'LAT', \"ISO_TIME\", \"CYCLONE_PRESENT\", \"SID\"]], how=\"left\", on=['LON', 'LAT','ISO_TIME'])\n",
        "finalData.head()"
      ],
      "metadata": {
        "id": "fX6OWZxpQ1AG",
        "colab": {
          "base_uri": "https://localhost:8080/",
          "height": 206
        },
        "outputId": "1f192618-f18a-42fe-e7bd-f7c7231fe7e6"
      },
      "execution_count": 14,
      "outputs": [
        {
          "output_type": "execute_result",
          "data": {
            "text/plain": [
              "     LON   LAT  year  month  day        sst       ssh   ISO_TIME  \\\n",
              "0  272.0  23.0  1998      1    2  23.953125  0.209775 1998-01-02   \n",
              "1  272.0  22.0  1998      8   31  29.062500  0.263825 1998-08-31   \n",
              "2  272.0  29.0  1999      1   31  21.730000  0.180493 1999-01-31   \n",
              "3  272.0  24.0  1999     10   24  27.684375  0.301375 1999-10-24   \n",
              "4  272.0  23.0  2000      3    3  24.618750  0.212488 2000-03-03   \n",
              "\n",
              "            NSEC_TIME  CYCLONE_PRESENT  SID  \n",
              "0  883699200000000000              NaN  NaN  \n",
              "1  904521600000000000              NaN  NaN  \n",
              "2  917740800000000000              NaN  NaN  \n",
              "3  940723200000000000              NaN  NaN  \n",
              "4  952041600000000000              NaN  NaN  "
            ],
            "text/html": [
              "\n",
              "  <div id=\"df-e70f9f7a-b5c2-4ef4-b8ce-2a5a88db9560\">\n",
              "    <div class=\"colab-df-container\">\n",
              "      <div>\n",
              "<style scoped>\n",
              "    .dataframe tbody tr th:only-of-type {\n",
              "        vertical-align: middle;\n",
              "    }\n",
              "\n",
              "    .dataframe tbody tr th {\n",
              "        vertical-align: top;\n",
              "    }\n",
              "\n",
              "    .dataframe thead th {\n",
              "        text-align: right;\n",
              "    }\n",
              "</style>\n",
              "<table border=\"1\" class=\"dataframe\">\n",
              "  <thead>\n",
              "    <tr style=\"text-align: right;\">\n",
              "      <th></th>\n",
              "      <th>LON</th>\n",
              "      <th>LAT</th>\n",
              "      <th>year</th>\n",
              "      <th>month</th>\n",
              "      <th>day</th>\n",
              "      <th>sst</th>\n",
              "      <th>ssh</th>\n",
              "      <th>ISO_TIME</th>\n",
              "      <th>NSEC_TIME</th>\n",
              "      <th>CYCLONE_PRESENT</th>\n",
              "      <th>SID</th>\n",
              "    </tr>\n",
              "  </thead>\n",
              "  <tbody>\n",
              "    <tr>\n",
              "      <th>0</th>\n",
              "      <td>272.0</td>\n",
              "      <td>23.0</td>\n",
              "      <td>1998</td>\n",
              "      <td>1</td>\n",
              "      <td>2</td>\n",
              "      <td>23.953125</td>\n",
              "      <td>0.209775</td>\n",
              "      <td>1998-01-02</td>\n",
              "      <td>883699200000000000</td>\n",
              "      <td>NaN</td>\n",
              "      <td>NaN</td>\n",
              "    </tr>\n",
              "    <tr>\n",
              "      <th>1</th>\n",
              "      <td>272.0</td>\n",
              "      <td>22.0</td>\n",
              "      <td>1998</td>\n",
              "      <td>8</td>\n",
              "      <td>31</td>\n",
              "      <td>29.062500</td>\n",
              "      <td>0.263825</td>\n",
              "      <td>1998-08-31</td>\n",
              "      <td>904521600000000000</td>\n",
              "      <td>NaN</td>\n",
              "      <td>NaN</td>\n",
              "    </tr>\n",
              "    <tr>\n",
              "      <th>2</th>\n",
              "      <td>272.0</td>\n",
              "      <td>29.0</td>\n",
              "      <td>1999</td>\n",
              "      <td>1</td>\n",
              "      <td>31</td>\n",
              "      <td>21.730000</td>\n",
              "      <td>0.180493</td>\n",
              "      <td>1999-01-31</td>\n",
              "      <td>917740800000000000</td>\n",
              "      <td>NaN</td>\n",
              "      <td>NaN</td>\n",
              "    </tr>\n",
              "    <tr>\n",
              "      <th>3</th>\n",
              "      <td>272.0</td>\n",
              "      <td>24.0</td>\n",
              "      <td>1999</td>\n",
              "      <td>10</td>\n",
              "      <td>24</td>\n",
              "      <td>27.684375</td>\n",
              "      <td>0.301375</td>\n",
              "      <td>1999-10-24</td>\n",
              "      <td>940723200000000000</td>\n",
              "      <td>NaN</td>\n",
              "      <td>NaN</td>\n",
              "    </tr>\n",
              "    <tr>\n",
              "      <th>4</th>\n",
              "      <td>272.0</td>\n",
              "      <td>23.0</td>\n",
              "      <td>2000</td>\n",
              "      <td>3</td>\n",
              "      <td>3</td>\n",
              "      <td>24.618750</td>\n",
              "      <td>0.212488</td>\n",
              "      <td>2000-03-03</td>\n",
              "      <td>952041600000000000</td>\n",
              "      <td>NaN</td>\n",
              "      <td>NaN</td>\n",
              "    </tr>\n",
              "  </tbody>\n",
              "</table>\n",
              "</div>\n",
              "      <button class=\"colab-df-convert\" onclick=\"convertToInteractive('df-e70f9f7a-b5c2-4ef4-b8ce-2a5a88db9560')\"\n",
              "              title=\"Convert this dataframe to an interactive table.\"\n",
              "              style=\"display:none;\">\n",
              "        \n",
              "  <svg xmlns=\"http://www.w3.org/2000/svg\" height=\"24px\"viewBox=\"0 0 24 24\"\n",
              "       width=\"24px\">\n",
              "    <path d=\"M0 0h24v24H0V0z\" fill=\"none\"/>\n",
              "    <path d=\"M18.56 5.44l.94 2.06.94-2.06 2.06-.94-2.06-.94-.94-2.06-.94 2.06-2.06.94zm-11 1L8.5 8.5l.94-2.06 2.06-.94-2.06-.94L8.5 2.5l-.94 2.06-2.06.94zm10 10l.94 2.06.94-2.06 2.06-.94-2.06-.94-.94-2.06-.94 2.06-2.06.94z\"/><path d=\"M17.41 7.96l-1.37-1.37c-.4-.4-.92-.59-1.43-.59-.52 0-1.04.2-1.43.59L10.3 9.45l-7.72 7.72c-.78.78-.78 2.05 0 2.83L4 21.41c.39.39.9.59 1.41.59.51 0 1.02-.2 1.41-.59l7.78-7.78 2.81-2.81c.8-.78.8-2.07 0-2.86zM5.41 20L4 18.59l7.72-7.72 1.47 1.35L5.41 20z\"/>\n",
              "  </svg>\n",
              "      </button>\n",
              "      \n",
              "  <style>\n",
              "    .colab-df-container {\n",
              "      display:flex;\n",
              "      flex-wrap:wrap;\n",
              "      gap: 12px;\n",
              "    }\n",
              "\n",
              "    .colab-df-convert {\n",
              "      background-color: #E8F0FE;\n",
              "      border: none;\n",
              "      border-radius: 50%;\n",
              "      cursor: pointer;\n",
              "      display: none;\n",
              "      fill: #1967D2;\n",
              "      height: 32px;\n",
              "      padding: 0 0 0 0;\n",
              "      width: 32px;\n",
              "    }\n",
              "\n",
              "    .colab-df-convert:hover {\n",
              "      background-color: #E2EBFA;\n",
              "      box-shadow: 0px 1px 2px rgba(60, 64, 67, 0.3), 0px 1px 3px 1px rgba(60, 64, 67, 0.15);\n",
              "      fill: #174EA6;\n",
              "    }\n",
              "\n",
              "    [theme=dark] .colab-df-convert {\n",
              "      background-color: #3B4455;\n",
              "      fill: #D2E3FC;\n",
              "    }\n",
              "\n",
              "    [theme=dark] .colab-df-convert:hover {\n",
              "      background-color: #434B5C;\n",
              "      box-shadow: 0px 1px 3px 1px rgba(0, 0, 0, 0.15);\n",
              "      filter: drop-shadow(0px 1px 2px rgba(0, 0, 0, 0.3));\n",
              "      fill: #FFFFFF;\n",
              "    }\n",
              "  </style>\n",
              "\n",
              "      <script>\n",
              "        const buttonEl =\n",
              "          document.querySelector('#df-e70f9f7a-b5c2-4ef4-b8ce-2a5a88db9560 button.colab-df-convert');\n",
              "        buttonEl.style.display =\n",
              "          google.colab.kernel.accessAllowed ? 'block' : 'none';\n",
              "\n",
              "        async function convertToInteractive(key) {\n",
              "          const element = document.querySelector('#df-e70f9f7a-b5c2-4ef4-b8ce-2a5a88db9560');\n",
              "          const dataTable =\n",
              "            await google.colab.kernel.invokeFunction('convertToInteractive',\n",
              "                                                     [key], {});\n",
              "          if (!dataTable) return;\n",
              "\n",
              "          const docLinkHtml = 'Like what you see? Visit the ' +\n",
              "            '<a target=\"_blank\" href=https://colab.research.google.com/notebooks/data_table.ipynb>data table notebook</a>'\n",
              "            + ' to learn more about interactive tables.';\n",
              "          element.innerHTML = '';\n",
              "          dataTable['output_type'] = 'display_data';\n",
              "          await google.colab.output.renderOutput(dataTable, element);\n",
              "          const docLink = document.createElement('div');\n",
              "          docLink.innerHTML = docLinkHtml;\n",
              "          element.appendChild(docLink);\n",
              "        }\n",
              "      </script>\n",
              "    </div>\n",
              "  </div>\n",
              "  "
            ]
          },
          "metadata": {},
          "execution_count": 14
        }
      ]
    },
    {
      "cell_type": "code",
      "source": [
        "print(\"From all unique cyclones :\",cyclonesData[\"SID\"].nunique())\n",
        "print(finalData[\"SID\"].nunique(), \"were matched in the sst/ssh dataset\")"
      ],
      "metadata": {
        "id": "ABaIGu08Q3mV",
        "outputId": "7aeb0d48-dc38-4623-b746-e20054964963",
        "colab": {
          "base_uri": "https://localhost:8080/"
        }
      },
      "execution_count": 15,
      "outputs": [
        {
          "output_type": "stream",
          "name": "stdout",
          "text": [
            "From all unique cyclones : 134\n",
            "121 were matched in the sst/ssh dataset\n"
          ]
        }
      ]
    },
    {
      "cell_type": "markdown",
      "source": [
        "Here, we found that not all cyclones in the selected area are matched with the uniform and complete data.\n",
        "The following code shows why :"
      ],
      "metadata": {
        "id": "XDy4C519SFVB"
      }
    },
    {
      "cell_type": "code",
      "source": [
        "cyclonePoints = finalData[finalData[\"SID\"].isna() == False][['LAT', 'LON', 'SID', 'ISO_TIME', \"sst\"]]\n",
        "cyclonesWithSST = pd.merge(left=cyclonesData, right=cyclonePoints, how=\"left\", on=['LAT', 'LON', 'SID', 'ISO_TIME'])\n",
        "cyclonesWithSST.head()"
      ],
      "metadata": {
        "colab": {
          "base_uri": "https://localhost:8080/",
          "height": 206
        },
        "id": "5K2YREy5MYdB",
        "outputId": "4687c03b-78de-46b7-b24f-d5ae0f36c4ee"
      },
      "execution_count": 16,
      "outputs": [
        {
          "output_type": "execute_result",
          "data": {
            "text/plain": [
              "    LAT    LON            SID  USA_WIND CATEGORY           NSEC_TIME  \\\n",
              "0  25.0  268.0  1998233N25268      25.0       TD  903679200000000000   \n",
              "1  25.0  267.0  1998233N25268      27.0       TD  903690000000000000   \n",
              "2  25.0  266.0  1998233N25268      30.0       TD  903700800000000000   \n",
              "3  26.0  266.0  1998233N25268      35.0       TS  903711600000000000   \n",
              "4  26.0  266.0  1998233N25268      35.0       TS  903711600000000000   \n",
              "\n",
              "    ISO_TIME  CYCLONE_PRESENT        sst  \n",
              "0 1998-08-21                1  30.496875  \n",
              "1 1998-08-21                1  30.534375  \n",
              "2 1998-08-21                1  30.496875  \n",
              "3 1998-08-21                1  30.234375  \n",
              "4 1998-08-21                1  30.234375  "
            ],
            "text/html": [
              "\n",
              "  <div id=\"df-c078595c-bdee-48d5-b1f5-44ac6ce1df03\">\n",
              "    <div class=\"colab-df-container\">\n",
              "      <div>\n",
              "<style scoped>\n",
              "    .dataframe tbody tr th:only-of-type {\n",
              "        vertical-align: middle;\n",
              "    }\n",
              "\n",
              "    .dataframe tbody tr th {\n",
              "        vertical-align: top;\n",
              "    }\n",
              "\n",
              "    .dataframe thead th {\n",
              "        text-align: right;\n",
              "    }\n",
              "</style>\n",
              "<table border=\"1\" class=\"dataframe\">\n",
              "  <thead>\n",
              "    <tr style=\"text-align: right;\">\n",
              "      <th></th>\n",
              "      <th>LAT</th>\n",
              "      <th>LON</th>\n",
              "      <th>SID</th>\n",
              "      <th>USA_WIND</th>\n",
              "      <th>CATEGORY</th>\n",
              "      <th>NSEC_TIME</th>\n",
              "      <th>ISO_TIME</th>\n",
              "      <th>CYCLONE_PRESENT</th>\n",
              "      <th>sst</th>\n",
              "    </tr>\n",
              "  </thead>\n",
              "  <tbody>\n",
              "    <tr>\n",
              "      <th>0</th>\n",
              "      <td>25.0</td>\n",
              "      <td>268.0</td>\n",
              "      <td>1998233N25268</td>\n",
              "      <td>25.0</td>\n",
              "      <td>TD</td>\n",
              "      <td>903679200000000000</td>\n",
              "      <td>1998-08-21</td>\n",
              "      <td>1</td>\n",
              "      <td>30.496875</td>\n",
              "    </tr>\n",
              "    <tr>\n",
              "      <th>1</th>\n",
              "      <td>25.0</td>\n",
              "      <td>267.0</td>\n",
              "      <td>1998233N25268</td>\n",
              "      <td>27.0</td>\n",
              "      <td>TD</td>\n",
              "      <td>903690000000000000</td>\n",
              "      <td>1998-08-21</td>\n",
              "      <td>1</td>\n",
              "      <td>30.534375</td>\n",
              "    </tr>\n",
              "    <tr>\n",
              "      <th>2</th>\n",
              "      <td>25.0</td>\n",
              "      <td>266.0</td>\n",
              "      <td>1998233N25268</td>\n",
              "      <td>30.0</td>\n",
              "      <td>TD</td>\n",
              "      <td>903700800000000000</td>\n",
              "      <td>1998-08-21</td>\n",
              "      <td>1</td>\n",
              "      <td>30.496875</td>\n",
              "    </tr>\n",
              "    <tr>\n",
              "      <th>3</th>\n",
              "      <td>26.0</td>\n",
              "      <td>266.0</td>\n",
              "      <td>1998233N25268</td>\n",
              "      <td>35.0</td>\n",
              "      <td>TS</td>\n",
              "      <td>903711600000000000</td>\n",
              "      <td>1998-08-21</td>\n",
              "      <td>1</td>\n",
              "      <td>30.234375</td>\n",
              "    </tr>\n",
              "    <tr>\n",
              "      <th>4</th>\n",
              "      <td>26.0</td>\n",
              "      <td>266.0</td>\n",
              "      <td>1998233N25268</td>\n",
              "      <td>35.0</td>\n",
              "      <td>TS</td>\n",
              "      <td>903711600000000000</td>\n",
              "      <td>1998-08-21</td>\n",
              "      <td>1</td>\n",
              "      <td>30.234375</td>\n",
              "    </tr>\n",
              "  </tbody>\n",
              "</table>\n",
              "</div>\n",
              "      <button class=\"colab-df-convert\" onclick=\"convertToInteractive('df-c078595c-bdee-48d5-b1f5-44ac6ce1df03')\"\n",
              "              title=\"Convert this dataframe to an interactive table.\"\n",
              "              style=\"display:none;\">\n",
              "        \n",
              "  <svg xmlns=\"http://www.w3.org/2000/svg\" height=\"24px\"viewBox=\"0 0 24 24\"\n",
              "       width=\"24px\">\n",
              "    <path d=\"M0 0h24v24H0V0z\" fill=\"none\"/>\n",
              "    <path d=\"M18.56 5.44l.94 2.06.94-2.06 2.06-.94-2.06-.94-.94-2.06-.94 2.06-2.06.94zm-11 1L8.5 8.5l.94-2.06 2.06-.94-2.06-.94L8.5 2.5l-.94 2.06-2.06.94zm10 10l.94 2.06.94-2.06 2.06-.94-2.06-.94-.94-2.06-.94 2.06-2.06.94z\"/><path d=\"M17.41 7.96l-1.37-1.37c-.4-.4-.92-.59-1.43-.59-.52 0-1.04.2-1.43.59L10.3 9.45l-7.72 7.72c-.78.78-.78 2.05 0 2.83L4 21.41c.39.39.9.59 1.41.59.51 0 1.02-.2 1.41-.59l7.78-7.78 2.81-2.81c.8-.78.8-2.07 0-2.86zM5.41 20L4 18.59l7.72-7.72 1.47 1.35L5.41 20z\"/>\n",
              "  </svg>\n",
              "      </button>\n",
              "      \n",
              "  <style>\n",
              "    .colab-df-container {\n",
              "      display:flex;\n",
              "      flex-wrap:wrap;\n",
              "      gap: 12px;\n",
              "    }\n",
              "\n",
              "    .colab-df-convert {\n",
              "      background-color: #E8F0FE;\n",
              "      border: none;\n",
              "      border-radius: 50%;\n",
              "      cursor: pointer;\n",
              "      display: none;\n",
              "      fill: #1967D2;\n",
              "      height: 32px;\n",
              "      padding: 0 0 0 0;\n",
              "      width: 32px;\n",
              "    }\n",
              "\n",
              "    .colab-df-convert:hover {\n",
              "      background-color: #E2EBFA;\n",
              "      box-shadow: 0px 1px 2px rgba(60, 64, 67, 0.3), 0px 1px 3px 1px rgba(60, 64, 67, 0.15);\n",
              "      fill: #174EA6;\n",
              "    }\n",
              "\n",
              "    [theme=dark] .colab-df-convert {\n",
              "      background-color: #3B4455;\n",
              "      fill: #D2E3FC;\n",
              "    }\n",
              "\n",
              "    [theme=dark] .colab-df-convert:hover {\n",
              "      background-color: #434B5C;\n",
              "      box-shadow: 0px 1px 3px 1px rgba(0, 0, 0, 0.15);\n",
              "      filter: drop-shadow(0px 1px 2px rgba(0, 0, 0, 0.3));\n",
              "      fill: #FFFFFF;\n",
              "    }\n",
              "  </style>\n",
              "\n",
              "      <script>\n",
              "        const buttonEl =\n",
              "          document.querySelector('#df-c078595c-bdee-48d5-b1f5-44ac6ce1df03 button.colab-df-convert');\n",
              "        buttonEl.style.display =\n",
              "          google.colab.kernel.accessAllowed ? 'block' : 'none';\n",
              "\n",
              "        async function convertToInteractive(key) {\n",
              "          const element = document.querySelector('#df-c078595c-bdee-48d5-b1f5-44ac6ce1df03');\n",
              "          const dataTable =\n",
              "            await google.colab.kernel.invokeFunction('convertToInteractive',\n",
              "                                                     [key], {});\n",
              "          if (!dataTable) return;\n",
              "\n",
              "          const docLinkHtml = 'Like what you see? Visit the ' +\n",
              "            '<a target=\"_blank\" href=https://colab.research.google.com/notebooks/data_table.ipynb>data table notebook</a>'\n",
              "            + ' to learn more about interactive tables.';\n",
              "          element.innerHTML = '';\n",
              "          dataTable['output_type'] = 'display_data';\n",
              "          await google.colab.output.renderOutput(dataTable, element);\n",
              "          const docLink = document.createElement('div');\n",
              "          docLink.innerHTML = docLinkHtml;\n",
              "          element.appendChild(docLink);\n",
              "        }\n",
              "      </script>\n",
              "    </div>\n",
              "  </div>\n",
              "  "
            ]
          },
          "metadata": {},
          "execution_count": 16
        }
      ]
    },
    {
      "cell_type": "code",
      "source": [
        "missingData = cyclonesWithSST[cyclonesWithSST[\"sst\"].isna()]\n",
        "plot_im(missingData.LON, missingData.LAT, missingData.USA_WIND, 20,  \"Max wind speed\")"
      ],
      "metadata": {
        "colab": {
          "base_uri": "https://localhost:8080/",
          "height": 501
        },
        "id": "ZwC9xj9rPRIT",
        "outputId": "897619d3-4fb8-4b95-b29c-6539de45f505"
      },
      "execution_count": 17,
      "outputs": [
        {
          "output_type": "display_data",
          "data": {
            "text/plain": [
              "<Figure size 1080x1080 with 2 Axes>"
            ],
            "image/png": "[encoded data removed]"
          },
          "metadata": {
            "needs_background": "light"
          }
        }
      ]
    },
    {
      "cell_type": "markdown",
      "source": [
        "As expected, we can't study the cyclone points that are too close to the coast, since we don't have sst data there.\n",
        "\n",
        "Let's save a new dataset, with all the cyclones points close to the coast removed."
      ],
      "metadata": {
        "id": "9jAE7TADZixQ"
      }
    },
    {
      "cell_type": "code",
      "source": [
        "cyclonesWithSST.dropna().drop(columns=[\"CYCLONE_PRESENT\", \"sst\"]).to_csv(\"data/ibtracs-\"+zoneAnalysis.lower()+\"-1998-2015-sst-adapted.csv\")"
      ],
      "metadata": {
        "id": "ExLPRM92Q0s_"
      },
      "execution_count": 18,
      "outputs": []
    },
    {
      "cell_type": "code",
      "source": [
        "#free memory\n",
        "del cyclonePoints\n",
        "del cyclonesData\n",
        "del cyclonesWithSST\n",
        "del missingData"
      ],
      "metadata": {
        "id": "57u-Yvh6dx0n"
      },
      "execution_count": 19,
      "outputs": []
    },
    {
      "cell_type": "code",
      "source": [
        "gc.collect()"
      ],
      "metadata": {
        "colab": {
          "base_uri": "https://localhost:8080/"
        },
        "id": "HKJbpguEeN_C",
        "outputId": "b9878311-8104-4c6b-ddec-372224de36ea"
      },
      "execution_count": 20,
      "outputs": [
        {
          "output_type": "execute_result",
          "data": {
            "text/plain": [
              "0"
            ]
          },
          "metadata": {},
          "execution_count": 20
        }
      ]
    },
    {
      "cell_type": "markdown",
      "source": [
        "# Model cyclone apparition prediction"
      ],
      "metadata": {
        "id": "L9cmUrEsdKW6"
      }
    },
    {
      "cell_type": "markdown",
      "source": [
        "\n",
        "## Hyperparameters selection"
      ],
      "metadata": {
        "id": "B4FcxiVtkvw_"
      }
    },
    {
      "cell_type": "code",
      "source": [
        "#free up memory\n",
        "del output\n",
        "gc.collect()"
      ],
      "metadata": {
        "colab": {
          "base_uri": "https://localhost:8080/"
        },
        "id": "92PyNBJgacTZ",
        "outputId": "3052d40b-5aa0-42b4-d78f-c28613b419fd"
      },
      "execution_count": 21,
      "outputs": [
        {
          "output_type": "execute_result",
          "data": {
            "text/plain": [
              "4103"
            ]
          },
          "metadata": {},
          "execution_count": 21
        }
      ]
    },
    {
      "cell_type": "code",
      "source": [
        "feature_names = [\"LON\", \"LAT\", \"year\", \"month\", \"day\", \"sst\", \"ssh\", \"NSEC_TIME\"]"
      ],
      "metadata": {
        "id": "IvcY6i4nofY2"
      },
      "execution_count": 22,
      "outputs": []
    },
    {
      "cell_type": "code",
      "source": [
        "finalData[\"CYCLONE_PRESENT\"].fillna(0, inplace=True)\n",
        "if \"SID\" in finalData.columns: finalData.drop(columns=[\"SID\"], inplace=True)\n",
        "finalData.head()"
      ],
      "metadata": {
        "colab": {
          "base_uri": "https://localhost:8080/",
          "height": 206
        },
        "id": "_y0ZwA4idZ-Y",
        "outputId": "5fc8f1d8-94b0-40f4-b8ad-72ee641ca8ee"
      },
      "execution_count": 23,
      "outputs": [
        {
          "output_type": "execute_result",
          "data": {
            "text/plain": [
              "     LON   LAT  year  month  day        sst       ssh   ISO_TIME  \\\n",
              "0  272.0  23.0  1998      1    2  23.953125  0.209775 1998-01-02   \n",
              "1  272.0  22.0  1998      8   31  29.062500  0.263825 1998-08-31   \n",
              "2  272.0  29.0  1999      1   31  21.730000  0.180493 1999-01-31   \n",
              "3  272.0  24.0  1999     10   24  27.684375  0.301375 1999-10-24   \n",
              "4  272.0  23.0  2000      3    3  24.618750  0.212488 2000-03-03   \n",
              "\n",
              "            NSEC_TIME  CYCLONE_PRESENT  \n",
              "0  883699200000000000              0.0  \n",
              "1  904521600000000000              0.0  \n",
              "2  917740800000000000              0.0  \n",
              "3  940723200000000000              0.0  \n",
              "4  952041600000000000              0.0  "
            ],
            "text/html": [
              "\n",
              "  <div id=\"df-2fd54c2f-dca0-48e2-bdcd-f72435ccdcdb\">\n",
              "    <div class=\"colab-df-container\">\n",
              "      <div>\n",
              "<style scoped>\n",
              "    .dataframe tbody tr th:only-of-type {\n",
              "        vertical-align: middle;\n",
              "    }\n",
              "\n",
              "    .dataframe tbody tr th {\n",
              "        vertical-align: top;\n",
              "    }\n",
              "\n",
              "    .dataframe thead th {\n",
              "        text-align: right;\n",
              "    }\n",
              "</style>\n",
              "<table border=\"1\" class=\"dataframe\">\n",
              "  <thead>\n",
              "    <tr style=\"text-align: right;\">\n",
              "      <th></th>\n",
              "      <th>LON</th>\n",
              "      <th>LAT</th>\n",
              "      <th>year</th>\n",
              "      <th>month</th>\n",
              "      <th>day</th>\n",
              "      <th>sst</th>\n",
              "      <th>ssh</th>\n",
              "      <th>ISO_TIME</th>\n",
              "      <th>NSEC_TIME</th>\n",
              "      <th>CYCLONE_PRESENT</th>\n",
              "    </tr>\n",
              "  </thead>\n",
              "  <tbody>\n",
              "    <tr>\n",
              "      <th>0</th>\n",
              "      <td>272.0</td>\n",
              "      <td>23.0</td>\n",
              "      <td>1998</td>\n",
              "      <td>1</td>\n",
              "      <td>2</td>\n",
              "      <td>23.953125</td>\n",
              "      <td>0.209775</td>\n",
              "      <td>1998-01-02</td>\n",
              "      <td>883699200000000000</td>\n",
              "      <td>0.0</td>\n",
              "    </tr>\n",
              "    <tr>\n",
              "      <th>1</th>\n",
              "      <td>272.0</td>\n",
              "      <td>22.0</td>\n",
              "      <td>1998</td>\n",
              "      <td>8</td>\n",
              "      <td>31</td>\n",
              "      <td>29.062500</td>\n",
              "      <td>0.263825</td>\n",
              "      <td>1998-08-31</td>\n",
              "      <td>904521600000000000</td>\n",
              "      <td>0.0</td>\n",
              "    </tr>\n",
              "    <tr>\n",
              "      <th>2</th>\n",
              "      <td>272.0</td>\n",
              "      <td>29.0</td>\n",
              "      <td>1999</td>\n",
              "      <td>1</td>\n",
              "      <td>31</td>\n",
              "      <td>21.730000</td>\n",
              "      <td>0.180493</td>\n",
              "      <td>1999-01-31</td>\n",
              "      <td>917740800000000000</td>\n",
              "      <td>0.0</td>\n",
              "    </tr>\n",
              "    <tr>\n",
              "      <th>3</th>\n",
              "      <td>272.0</td>\n",
              "      <td>24.0</td>\n",
              "      <td>1999</td>\n",
              "      <td>10</td>\n",
              "      <td>24</td>\n",
              "      <td>27.684375</td>\n",
              "      <td>0.301375</td>\n",
              "      <td>1999-10-24</td>\n",
              "      <td>940723200000000000</td>\n",
              "      <td>0.0</td>\n",
              "    </tr>\n",
              "    <tr>\n",
              "      <th>4</th>\n",
              "      <td>272.0</td>\n",
              "      <td>23.0</td>\n",
              "      <td>2000</td>\n",
              "      <td>3</td>\n",
              "      <td>3</td>\n",
              "      <td>24.618750</td>\n",
              "      <td>0.212488</td>\n",
              "      <td>2000-03-03</td>\n",
              "      <td>952041600000000000</td>\n",
              "      <td>0.0</td>\n",
              "    </tr>\n",
              "  </tbody>\n",
              "</table>\n",
              "</div>\n",
              "      <button class=\"colab-df-convert\" onclick=\"convertToInteractive('df-2fd54c2f-dca0-48e2-bdcd-f72435ccdcdb')\"\n",
              "              title=\"Convert this dataframe to an interactive table.\"\n",
              "              style=\"display:none;\">\n",
              "        \n",
              "  <svg xmlns=\"http://www.w3.org/2000/svg\" height=\"24px\"viewBox=\"0 0 24 24\"\n",
              "       width=\"24px\">\n",
              "    <path d=\"M0 0h24v24H0V0z\" fill=\"none\"/>\n",
              "    <path d=\"M18.56 5.44l.94 2.06.94-2.06 2.06-.94-2.06-.94-.94-2.06-.94 2.06-2.06.94zm-11 1L8.5 8.5l.94-2.06 2.06-.94-2.06-.94L8.5 2.5l-.94 2.06-2.06.94zm10 10l.94 2.06.94-2.06 2.06-.94-2.06-.94-.94-2.06-.94 2.06-2.06.94z\"/><path d=\"M17.41 7.96l-1.37-1.37c-.4-.4-.92-.59-1.43-.59-.52 0-1.04.2-1.43.59L10.3 9.45l-7.72 7.72c-.78.78-.78 2.05 0 2.83L4 21.41c.39.39.9.59 1.41.59.51 0 1.02-.2 1.41-.59l7.78-7.78 2.81-2.81c.8-.78.8-2.07 0-2.86zM5.41 20L4 18.59l7.72-7.72 1.47 1.35L5.41 20z\"/>\n",
              "  </svg>\n",
              "      </button>\n",
              "      \n",
              "  <style>\n",
              "    .colab-df-container {\n",
              "      display:flex;\n",
              "      flex-wrap:wrap;\n",
              "      gap: 12px;\n",
              "    }\n",
              "\n",
              "    .colab-df-convert {\n",
              "      background-color: #E8F0FE;\n",
              "      border: none;\n",
              "      border-radius: 50%;\n",
              "      cursor: pointer;\n",
              "      display: none;\n",
              "      fill: #1967D2;\n",
              "      height: 32px;\n",
              "      padding: 0 0 0 0;\n",
              "      width: 32px;\n",
              "    }\n",
              "\n",
              "    .colab-df-convert:hover {\n",
              "      background-color: #E2EBFA;\n",
              "      box-shadow: 0px 1px 2px rgba(60, 64, 67, 0.3), 0px 1px 3px 1px rgba(60, 64, 67, 0.15);\n",
              "      fill: #174EA6;\n",
              "    }\n",
              "\n",
              "    [theme=dark] .colab-df-convert {\n",
              "      background-color: #3B4455;\n",
              "      fill: #D2E3FC;\n",
              "    }\n",
              "\n",
              "    [theme=dark] .colab-df-convert:hover {\n",
              "      background-color: #434B5C;\n",
              "      box-shadow: 0px 1px 3px 1px rgba(0, 0, 0, 0.15);\n",
              "      filter: drop-shadow(0px 1px 2px rgba(0, 0, 0, 0.3));\n",
              "      fill: #FFFFFF;\n",
              "    }\n",
              "  </style>\n",
              "\n",
              "      <script>\n",
              "        const buttonEl =\n",
              "          document.querySelector('#df-2fd54c2f-dca0-48e2-bdcd-f72435ccdcdb button.colab-df-convert');\n",
              "        buttonEl.style.display =\n",
              "          google.colab.kernel.accessAllowed ? 'block' : 'none';\n",
              "\n",
              "        async function convertToInteractive(key) {\n",
              "          const element = document.querySelector('#df-2fd54c2f-dca0-48e2-bdcd-f72435ccdcdb');\n",
              "          const dataTable =\n",
              "            await google.colab.kernel.invokeFunction('convertToInteractive',\n",
              "                                                     [key], {});\n",
              "          if (!dataTable) return;\n",
              "\n",
              "          const docLinkHtml = 'Like what you see? Visit the ' +\n",
              "            '<a target=\"_blank\" href=https://colab.research.google.com/notebooks/data_table.ipynb>data table notebook</a>'\n",
              "            + ' to learn more about interactive tables.';\n",
              "          element.innerHTML = '';\n",
              "          dataTable['output_type'] = 'display_data';\n",
              "          await google.colab.output.renderOutput(dataTable, element);\n",
              "          const docLink = document.createElement('div');\n",
              "          docLink.innerHTML = docLinkHtml;\n",
              "          element.appendChild(docLink);\n",
              "        }\n",
              "      </script>\n",
              "    </div>\n",
              "  </div>\n",
              "  "
            ]
          },
          "metadata": {},
          "execution_count": 23
        }
      ]
    },
    {
      "cell_type": "code",
      "source": [
        "cyclonePtCount = len(finalData[finalData.CYCLONE_PRESENT == 1])\n",
        "totalDataCount = len(finalData)\n",
        "\n",
        "print(\"Points labelled as cyclone present : \", cyclonePtCount, f'({cyclonePtCount/totalDataCount*100:.{2}f}%)')\n",
        "print(\"Points labelled as cyclone not present : \",  totalDataCount-cyclonePtCount, f'({(1-cyclonePtCount/totalDataCount)*100:.{2}f}%)')"
      ],
      "metadata": {
        "colab": {
          "base_uri": "https://localhost:8080/"
        },
        "id": "_hWHsrJzeqIf",
        "outputId": "3ad41593-ad38-4ec4-bd5a-1e52d9e5c172"
      },
      "execution_count": 24,
      "outputs": [
        {
          "output_type": "stream",
          "name": "stdout",
          "text": [
            "Points labelled as cyclone present :  2043 (0.16%)\n",
            "Points labelled as cyclone not present :  1254497 (99.84%)\n"
          ]
        }
      ]
    },
    {
      "cell_type": "code",
      "source": [
        "from sklearn.model_selection import train_test_split\n",
        "from sklearn.ensemble import RandomForestClassifier\n",
        "from sklearn.preprocessing import StandardScaler\n",
        "from sklearn.metrics import precision_score, recall_score, ConfusionMatrixDisplay"
      ],
      "metadata": {
        "id": "oCxP58ngfBCx"
      },
      "execution_count": 25,
      "outputs": []
    },
    {
      "cell_type": "code",
      "source": [
        "def generateData(positive_ratio, train_test_ratio):\n",
        "    data = finalData[finalData[\"CYCLONE_PRESENT\"] == 1] #getting all positive data\n",
        "    data = pd.concat([\n",
        "        data, \n",
        "        finalData.sample(int(len(data)*(1-positive_ratio)/positive_ratio))\n",
        "    ]) #mixing with negative data\n",
        "    data.sort_values(\"NSEC_TIME\", inplace=True)\n",
        "\n",
        "    x = data[feature_names]\n",
        "    y = data[\"CYCLONE_PRESENT\"]\n",
        "\n",
        "    x_train, x_test, y_train, y_test = train_test_split(x, y, test_size=train_test_ratio, shuffle=False)\n",
        "\n",
        "    scaler = StandardScaler()\n",
        "    scaler.fit(x_train)\n",
        "\n",
        "    x_train = scaler.transform(x_train)\n",
        "    x_test = scaler.transform(x_test)\n",
        "\n",
        "    return x_train, x_test, y_train, y_test, scaler"
      ],
      "metadata": {
        "id": "cjetwrfmkJWc"
      },
      "execution_count": 28,
      "outputs": []
    },
    {
      "cell_type": "code",
      "source": [
        "train_test_ratios = np.linspace(0.5, 0.9, 5)\n",
        "positive_ratios = np.linspace(0.1, 0.7, 7)\n",
        "precisionMatrix = []\n",
        "recallMatrix = []\n",
        "precisionValidMatrix = []\n",
        "recallValidMatrix = []\n",
        "\n",
        "for positive_ratio in positive_ratios:\n",
        "    precisionSubMatrix = []\n",
        "    recallSubMatrix = []\n",
        "    precisionValidSubMatrix = []\n",
        "    recallValidSubMatrix = []\n",
        "    for train_test_ratio in train_test_ratios:\n",
        "        print(\"Testing for pos/neg ratio :\", positive_ratio, \"; train/test :\", train_test_ratio)\n",
        "        #--------------data splitting\n",
        "        x_train, x_test, y_train, y_test, scaler = generateData(positive_ratio, train_test_ratio)\n",
        "\n",
        "        #-------------fitting\n",
        "        model = RandomForestClassifier()\n",
        "\n",
        "        model.fit(x_train, y_train)\n",
        "\n",
        "        #-------------testing\n",
        "        y_pred = model.predict(x_test)\n",
        "\n",
        "        prec = precision_score(y_test, y_pred)\n",
        "        recall = recall_score(y_test, y_pred)\n",
        "\n",
        "        precisionSubMatrix.append(prec)\n",
        "        recallSubMatrix.append(recall)\n",
        "\n",
        "        #--------------validation\n",
        "        latest_train_date = scaler.inverse_transform(x_train[argmax(x_train[:, -1])].reshape(1,-1))[0][-1]\n",
        "        validation_data = finalData[finalData[\"NSEC_TIME\"] > latest_train_date]\n",
        "\n",
        "        x_valid = validation_data[feature_names]\n",
        "        y_valid = validation_data[\"CYCLONE_PRESENT\"]\n",
        "\n",
        "        y_pred_valid = model.predict(scaler.transform(x_valid))\n",
        "\n",
        "        prec_valid = precision_score(y_valid, y_pred_valid)\n",
        "        recall_valid = recall_score(y_valid, y_pred_valid)\n",
        "\n",
        "        precisionValidSubMatrix.append(prec_valid)\n",
        "        recallValidSubMatrix.append(recall_valid)\n",
        "\n",
        "\n",
        "    precisionSubMatrix.reverse()\n",
        "    recallSubMatrix.reverse()\n",
        "    precisionMatrix.append(precisionSubMatrix)\n",
        "    recallMatrix.append(recallSubMatrix)\n",
        "    \n",
        "    precisionValidSubMatrix.reverse()\n",
        "    recallValidSubMatrix.reverse()\n",
        "    precisionValidMatrix.append(precisionValidSubMatrix)\n",
        "    recallValidMatrix.append(recallValidSubMatrix)\n",
        "\n",
        "precisionMatrix.reverse()\n",
        "recallMatrix.reverse()\n",
        "precisionValidMatrix.reverse()\n",
        "recallValidMatrix.reverse()"
      ],
      "metadata": {
        "colab": {
          "base_uri": "https://localhost:8080/"
        },
        "id": "-Dou9jAKiJrl",
        "outputId": "80cfd0f7-daa8-4f03-d16c-d9790e2902a7"
      },
      "execution_count": 34,
      "outputs": [
        {
          "output_type": "stream",
          "name": "stdout",
          "text": [
            "Testing for pos/neg ratio : 0.1 ; train/test : 0.5\n",
            "Testing for pos/neg ratio : 0.1 ; train/test : 0.6\n",
            "Testing for pos/neg ratio : 0.1 ; train/test : 0.7\n",
            "Testing for pos/neg ratio : 0.1 ; train/test : 0.8\n",
            "Testing for pos/neg ratio : 0.1 ; train/test : 0.9\n",
            "Testing for pos/neg ratio : 0.2 ; train/test : 0.5\n",
            "Testing for pos/neg ratio : 0.2 ; train/test : 0.6\n",
            "Testing for pos/neg ratio : 0.2 ; train/test : 0.7\n",
            "Testing for pos/neg ratio : 0.2 ; train/test : 0.8\n",
            "Testing for pos/neg ratio : 0.2 ; train/test : 0.9\n",
            "Testing for pos/neg ratio : 0.3 ; train/test : 0.5\n",
            "Testing for pos/neg ratio : 0.3 ; train/test : 0.6\n",
            "Testing for pos/neg ratio : 0.3 ; train/test : 0.7\n",
            "Testing for pos/neg ratio : 0.3 ; train/test : 0.8\n",
            "Testing for pos/neg ratio : 0.3 ; train/test : 0.9\n",
            "Testing for pos/neg ratio : 0.4 ; train/test : 0.5\n",
            "Testing for pos/neg ratio : 0.4 ; train/test : 0.6\n",
            "Testing for pos/neg ratio : 0.4 ; train/test : 0.7\n",
            "Testing for pos/neg ratio : 0.4 ; train/test : 0.8\n",
            "Testing for pos/neg ratio : 0.4 ; train/test : 0.9\n",
            "Testing for pos/neg ratio : 0.5 ; train/test : 0.5\n",
            "Testing for pos/neg ratio : 0.5 ; train/test : 0.6\n",
            "Testing for pos/neg ratio : 0.5 ; train/test : 0.7\n",
            "Testing for pos/neg ratio : 0.5 ; train/test : 0.8\n",
            "Testing for pos/neg ratio : 0.5 ; train/test : 0.9\n",
            "Testing for pos/neg ratio : 0.6 ; train/test : 0.5\n",
            "Testing for pos/neg ratio : 0.6 ; train/test : 0.6\n",
            "Testing for pos/neg ratio : 0.6 ; train/test : 0.7\n",
            "Testing for pos/neg ratio : 0.6 ; train/test : 0.8\n",
            "Testing for pos/neg ratio : 0.6 ; train/test : 0.9\n",
            "Testing for pos/neg ratio : 0.7 ; train/test : 0.5\n",
            "Testing for pos/neg ratio : 0.7 ; train/test : 0.6\n",
            "Testing for pos/neg ratio : 0.7 ; train/test : 0.7\n",
            "Testing for pos/neg ratio : 0.7 ; train/test : 0.8\n",
            "Testing for pos/neg ratio : 0.7 ; train/test : 0.9\n"
          ]
        }
      ]
    },
    {
      "cell_type": "code",
      "source": [
        "from mpl_toolkits.axes_grid1 import make_axes_locatable\n",
        "def plot_score(ax, matrixScore, titleTxt):\n",
        "    im = ax.imshow(matrixScore, cmap= 'viridis', vmin=0, vmax=1)\n",
        "\n",
        "    ax.set_xticks([i for i in range(len(train_test_ratios))])\n",
        "    ax.set_xticklabels(train_test_ratios)\n",
        "    ax.set_xlabel(\"Train/Test ratio\", size=20)\n",
        "\n",
        "    ax.set_yticks([i for i in range(len(positive_ratios))])\n",
        "    ax.set_yticklabels(np.flip(positive_ratios))\n",
        "    ax.set_ylabel(\"Positive/Negative ratio\", size=20)\n",
        "\n",
        "    ax.set_title(titleTxt, size=20)\n",
        "    return im"
      ],
      "metadata": {
        "id": "uMjcaDQdL8XY"
      },
      "execution_count": 35,
      "outputs": []
    },
    {
      "cell_type": "code",
      "source": [
        "fig, (ax1, ax2) = plt.subplots(1, 2)\n",
        "fig.suptitle('Scores on training set')\n",
        "im1 = plot_score(ax1, precisionMatrix, \"Precision score\")\n",
        "im2 = plot_score(ax2, recallMatrix, \"Recall score\")\n",
        "divider = make_axes_locatable(ax2)\n",
        "cax = divider.append_axes(\"right\", size=\"5%\", pad=0.05)\n",
        "   \n",
        "plt.colorbar(im1, cax=cax)"
      ],
      "metadata": {
        "colab": {
          "base_uri": "https://localhost:8080/",
          "height": 880
        },
        "id": "7Nkc5EG7ppk6",
        "outputId": "348e2400-81ca-4aa5-c7d4-5c3a1e81c1dc"
      },
      "execution_count": 36,
      "outputs": [
        {
          "output_type": "execute_result",
          "data": {
            "text/plain": [
              "<matplotlib.colorbar.Colorbar at 0x7f2da11deb50>"
            ]
          },
          "metadata": {},
          "execution_count": 36
        },
        {
          "output_type": "display_data",
          "data": {
            "text/plain": [
              "<Figure size 1080x1080 with 3 Axes>"
            ],
            "image/png": "[encoded data removed]"
          },
          "metadata": {
            "needs_background": "light"
          }
        }
      ]
    },
    {
      "cell_type": "code",
      "source": [
        "fig, (ax1, ax2) = plt.subplots(1, 2)\n",
        "fig.suptitle('Scores on validation set')\n",
        "im1 = plot_score(ax1, precisionValidMatrix, \"Precision score\")\n",
        "im2 = plot_score(ax2, recallValidMatrix, \"Recall score\")\n",
        "divider = make_axes_locatable(ax2)\n",
        "cax = divider.append_axes(\"right\", size=\"5%\", pad=0.05)\n",
        "   \n",
        "plt.colorbar(im1, cax=cax)"
      ],
      "metadata": {
        "colab": {
          "base_uri": "https://localhost:8080/",
          "height": 880
        },
        "id": "Wyj-UM_Wru4r",
        "outputId": "90f460b6-30d8-4c05-a21a-29713d9d510d"
      },
      "execution_count": 37,
      "outputs": [
        {
          "output_type": "execute_result",
          "data": {
            "text/plain": [
              "<matplotlib.colorbar.Colorbar at 0x7f2d8a74c8b0>"
            ]
          },
          "metadata": {},
          "execution_count": 37
        },
        {
          "output_type": "display_data",
          "data": {
            "text/plain": [
              "<Figure size 1080x1080 with 3 Axes>"
            ],
            "image/png": "[encoded data removed]"
          },
          "metadata": {
            "needs_background": "light"
          }
        }
      ]
    },
    {
      "cell_type": "code",
      "source": [
        "maxForeach = [max(precisionValidMatrix[i]) for i in range(len(precisionValidMatrix))]\n",
        "posRInd = maxForeach.index(max(maxForeach))\n",
        "trainRInd = precisionValidMatrix[posRInd].index(max(precisionValidMatrix[posRInd]))\n",
        "print(\"To maximize precision (\",precisionValidMatrix[posRInd][trainRInd],\"), best ratios are :\")\n",
        "print(\"Pos/Neg ratio :\", np.flip(positive_ratios)[posRInd])\n",
        "print(\"Train/Test ratio :\", train_test_ratios[trainRInd])"
      ],
      "metadata": {
        "id": "64Pi7_UuQnsF",
        "outputId": "61cce2da-b1e1-4073-9ccf-e1f52c2118ec",
        "colab": {
          "base_uri": "https://localhost:8080/"
        }
      },
      "execution_count": 38,
      "outputs": [
        {
          "output_type": "stream",
          "name": "stdout",
          "text": [
            "To maximize precision ( 0.013448894202032277 ), best ratios are :\n",
            "Pos/Neg ratio : 0.2\n",
            "Train/Test ratio : 0.6\n"
          ]
        }
      ]
    },
    {
      "cell_type": "code",
      "source": [
        "maxForeach = [max(recallValidMatrix[i]) for i in range(len(recallValidMatrix))]\n",
        "posRInd = maxForeach.index(max(maxForeach))\n",
        "trainRInd = recallValidMatrix[posRInd].index(max(recallValidMatrix[posRInd]))\n",
        "print(\"To maximize recall (\",recallValidMatrix[posRInd][trainRInd],\"), best ratios are :\")\n",
        "print(\"Pos/Neg ratio :\", np.flip(positive_ratios)[posRInd])\n",
        "print(\"Train/Test ratio :\", train_test_ratios[trainRInd])"
      ],
      "metadata": {
        "id": "G7YAbCJwR6K-",
        "outputId": "d8e39f74-8aab-4fe2-bfaa-605f5d25a0c9",
        "colab": {
          "base_uri": "https://localhost:8080/"
        }
      },
      "execution_count": 39,
      "outputs": [
        {
          "output_type": "stream",
          "name": "stdout",
          "text": [
            "To maximize recall ( 0.8210526315789474 ), best ratios are :\n",
            "Pos/Neg ratio : 0.7\n",
            "Train/Test ratio : 0.9\n"
          ]
        }
      ]
    },
    {
      "cell_type": "markdown",
      "source": [
        "## Model validation"
      ],
      "metadata": {
        "id": "_EpulkYskx3D"
      }
    },
    {
      "cell_type": "code",
      "source": [
        "bestPosR = 0.7\n",
        "bestTrainTestR = 0.9\n",
        "\n",
        "#validating model\n",
        "#--------------data splitting\n",
        "x_train, x_test, y_train, y_test, scaler = generateData(bestPosR, bestTrainTestR)\n",
        "\n",
        "#-------------fitting\n",
        "model = RandomForestClassifier()\n",
        "\n",
        "model.fit(x_train, y_train)\n",
        "\n",
        "#-------------testing\n",
        "y_pred = model.predict(x_test)\n",
        "\n",
        "prec = precision_score(y_test, y_pred)\n",
        "recall = recall_score(y_test, y_pred)\n",
        "\n",
        "#--------------validation\n",
        "latest_train_date = scaler.inverse_transform(x_train[argmax(x_train[:, -1])].reshape(1,-1))[0][-1]\n",
        "validation_data = finalData[finalData[\"NSEC_TIME\"] > latest_train_date]\n",
        "\n",
        "x_valid = validation_data[feature_names]\n",
        "y_valid = validation_data[\"CYCLONE_PRESENT\"]\n",
        "\n",
        "y_pred_valid = model.predict(scaler.transform(x_valid))\n",
        "\n",
        "prec_valid = precision_score(y_valid, y_pred_valid)\n",
        "recall_valid = recall_score(y_valid, y_pred_valid)\n",
        "\n",
        "print(\"Using pos/neg ratio =\", bestPosR, \"; train/test ratio =\", bestTrainTestR)\n",
        "print(\"Results for test set with\", len(x_test), \"points\")\n",
        "print(\"Precision :\", prec)\n",
        "print(\"Recall :\", recall)\n",
        "print(\"-----------------------------------------\")\n",
        "print(\"Results for validation set with\", len(x_valid), \"points\")\n",
        "print(\"Precision valid :\", prec_valid)\n",
        "print(\"Recall valid :\", recall_valid)"
      ],
      "metadata": {
        "id": "e9dC0TEpS6zP",
        "outputId": "239e27cc-ac30-405a-d945-110dfd2f40c4",
        "colab": {
          "base_uri": "https://localhost:8080/"
        }
      },
      "execution_count": 40,
      "outputs": [
        {
          "output_type": "stream",
          "name": "stdout",
          "text": [
            "Using pos/neg ratio = 0.7 ; train/test ratio = 0.9\n",
            "Results for test set with 2627 points\n",
            "Precision : 0.8615257048092869\n",
            "Recall : 0.5693150684931507\n",
            "-----------------------------------------\n",
            "Results for validation set with 1132301 points\n",
            "Precision valid : 0.0041464465870634055\n",
            "Recall valid : 0.5696271929824561\n"
          ]
        }
      ]
    },
    {
      "cell_type": "code",
      "source": [
        "ConfusionMatrixDisplay.from_predictions(y_valid, y_pred_valid)"
      ],
      "metadata": {
        "id": "8YVWrmy9iyAp",
        "outputId": "9b2523a8-646d-4721-80d7-84966a8df048",
        "colab": {
          "base_uri": "https://localhost:8080/",
          "height": 863
        }
      },
      "execution_count": 32,
      "outputs": [
        {
          "output_type": "execute_result",
          "data": {
            "text/plain": [
              "<sklearn.metrics._plot.confusion_matrix.ConfusionMatrixDisplay at 0x7f2da338bd90>"
            ]
          },
          "metadata": {},
          "execution_count": 32
        },
        {
          "output_type": "display_data",
          "data": {
            "text/plain": [
              "<Figure size 1080x1080 with 2 Axes>"
            ],
            "image/png": "[encoded data removed]"
          },
          "metadata": {
            "needs_background": "light"
          }
        }
      ]
    },
    {
      "cell_type": "code",
      "source": [
        "importances = model.feature_importances_\n",
        "std = np.std([tree.feature_importances_ for tree in model.estimators_], axis=0)\n",
        "forest_importances = pd.Series(importances, index=feature_names)\n",
        "\n",
        "plt.rcParams.update({'font.size': 22})\n",
        "fig, ax = plt.subplots()\n",
        "forest_importances.plot.bar(yerr=std, ax=ax)\n",
        "ax.set_title(\"Feature importances\")\n",
        "ax.set_ylabel(\"Mean decrease in impurity\")"
      ],
      "metadata": {
        "id": "yV3QmrLPjOCP",
        "outputId": "9af8d2cf-ea44-4410-bd20-ea5c1cb16375",
        "colab": {
          "base_uri": "https://localhost:8080/",
          "height": 1000
        }
      },
      "execution_count": 33,
      "outputs": [
        {
          "output_type": "execute_result",
          "data": {
            "text/plain": [
              "Text(0, 0.5, 'Mean decrease in impurity')"
            ]
          },
          "metadata": {},
          "execution_count": 33
        },
        {
          "output_type": "display_data",
          "data": {
            "text/plain": [
              "<Figure size 1080x1080 with 1 Axes>"
            ],
            "image/png": "[encoded data removed]"
          },
          "metadata": {
            "needs_background": "light"
          }
        }
      ]
    },
    {
      "cell_type": "code",
      "source": [],
      "metadata": {
        "id": "b6esPht6x1L7"
      },
      "execution_count": null,
      "outputs": []
    }
  ]
}