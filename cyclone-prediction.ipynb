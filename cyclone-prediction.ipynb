{
  "nbformat": 4,
  "nbformat_minor": 0,
  "metadata": {
    "anaconda-cloud": {},
    "colab": {
      "provenance": []
    },
    "kernelspec": {
      "display_name": "Python 3",
      "language": "python",
      "name": "python3"
    },
    "language_info": {
      "codemirror_mode": {
        "name": "ipython",
        "version": 3
      },
      "file_extension": ".py",
      "mimetype": "text/x-python",
      "name": "python",
      "nbconvert_exporter": "python",
      "pygments_lexer": "ipython3",
      "version": "3.7.8"
    },
    "widgets": {
      "application/vnd.jupyter.widget-state+json": {
        "eecb3088cbb644bab22b38a3ef011048": {
          "model_module": "@jupyter-widgets/controls",
          "model_name": "HBoxModel",
          "model_module_version": "1.5.0",
          "state": {
            "_dom_classes": [],
            "_model_module": "@jupyter-widgets/controls",
            "_model_module_version": "1.5.0",
            "_model_name": "HBoxModel",
            "_view_count": null,
            "_view_module": "@jupyter-widgets/controls",
            "_view_module_version": "1.5.0",
            "_view_name": "HBoxView",
            "box_style": "",
            "children": [
              "IPY_MODEL_1de44fdf2fb04cb5894678948bd948b4",
              "IPY_MODEL_88f5e90ed5b5413581370a80d9403cb2",
              "IPY_MODEL_573f16a0af9b41d8b1e096b36037d716"
            ],
            "layout": "IPY_MODEL_57d084d1c23247f785978fef54e58a0e"
          }
        },
        "1de44fdf2fb04cb5894678948bd948b4": {
          "model_module": "@jupyter-widgets/controls",
          "model_name": "HTMLModel",
          "model_module_version": "1.5.0",
          "state": {
            "_dom_classes": [],
            "_model_module": "@jupyter-widgets/controls",
            "_model_module_version": "1.5.0",
            "_model_name": "HTMLModel",
            "_view_count": null,
            "_view_module": "@jupyter-widgets/controls",
            "_view_module_version": "1.5.0",
            "_view_name": "HTMLView",
            "description": "",
            "description_tooltip": null,
            "layout": "IPY_MODEL_a38e6a93db9c4b98bd9cdabee9afa802",
            "placeholder": "​",
            "style": "IPY_MODEL_5b8267f45128474c867c1a1545db7e40",
            "value": "Job ID a54c5182-e23a-4db5-b934-1e6906926db2 successfully executed: 100%"
          }
        },
        "88f5e90ed5b5413581370a80d9403cb2": {
          "model_module": "@jupyter-widgets/controls",
          "model_name": "FloatProgressModel",
          "model_module_version": "1.5.0",
          "state": {
            "_dom_classes": [],
            "_model_module": "@jupyter-widgets/controls",
            "_model_module_version": "1.5.0",
            "_model_name": "FloatProgressModel",
            "_view_count": null,
            "_view_module": "@jupyter-widgets/controls",
            "_view_module_version": "1.5.0",
            "_view_name": "ProgressView",
            "bar_style": "success",
            "description": "",
            "description_tooltip": null,
            "layout": "IPY_MODEL_3636845919434133b154cb446dd020d5",
            "max": 1,
            "min": 0,
            "orientation": "horizontal",
            "style": "IPY_MODEL_d12386cce6c346019adc8803311cba44",
            "value": 1
          }
        },
        "573f16a0af9b41d8b1e096b36037d716": {
          "model_module": "@jupyter-widgets/controls",
          "model_name": "HTMLModel",
          "model_module_version": "1.5.0",
          "state": {
            "_dom_classes": [],
            "_model_module": "@jupyter-widgets/controls",
            "_model_module_version": "1.5.0",
            "_model_name": "HTMLModel",
            "_view_count": null,
            "_view_module": "@jupyter-widgets/controls",
            "_view_module_version": "1.5.0",
            "_view_name": "HTMLView",
            "description": "",
            "description_tooltip": null,
            "layout": "IPY_MODEL_8b344e9914a14f908bc0fc2c19fdba01",
            "placeholder": "​",
            "style": "IPY_MODEL_9dacb31f8f09412f9a27defa9b488867",
            "value": ""
          }
        },
        "57d084d1c23247f785978fef54e58a0e": {
          "model_module": "@jupyter-widgets/base",
          "model_name": "LayoutModel",
          "model_module_version": "1.2.0",
          "state": {
            "_model_module": "@jupyter-widgets/base",
            "_model_module_version": "1.2.0",
            "_model_name": "LayoutModel",
            "_view_count": null,
            "_view_module": "@jupyter-widgets/base",
            "_view_module_version": "1.2.0",
            "_view_name": "LayoutView",
            "align_content": null,
            "align_items": null,
            "align_self": null,
            "border": null,
            "bottom": null,
            "display": null,
            "flex": null,
            "flex_flow": null,
            "grid_area": null,
            "grid_auto_columns": null,
            "grid_auto_flow": null,
            "grid_auto_rows": null,
            "grid_column": null,
            "grid_gap": null,
            "grid_row": null,
            "grid_template_areas": null,
            "grid_template_columns": null,
            "grid_template_rows": null,
            "height": null,
            "justify_content": null,
            "justify_items": null,
            "left": null,
            "margin": null,
            "max_height": null,
            "max_width": null,
            "min_height": null,
            "min_width": null,
            "object_fit": null,
            "object_position": null,
            "order": null,
            "overflow": null,
            "overflow_x": null,
            "overflow_y": null,
            "padding": null,
            "right": null,
            "top": null,
            "visibility": null,
            "width": null
          }
        },
        "a38e6a93db9c4b98bd9cdabee9afa802": {
          "model_module": "@jupyter-widgets/base",
          "model_name": "LayoutModel",
          "model_module_version": "1.2.0",
          "state": {
            "_model_module": "@jupyter-widgets/base",
            "_model_module_version": "1.2.0",
            "_model_name": "LayoutModel",
            "_view_count": null,
            "_view_module": "@jupyter-widgets/base",
            "_view_module_version": "1.2.0",
            "_view_name": "LayoutView",
            "align_content": null,
            "align_items": null,
            "align_self": null,
            "border": null,
            "bottom": null,
            "display": null,
            "flex": null,
            "flex_flow": null,
            "grid_area": null,
            "grid_auto_columns": null,
            "grid_auto_flow": null,
            "grid_auto_rows": null,
            "grid_column": null,
            "grid_gap": null,
            "grid_row": null,
            "grid_template_areas": null,
            "grid_template_columns": null,
            "grid_template_rows": null,
            "height": null,
            "justify_content": null,
            "justify_items": null,
            "left": null,
            "margin": null,
            "max_height": null,
            "max_width": null,
            "min_height": null,
            "min_width": null,
            "object_fit": null,
            "object_position": null,
            "order": null,
            "overflow": null,
            "overflow_x": null,
            "overflow_y": null,
            "padding": null,
            "right": null,
            "top": null,
            "visibility": null,
            "width": null
          }
        },
        "5b8267f45128474c867c1a1545db7e40": {
          "model_module": "@jupyter-widgets/controls",
          "model_name": "DescriptionStyleModel",
          "model_module_version": "1.5.0",
          "state": {
            "_model_module": "@jupyter-widgets/controls",
            "_model_module_version": "1.5.0",
            "_model_name": "DescriptionStyleModel",
            "_view_count": null,
            "_view_module": "@jupyter-widgets/base",
            "_view_module_version": "1.2.0",
            "_view_name": "StyleView",
            "description_width": ""
          }
        },
        "3636845919434133b154cb446dd020d5": {
          "model_module": "@jupyter-widgets/base",
          "model_name": "LayoutModel",
          "model_module_version": "1.2.0",
          "state": {
            "_model_module": "@jupyter-widgets/base",
            "_model_module_version": "1.2.0",
            "_model_name": "LayoutModel",
            "_view_count": null,
            "_view_module": "@jupyter-widgets/base",
            "_view_module_version": "1.2.0",
            "_view_name": "LayoutView",
            "align_content": null,
            "align_items": null,
            "align_self": null,
            "border": null,
            "bottom": null,
            "display": null,
            "flex": null,
            "flex_flow": null,
            "grid_area": null,
            "grid_auto_columns": null,
            "grid_auto_flow": null,
            "grid_auto_rows": null,
            "grid_column": null,
            "grid_gap": null,
            "grid_row": null,
            "grid_template_areas": null,
            "grid_template_columns": null,
            "grid_template_rows": null,
            "height": null,
            "justify_content": null,
            "justify_items": null,
            "left": null,
            "margin": null,
            "max_height": null,
            "max_width": null,
            "min_height": null,
            "min_width": null,
            "object_fit": null,
            "object_position": null,
            "order": null,
            "overflow": null,
            "overflow_x": null,
            "overflow_y": null,
            "padding": null,
            "right": null,
            "top": null,
            "visibility": null,
            "width": null
          }
        },
        "d12386cce6c346019adc8803311cba44": {
          "model_module": "@jupyter-widgets/controls",
          "model_name": "ProgressStyleModel",
          "model_module_version": "1.5.0",
          "state": {
            "_model_module": "@jupyter-widgets/controls",
            "_model_module_version": "1.5.0",
            "_model_name": "ProgressStyleModel",
            "_view_count": null,
            "_view_module": "@jupyter-widgets/base",
            "_view_module_version": "1.2.0",
            "_view_name": "StyleView",
            "bar_color": null,
            "description_width": ""
          }
        },
        "8b344e9914a14f908bc0fc2c19fdba01": {
          "model_module": "@jupyter-widgets/base",
          "model_name": "LayoutModel",
          "model_module_version": "1.2.0",
          "state": {
            "_model_module": "@jupyter-widgets/base",
            "_model_module_version": "1.2.0",
            "_model_name": "LayoutModel",
            "_view_count": null,
            "_view_module": "@jupyter-widgets/base",
            "_view_module_version": "1.2.0",
            "_view_name": "LayoutView",
            "align_content": null,
            "align_items": null,
            "align_self": null,
            "border": null,
            "bottom": null,
            "display": null,
            "flex": null,
            "flex_flow": null,
            "grid_area": null,
            "grid_auto_columns": null,
            "grid_auto_flow": null,
            "grid_auto_rows": null,
            "grid_column": null,
            "grid_gap": null,
            "grid_row": null,
            "grid_template_areas": null,
            "grid_template_columns": null,
            "grid_template_rows": null,
            "height": null,
            "justify_content": null,
            "justify_items": null,
            "left": null,
            "margin": null,
            "max_height": null,
            "max_width": null,
            "min_height": null,
            "min_width": null,
            "object_fit": null,
            "object_position": null,
            "order": null,
            "overflow": null,
            "overflow_x": null,
            "overflow_y": null,
            "padding": null,
            "right": null,
            "top": null,
            "visibility": null,
            "width": null
          }
        },
        "9dacb31f8f09412f9a27defa9b488867": {
          "model_module": "@jupyter-widgets/controls",
          "model_name": "DescriptionStyleModel",
          "model_module_version": "1.5.0",
          "state": {
            "_model_module": "@jupyter-widgets/controls",
            "_model_module_version": "1.5.0",
            "_model_name": "DescriptionStyleModel",
            "_view_count": null,
            "_view_module": "@jupyter-widgets/base",
            "_view_module_version": "1.2.0",
            "_view_name": "StyleView",
            "description_width": ""
          }
        },
        "ec200ad099334fdc809d2c6249e21b7b": {
          "model_module": "@jupyter-widgets/controls",
          "model_name": "HBoxModel",
          "model_module_version": "1.5.0",
          "state": {
            "_dom_classes": [],
            "_model_module": "@jupyter-widgets/controls",
            "_model_module_version": "1.5.0",
            "_model_name": "HBoxModel",
            "_view_count": null,
            "_view_module": "@jupyter-widgets/controls",
            "_view_module_version": "1.5.0",
            "_view_name": "HBoxView",
            "box_style": "",
            "children": [
              "IPY_MODEL_1e5cb3bdfc3a445583a0f4962cb8c090",
              "IPY_MODEL_8447e6f850e24fa1b32836efdff31778",
              "IPY_MODEL_3fd642ac8f8445e3851c1a535e4946ae"
            ],
            "layout": "IPY_MODEL_47cc938e49ac44de8ecbad3ec46ebe9e"
          }
        },
        "1e5cb3bdfc3a445583a0f4962cb8c090": {
          "model_module": "@jupyter-widgets/controls",
          "model_name": "HTMLModel",
          "model_module_version": "1.5.0",
          "state": {
            "_dom_classes": [],
            "_model_module": "@jupyter-widgets/controls",
            "_model_module_version": "1.5.0",
            "_model_name": "HTMLModel",
            "_view_count": null,
            "_view_module": "@jupyter-widgets/controls",
            "_view_module_version": "1.5.0",
            "_view_name": "HTMLView",
            "description": "",
            "description_tooltip": null,
            "layout": "IPY_MODEL_67664744f0a0413faa0ca9ee2ddb5960",
            "placeholder": "​",
            "style": "IPY_MODEL_b534db7954c244d285c96685f54e22fb",
            "value": "Downloading: 100%"
          }
        },
        "8447e6f850e24fa1b32836efdff31778": {
          "model_module": "@jupyter-widgets/controls",
          "model_name": "FloatProgressModel",
          "model_module_version": "1.5.0",
          "state": {
            "_dom_classes": [],
            "_model_module": "@jupyter-widgets/controls",
            "_model_module_version": "1.5.0",
            "_model_name": "FloatProgressModel",
            "_view_count": null,
            "_view_module": "@jupyter-widgets/controls",
            "_view_module_version": "1.5.0",
            "_view_name": "ProgressView",
            "bar_style": "success",
            "description": "",
            "description_tooltip": null,
            "layout": "IPY_MODEL_585e7041a3754f4a81be3f0b5c0d0475",
            "max": 2738512,
            "min": 0,
            "orientation": "horizontal",
            "style": "IPY_MODEL_93146a71da024fdfb0a644a36ec80740",
            "value": 2738512
          }
        },
        "3fd642ac8f8445e3851c1a535e4946ae": {
          "model_module": "@jupyter-widgets/controls",
          "model_name": "HTMLModel",
          "model_module_version": "1.5.0",
          "state": {
            "_dom_classes": [],
            "_model_module": "@jupyter-widgets/controls",
            "_model_module_version": "1.5.0",
            "_model_name": "HTMLModel",
            "_view_count": null,
            "_view_module": "@jupyter-widgets/controls",
            "_view_module_version": "1.5.0",
            "_view_name": "HTMLView",
            "description": "",
            "description_tooltip": null,
            "layout": "IPY_MODEL_52213dc2608645d29a26cf8c8e02aebf",
            "placeholder": "​",
            "style": "IPY_MODEL_b4e9626fa41845919a4fb4e906f2cf34",
            "value": ""
          }
        },
        "47cc938e49ac44de8ecbad3ec46ebe9e": {
          "model_module": "@jupyter-widgets/base",
          "model_name": "LayoutModel",
          "model_module_version": "1.2.0",
          "state": {
            "_model_module": "@jupyter-widgets/base",
            "_model_module_version": "1.2.0",
            "_model_name": "LayoutModel",
            "_view_count": null,
            "_view_module": "@jupyter-widgets/base",
            "_view_module_version": "1.2.0",
            "_view_name": "LayoutView",
            "align_content": null,
            "align_items": null,
            "align_self": null,
            "border": null,
            "bottom": null,
            "display": null,
            "flex": null,
            "flex_flow": null,
            "grid_area": null,
            "grid_auto_columns": null,
            "grid_auto_flow": null,
            "grid_auto_rows": null,
            "grid_column": null,
            "grid_gap": null,
            "grid_row": null,
            "grid_template_areas": null,
            "grid_template_columns": null,
            "grid_template_rows": null,
            "height": null,
            "justify_content": null,
            "justify_items": null,
            "left": null,
            "margin": null,
            "max_height": null,
            "max_width": null,
            "min_height": null,
            "min_width": null,
            "object_fit": null,
            "object_position": null,
            "order": null,
            "overflow": null,
            "overflow_x": null,
            "overflow_y": null,
            "padding": null,
            "right": null,
            "top": null,
            "visibility": null,
            "width": null
          }
        },
        "67664744f0a0413faa0ca9ee2ddb5960": {
          "model_module": "@jupyter-widgets/base",
          "model_name": "LayoutModel",
          "model_module_version": "1.2.0",
          "state": {
            "_model_module": "@jupyter-widgets/base",
            "_model_module_version": "1.2.0",
            "_model_name": "LayoutModel",
            "_view_count": null,
            "_view_module": "@jupyter-widgets/base",
            "_view_module_version": "1.2.0",
            "_view_name": "LayoutView",
            "align_content": null,
            "align_items": null,
            "align_self": null,
            "border": null,
            "bottom": null,
            "display": null,
            "flex": null,
            "flex_flow": null,
            "grid_area": null,
            "grid_auto_columns": null,
            "grid_auto_flow": null,
            "grid_auto_rows": null,
            "grid_column": null,
            "grid_gap": null,
            "grid_row": null,
            "grid_template_areas": null,
            "grid_template_columns": null,
            "grid_template_rows": null,
            "height": null,
            "justify_content": null,
            "justify_items": null,
            "left": null,
            "margin": null,
            "max_height": null,
            "max_width": null,
            "min_height": null,
            "min_width": null,
            "object_fit": null,
            "object_position": null,
            "order": null,
            "overflow": null,
            "overflow_x": null,
            "overflow_y": null,
            "padding": null,
            "right": null,
            "top": null,
            "visibility": null,
            "width": null
          }
        },
        "b534db7954c244d285c96685f54e22fb": {
          "model_module": "@jupyter-widgets/controls",
          "model_name": "DescriptionStyleModel",
          "model_module_version": "1.5.0",
          "state": {
            "_model_module": "@jupyter-widgets/controls",
            "_model_module_version": "1.5.0",
            "_model_name": "DescriptionStyleModel",
            "_view_count": null,
            "_view_module": "@jupyter-widgets/base",
            "_view_module_version": "1.2.0",
            "_view_name": "StyleView",
            "description_width": ""
          }
        },
        "585e7041a3754f4a81be3f0b5c0d0475": {
          "model_module": "@jupyter-widgets/base",
          "model_name": "LayoutModel",
          "model_module_version": "1.2.0",
          "state": {
            "_model_module": "@jupyter-widgets/base",
            "_model_module_version": "1.2.0",
            "_model_name": "LayoutModel",
            "_view_count": null,
            "_view_module": "@jupyter-widgets/base",
            "_view_module_version": "1.2.0",
            "_view_name": "LayoutView",
            "align_content": null,
            "align_items": null,
            "align_self": null,
            "border": null,
            "bottom": null,
            "display": null,
            "flex": null,
            "flex_flow": null,
            "grid_area": null,
            "grid_auto_columns": null,
            "grid_auto_flow": null,
            "grid_auto_rows": null,
            "grid_column": null,
            "grid_gap": null,
            "grid_row": null,
            "grid_template_areas": null,
            "grid_template_columns": null,
            "grid_template_rows": null,
            "height": null,
            "justify_content": null,
            "justify_items": null,
            "left": null,
            "margin": null,
            "max_height": null,
            "max_width": null,
            "min_height": null,
            "min_width": null,
            "object_fit": null,
            "object_position": null,
            "order": null,
            "overflow": null,
            "overflow_x": null,
            "overflow_y": null,
            "padding": null,
            "right": null,
            "top": null,
            "visibility": null,
            "width": null
          }
        },
        "93146a71da024fdfb0a644a36ec80740": {
          "model_module": "@jupyter-widgets/controls",
          "model_name": "ProgressStyleModel",
          "model_module_version": "1.5.0",
          "state": {
            "_model_module": "@jupyter-widgets/controls",
            "_model_module_version": "1.5.0",
            "_model_name": "ProgressStyleModel",
            "_view_count": null,
            "_view_module": "@jupyter-widgets/base",
            "_view_module_version": "1.2.0",
            "_view_name": "StyleView",
            "bar_color": null,
            "description_width": ""
          }
        },
        "52213dc2608645d29a26cf8c8e02aebf": {
          "model_module": "@jupyter-widgets/base",
          "model_name": "LayoutModel",
          "model_module_version": "1.2.0",
          "state": {
            "_model_module": "@jupyter-widgets/base",
            "_model_module_version": "1.2.0",
            "_model_name": "LayoutModel",
            "_view_count": null,
            "_view_module": "@jupyter-widgets/base",
            "_view_module_version": "1.2.0",
            "_view_name": "LayoutView",
            "align_content": null,
            "align_items": null,
            "align_self": null,
            "border": null,
            "bottom": null,
            "display": null,
            "flex": null,
            "flex_flow": null,
            "grid_area": null,
            "grid_auto_columns": null,
            "grid_auto_flow": null,
            "grid_auto_rows": null,
            "grid_column": null,
            "grid_gap": null,
            "grid_row": null,
            "grid_template_areas": null,
            "grid_template_columns": null,
            "grid_template_rows": null,
            "height": null,
            "justify_content": null,
            "justify_items": null,
            "left": null,
            "margin": null,
            "max_height": null,
            "max_width": null,
            "min_height": null,
            "min_width": null,
            "object_fit": null,
            "object_position": null,
            "order": null,
            "overflow": null,
            "overflow_x": null,
            "overflow_y": null,
            "padding": null,
            "right": null,
            "top": null,
            "visibility": null,
            "width": null
          }
        },
        "b4e9626fa41845919a4fb4e906f2cf34": {
          "model_module": "@jupyter-widgets/controls",
          "model_name": "DescriptionStyleModel",
          "model_module_version": "1.5.0",
          "state": {
            "_model_module": "@jupyter-widgets/controls",
            "_model_module_version": "1.5.0",
            "_model_name": "DescriptionStyleModel",
            "_view_count": null,
            "_view_module": "@jupyter-widgets/base",
            "_view_module_version": "1.2.0",
            "_view_name": "StyleView",
            "description_width": ""
          }
        }
      }
    }
  },
  "cells": [
    {
      "cell_type": "code",
      "source": [
        "try:\n",
        "  import google.colab\n",
        "  print(\"Running in a colab, all good\")\n",
        "except:\n",
        "  raise \"You need to run this notebook in a Google Colab !\""
      ],
      "metadata": {
        "colab": {
          "base_uri": "https://localhost:8080/"
        },
        "id": "yo3gIs2YUbVg",
        "outputId": "d05e4305-bf79-400a-ad1a-c36dbbfefaa1"
      },
      "execution_count": 1,
      "outputs": [
        {
          "output_type": "stream",
          "name": "stdout",
          "text": [
            "Running in a colab, all good\n"
          ]
        }
      ]
    },
    {
      "cell_type": "markdown",
      "source": [
        "## Note before running the repo\n",
        "In order to run this notebook, you need the datasets of cyclones, in a hierarchy as follows : \n",
        "```\n",
        "data\n",
        "  |--- ibtracs-gulf of mexico-1998-2015.csv\n",
        "  |--- ibtracs-japan-1998-2015.csv\n",
        "```\n",
        "You can either upload the files manually to collab, or run the commands below to automatically download the files from our github repo"
      ],
      "metadata": {
        "id": "HfhU7CMwUpBQ"
      }
    },
    {
      "cell_type": "code",
      "source": [
        "!mkdir data\n",
        "!wget 'https://raw.githubusercontent.com/GGomez99/ds2-2023-Project2/main/project/arens-gomez-humeau-khieu/data/ibtracs-gulf%20of%20mexico-1998-2015.csv' -O \"data/ibtracs-gulf of mexico-1998-2015.csv\"\n",
        "!wget 'https://raw.githubusercontent.com/GGomez99/ds2-2023-Project2/main/project/arens-gomez-humeau-khieu/data/ibtracs-japan-1998-2015.csv' -O \"data/ibtracs-japan-1998-2015.csv\""
      ],
      "metadata": {
        "colab": {
          "base_uri": "https://localhost:8080/"
        },
        "id": "aagctwh3UogU",
        "outputId": "b5d79056-a570-4469-c0d8-21608f071862"
      },
      "execution_count": 2,
      "outputs": [
        {
          "output_type": "stream",
          "name": "stdout",
          "text": [
            "mkdir: cannot create directory ‘data’: File exists\n",
            "--2023-01-20 12:23:07--  https://raw.githubusercontent.com/GGomez99/ds2-2023-Project2/main/project/arens-gomez-humeau-khieu/data/ibtracs-gulf%20of%20mexico-1998-2015.csv\n",
            "Resolving raw.githubusercontent.com (raw.githubusercontent.com)... 185.199.108.133, 185.199.109.133, 185.199.110.133, ...\n",
            "Connecting to raw.githubusercontent.com (raw.githubusercontent.com)|185.199.108.133|:443... connected.\n",
            "HTTP request sent, awaiting response... 200 OK\n",
            "Length: 235033 (230K) [text/plain]\n",
            "Saving to: ‘data/ibtracs-gulf of mexico-1998-2015.csv’\n",
            "\n",
            "data/ibtracs-gulf o 100%[===================>] 229.52K  --.-KB/s    in 0.03s   \n",
            "\n",
            "2023-01-20 12:23:07 (8.34 MB/s) - ‘data/ibtracs-gulf of mexico-1998-2015.csv’ saved [235033/235033]\n",
            "\n",
            "--2023-01-20 12:23:07--  https://raw.githubusercontent.com/GGomez99/ds2-2023-Project2/main/project/arens-gomez-humeau-khieu/data/ibtracs-japan-1998-2015.csv\n",
            "Resolving raw.githubusercontent.com (raw.githubusercontent.com)... 185.199.108.133, 185.199.109.133, 185.199.110.133, ...\n",
            "Connecting to raw.githubusercontent.com (raw.githubusercontent.com)|185.199.108.133|:443... connected.\n",
            "HTTP request sent, awaiting response... 200 OK\n",
            "Length: 553390 (540K) [text/plain]\n",
            "Saving to: ‘data/ibtracs-japan-1998-2015.csv’\n",
            "\n",
            "data/ibtracs-japan- 100%[===================>] 540.42K  --.-KB/s    in 0.04s   \n",
            "\n",
            "2023-01-20 12:23:07 (12.3 MB/s) - ‘data/ibtracs-japan-1998-2015.csv’ saved [553390/553390]\n",
            "\n"
          ]
        }
      ]
    },
    {
      "cell_type": "markdown",
      "source": [
        "## Parameters and variables"
      ],
      "metadata": {
        "id": "nqlP7KOvPlv-"
      }
    },
    {
      "cell_type": "code",
      "source": [
        "#Notebook parameters\n",
        "zoneAnalysis = \"Japan\"\n",
        "#zoneAnalysis = \"Gulf of Mexico\""
      ],
      "metadata": {
        "id": "X1SVb-OYMBOK"
      },
      "execution_count": 3,
      "outputs": []
    },
    {
      "cell_type": "code",
      "source": [
        "#usefull global variables\n",
        "maxLon, minLon, maxLat, minLat = 0,0,0,0\n",
        "minYear = 1998\n",
        "maxYear = 2015\n",
        "\n",
        "if (zoneAnalysis == \"Gulf of Mexico\"):\n",
        "    maxLon = 282\n",
        "    minLon = 256\n",
        "    maxLat = 32\n",
        "    minLat = 18\n",
        "else:\n",
        "    maxLon = 145\n",
        "    minLon = 120\n",
        "    maxLat = 40\n",
        "    minLat = 20"
      ],
      "metadata": {
        "id": "6athtBSOMg9R"
      },
      "execution_count": 4,
      "outputs": []
    },
    {
      "cell_type": "markdown",
      "source": [
        "## Initialisation & Data loading"
      ],
      "metadata": {
        "id": "Y7xNqnFyPo3p"
      }
    },
    {
      "cell_type": "code",
      "metadata": {
        "id": "PHwkL_9OtuBw",
        "colab": {
          "base_uri": "https://localhost:8080/"
        },
        "outputId": "2b2ad239-55d9-44b2-9b31-c9a6627c579f",
        "pycharm": {
          "name": "#%%\n"
        }
      },
      "source": [
        "!pip install basemap"
      ],
      "execution_count": 5,
      "outputs": [
        {
          "output_type": "stream",
          "name": "stdout",
          "text": [
            "Looking in indexes: https://pypi.org/simple, https://us-python.pkg.dev/colab-wheels/public/simple/\n",
            "Requirement already satisfied: basemap in /usr/local/lib/python3.8/dist-packages (1.3.6)\n",
            "Requirement already satisfied: numpy<1.24,>=1.22 in /usr/local/lib/python3.8/dist-packages (from basemap) (1.22.4)\n",
            "Requirement already satisfied: pyshp<2.4,>=1.2 in /usr/local/lib/python3.8/dist-packages (from basemap) (2.3.1)\n",
            "Requirement already satisfied: pyproj<3.5.0,>=1.9.3 in /usr/local/lib/python3.8/dist-packages (from basemap) (3.4.1)\n",
            "Requirement already satisfied: basemap-data<1.4,>=1.3.2 in /usr/local/lib/python3.8/dist-packages (from basemap) (1.3.2)\n",
            "Requirement already satisfied: matplotlib<3.7,>=1.5 in /usr/local/lib/python3.8/dist-packages (from basemap) (3.2.2)\n",
            "Requirement already satisfied: python-dateutil>=2.1 in /usr/local/lib/python3.8/dist-packages (from matplotlib<3.7,>=1.5->basemap) (2.8.2)\n",
            "Requirement already satisfied: kiwisolver>=1.0.1 in /usr/local/lib/python3.8/dist-packages (from matplotlib<3.7,>=1.5->basemap) (1.4.4)\n",
            "Requirement already satisfied: pyparsing!=2.0.4,!=2.1.2,!=2.1.6,>=2.0.1 in /usr/local/lib/python3.8/dist-packages (from matplotlib<3.7,>=1.5->basemap) (3.0.9)\n",
            "Requirement already satisfied: cycler>=0.10 in /usr/local/lib/python3.8/dist-packages (from matplotlib<3.7,>=1.5->basemap) (0.11.0)\n",
            "Requirement already satisfied: certifi in /usr/local/lib/python3.8/dist-packages (from pyproj<3.5.0,>=1.9.3->basemap) (2022.12.7)\n",
            "Requirement already satisfied: six>=1.5 in /usr/local/lib/python3.8/dist-packages (from python-dateutil>=2.1->matplotlib<3.7,>=1.5->basemap) (1.15.0)\n"
          ]
        }
      ]
    },
    {
      "cell_type": "code",
      "metadata": {
        "id": "7SYwR8rLjJ4T",
        "colab": {
          "base_uri": "https://localhost:8080/"
        },
        "outputId": "abc76e9d-f840-4a68-c962-57056345143d",
        "pycharm": {
          "name": "#%%\n"
        }
      },
      "source": [
        "%matplotlib inline\n",
        "%pylab inline\n",
        "from mpl_toolkits.basemap import Basemap\n",
        "import sklearn\n",
        "import pandas as pd\n",
        "import numpy as np\n",
        "from scipy.stats.mstats import zscore\n",
        "import warnings, gc\n",
        "warnings.filterwarnings(\"ignore\") # disable warnings\n",
        "pylab.rcParams['figure.figsize']=(15,15) # graph size"
      ],
      "execution_count": 6,
      "outputs": [
        {
          "output_type": "stream",
          "name": "stdout",
          "text": [
            "Populating the interactive namespace from numpy and matplotlib\n"
          ]
        }
      ]
    },
    {
      "cell_type": "code",
      "metadata": {
        "id": "irVyDROljJ4X",
        "pycharm": {
          "name": "#%%\n"
        }
      },
      "source": [
        "# function to plot images  \n",
        "def plot_im(lon,lat,im,size_points,var_name):\n",
        "    \n",
        "    # transform to arrays (just in case)\n",
        "    lon=array(lon)\n",
        "    lat=array(lat)\n",
        "    im=array(im)\n",
        "    \n",
        "    if max(lon)-min(lon)<100:\n",
        "      # Mercator projection (for small zone)\n",
        "      m=Basemap(projection='merc',llcrnrlat=nanmin(lat),urcrnrlat=nanmax(lat),\\\n",
        "                llcrnrlon=nanmin(lon),urcrnrlon=nanmax(lon),lat_0=(nanmax(lat)+nanmin(lat))*0.5,\\\n",
        "                lon_0=(nanmax(lon)+nanmin(lon))*0.5,resolution='l')\n",
        "    else:\n",
        "      # Orthogonal projection (for large zone)\n",
        "      m=Basemap(projection='robin',lat_0=0,lon_0=0,resolution='l')\n",
        "    # you can use other projections (see https://matplotlib.org/basemap/users/mapsetup.html)\n",
        "    \n",
        "    # transform (lon,lat) to (x,y)\n",
        "    x,y=m(lon,lat)\n",
        "\n",
        "    # plot\n",
        "    #im=ma.masked_where(isnan(im),im)\n",
        "    res=m.scatter(x,y,size_points,im,'o',alpha=1,cmap='jet',lw=0)\n",
        "    m.drawcoastlines()\n",
        "    m.fillcontinents()\n",
        "    parallels = linspace(nanmin(lat),nanmax(lat),15)\n",
        "    meridians = linspace(nanmin(lon),nanmax(lon),15)\n",
        "    #m.drawparallels(parallels,labels=[1,0,0,1],fontsize=10)\n",
        "    #m.drawmeridians(meridians,labels=[1,0,0,1],fontsize=10)\n",
        "    cb=m.colorbar(res,location=\"right\")\n",
        "    cb.set_label(var_name,fontsize=15)\n",
        "    \n",
        "# function to plot time series\n",
        "def plot_ts(time,ts,line_type,var_name):\n",
        "\n",
        "    # plot\n",
        "    plot_date(time,ts,line_type)\n",
        "    xlabel('Time',fontsize=15)\n",
        "    ylabel(var_name,fontsize=15)"
      ],
      "execution_count": 7,
      "outputs": []
    },
    {
      "cell_type": "markdown",
      "metadata": {
        "id": "oC-kPabMjJ4Z",
        "pycharm": {
          "name": "#%% md\n"
        }
      },
      "source": [
        "**Connection to the GCP:**\n",
        "\n",
        "First, we have to connect to the Google Cloud Platform. Enter the login \"bigdataocean2020@gmail.com\" and password \"bdoimt2023\". Do it only once. We will maybe need an authentication: contact me at pierre.tandeo@imt-atlantique.fr."
      ]
    },
    {
      "cell_type": "code",
      "metadata": {
        "id": "XST81zP1ZS0i",
        "pycharm": {
          "name": "#%%\n"
        }
      },
      "source": [
        "import os\n",
        "os.environ['USE_AUTH_EPHEM'] = '0'\n",
        "\n",
        "from google.colab import auth\n",
        "auth.authenticate_user()"
      ],
      "execution_count": 8,
      "outputs": []
    },
    {
      "cell_type": "code",
      "source": [
        "params = {\"min_lat\": minLat, \"max_lat\": maxLat, \"min_lon\": minLon, \"max_lon\": maxLon}"
      ],
      "metadata": {
        "id": "a1UBZY3_NtjO"
      },
      "execution_count": 9,
      "outputs": []
    },
    {
      "cell_type": "markdown",
      "source": [
        "### SST & SSH request to bigquery database"
      ],
      "metadata": {
        "id": "EoTuaDJPP_ho"
      }
    },
    {
      "cell_type": "code",
      "metadata": {
        "id": "YZzH5UWaZ1zb",
        "colab": {
          "base_uri": "https://localhost:8080/",
          "height": 81,
          "referenced_widgets": [
            "eecb3088cbb644bab22b38a3ef011048",
            "1de44fdf2fb04cb5894678948bd948b4",
            "88f5e90ed5b5413581370a80d9403cb2",
            "573f16a0af9b41d8b1e096b36037d716",
            "57d084d1c23247f785978fef54e58a0e",
            "a38e6a93db9c4b98bd9cdabee9afa802",
            "5b8267f45128474c867c1a1545db7e40",
            "3636845919434133b154cb446dd020d5",
            "d12386cce6c346019adc8803311cba44",
            "8b344e9914a14f908bc0fc2c19fdba01",
            "9dacb31f8f09412f9a27defa9b488867",
            "ec200ad099334fdc809d2c6249e21b7b",
            "1e5cb3bdfc3a445583a0f4962cb8c090",
            "8447e6f850e24fa1b32836efdff31778",
            "3fd642ac8f8445e3851c1a535e4946ae",
            "47cc938e49ac44de8ecbad3ec46ebe9e",
            "67664744f0a0413faa0ca9ee2ddb5960",
            "b534db7954c244d285c96685f54e22fb",
            "585e7041a3754f4a81be3f0b5c0d0475",
            "93146a71da024fdfb0a644a36ec80740",
            "52213dc2608645d29a26cf8c8e02aebf",
            "b4e9626fa41845919a4fb4e906f2cf34"
          ]
        },
        "outputId": "50a3be72-51d7-429a-af8f-275886a83ec4",
        "pycharm": {
          "name": "#%%\n"
        }
      },
      "source": [
        "%%bigquery output --project alert-ground-261008 --params $params\n",
        "SELECT ROUND(lon) as lon, ROUND(lat) as lat, year, month, day, AVG(sst) AS sst, AVG(ssh) AS ssh\n",
        "FROM bdo2020.bdo2020.1998_2015_withtimes\n",
        "WHERE lon>@min_lon AND lon<@max_lon AND lat>@min_lat AND lat<@max_lat\n",
        "GROUP BY ROUND(lon), ROUND(lat), year, month, day"
      ],
      "execution_count": 67,
      "outputs": [
        {
          "output_type": "display_data",
          "data": {
            "text/plain": [
              "Query is running:   0%|          |"
            ],
            "application/vnd.jupyter.widget-view+json": {
              "version_major": 2,
              "version_minor": 0,
              "model_id": "eecb3088cbb644bab22b38a3ef011048"
            }
          },
          "metadata": {}
        },
        {
          "output_type": "display_data",
          "data": {
            "text/plain": [
              "Downloading:   0%|          |"
            ],
            "application/vnd.jupyter.widget-view+json": {
              "version_major": 2,
              "version_minor": 0,
              "model_id": "ec200ad099334fdc809d2c6249e21b7b"
            }
          },
          "metadata": {}
        }
      ]
    },
    {
      "cell_type": "markdown",
      "source": [
        "### IBTRACS data loading"
      ],
      "metadata": {
        "id": "szuIl01rQJLj"
      }
    },
    {
      "cell_type": "code",
      "source": [
        "#data loading from zone files\n",
        "cyclonesData: pd.DataFrame\n",
        "if (zoneAnalysis == \"Japan\"):\n",
        "    cyclonesData = pd.read_csv(\"data/ibtracs-japan-1998-2015.csv\")\n",
        "else:\n",
        "    cyclonesData = pd.read_csv(\"data/ibtracs-gulf of mexico-1998-2015.csv\")\n",
        "\n",
        "#time conversion\n",
        "cyclonesData.ISO_TIME = pd.to_datetime(cyclonesData.ISO_TIME)\n",
        "cyclonesData[\"NSEC_TIME\"] = cyclonesData.NSEC_TIME.astype(\"int64\")"
      ],
      "metadata": {
        "id": "CosSjF5vQI31"
      },
      "execution_count": 11,
      "outputs": []
    },
    {
      "cell_type": "markdown",
      "source": [
        "## Data formating & merging for final dataset"
      ],
      "metadata": {
        "id": "mQ-2WGo-Pi85"
      }
    },
    {
      "cell_type": "code",
      "source": [
        "output = output.sort_values(['year','month','day', \"lon\", \"lat\"])\n",
        "output = output.groupby(['year','month','day'])[[\"lon\", \"lat\", \"sst\", \"ssh\"]].agg(lambda x: list(x)).reset_index()"
      ],
      "metadata": {
        "id": "G79Euq1wJRP9"
      },
      "execution_count": 68,
      "outputs": []
    },
    {
      "cell_type": "code",
      "source": [
        "lonLength = output[\"lon\"].apply(lambda x : len(x))\n",
        "maxLength = lonLength.max()\n",
        "validIndexes = lonLength[lonLength == maxLength].index"
      ],
      "metadata": {
        "id": "xZk_s6F0JYZh"
      },
      "execution_count": 69,
      "outputs": []
    },
    {
      "cell_type": "code",
      "source": [
        "#saving lon lat for inverse conversion\n",
        "lonlatdata = output.iloc[validIndexes[0]]\n",
        "lonlatdata = lonlatdata[[\"lon\", \"lat\"]]\n",
        "output = output.drop(columns=[\"lon\", \"lat\"]).iloc[validIndexes]\n",
        "\n",
        "output[\"ISO_TIME\"] = pd.to_datetime(output[['year','month','day']])\n",
        "output[\"NSEC_TIME\"] = output.ISO_TIME.astype(\"int64\")\n",
        "output.rename(columns={\"lon\": \"LON\", \"lat\": \"LAT\"}, inplace=True)\n",
        "output"
      ],
      "metadata": {
        "id": "plPioCh2YQYW",
        "outputId": "b595e8a5-d0e6-4626-8124-ddb7f74692cd",
        "colab": {
          "base_uri": "https://localhost:8080/",
          "height": 589
        }
      },
      "execution_count": 71,
      "outputs": [
        {
          "output_type": "execute_result",
          "data": {
            "text/plain": [
              "      year  month  day                                                sst  \\\n",
              "1612  2002      6    2  [27.599999999999998, 27.75, 28.349999999999998...   \n",
              "1613  2002      6    3  [27.674999999999997, 27.84375, 28.65, 28.29999...   \n",
              "1614  2002      6    4  [27.525, 27.581249999999997, 28.65, 28.525, 28...   \n",
              "1615  2002      6    5  [27.787499999999998, 27.468749999999996, 28.04...   \n",
              "1616  2002      6    6  [28.05, 27.6375, 27.9, 28.7, 28.56666666666666...   \n",
              "...    ...    ...  ...                                                ...   \n",
              "6569  2015     12   28  [25.162499999999998, 25.706249999999997, 24.59...   \n",
              "6570  2015     12   29  [24.375, 25.1625, 23.7, 25.249999999999996, 26...   \n",
              "6571  2015     12   30  [24.1875, 25.21875, 24.0, 25.325, 26.433333333...   \n",
              "6572  2015     12   31  [24.15, 25.425, 24.3, 25.374999999999996, 26.4...   \n",
              "6573  2016      1    1  [24.0375, 25.66875, 24.15, 25.449999999999996,...   \n",
              "\n",
              "                                                    ssh   ISO_TIME  \\\n",
              "1612  [0.9814750000000001, 0.9988874999999999, 1.015... 2002-06-02   \n",
              "1613  [0.976075, 1.0042, 1.0390000000000001, 1.08925... 2002-06-03   \n",
              "1614  [0.982925, 1.0193, 1.0624, 1.1079500000000002,... 2002-06-04   \n",
              "1615  [0.99525, 1.0323125, 1.0793000000000001, 1.124... 2002-06-05   \n",
              "1616  [1.0021, 1.0426375, 1.0975000000000001, 1.1285... 2002-06-06   \n",
              "...                                                 ...        ...   \n",
              "6569  [0.8793, 1.1076625, 1.0347, 1.0110666666666666... 2015-12-28   \n",
              "6570  [0.8756, 1.1099375, 1.0243, 1.0115333333333334... 2015-12-29   \n",
              "6571  [0.8729500000000001, 1.1075375, 1.0192, 1.0152... 2015-12-30   \n",
              "6572  [0.868, 1.097325, 1.0339, 1.01675, 1.134366666... 2015-12-31   \n",
              "6573  [0.8562750000000001, 1.0804500000000001, 1.024... 2016-01-01   \n",
              "\n",
              "                NSEC_TIME  \n",
              "1612  1022976000000000000  \n",
              "1613  1023062400000000000  \n",
              "1614  1023148800000000000  \n",
              "1615  1023235200000000000  \n",
              "1616  1023321600000000000  \n",
              "...                   ...  \n",
              "6569  1451260800000000000  \n",
              "6570  1451347200000000000  \n",
              "6571  1451433600000000000  \n",
              "6572  1451520000000000000  \n",
              "6573  1451606400000000000  \n",
              "\n",
              "[4962 rows x 7 columns]"
            ],
            "text/html": [
              "\n",
              "  <div id=\"df-70b15097-14a6-4685-9842-ab3a54e6c8ea\">\n",
              "    <div class=\"colab-df-container\">\n",
              "      <div>\n",
              "<style scoped>\n",
              "    .dataframe tbody tr th:only-of-type {\n",
              "        vertical-align: middle;\n",
              "    }\n",
              "\n",
              "    .dataframe tbody tr th {\n",
              "        vertical-align: top;\n",
              "    }\n",
              "\n",
              "    .dataframe thead th {\n",
              "        text-align: right;\n",
              "    }\n",
              "</style>\n",
              "<table border=\"1\" class=\"dataframe\">\n",
              "  <thead>\n",
              "    <tr style=\"text-align: right;\">\n",
              "      <th></th>\n",
              "      <th>year</th>\n",
              "      <th>month</th>\n",
              "      <th>day</th>\n",
              "      <th>sst</th>\n",
              "      <th>ssh</th>\n",
              "      <th>ISO_TIME</th>\n",
              "      <th>NSEC_TIME</th>\n",
              "    </tr>\n",
              "  </thead>\n",
              "  <tbody>\n",
              "    <tr>\n",
              "      <th>1612</th>\n",
              "      <td>2002</td>\n",
              "      <td>6</td>\n",
              "      <td>2</td>\n",
              "      <td>[27.599999999999998, 27.75, 28.349999999999998...</td>\n",
              "      <td>[0.9814750000000001, 0.9988874999999999, 1.015...</td>\n",
              "      <td>2002-06-02</td>\n",
              "      <td>1022976000000000000</td>\n",
              "    </tr>\n",
              "    <tr>\n",
              "      <th>1613</th>\n",
              "      <td>2002</td>\n",
              "      <td>6</td>\n",
              "      <td>3</td>\n",
              "      <td>[27.674999999999997, 27.84375, 28.65, 28.29999...</td>\n",
              "      <td>[0.976075, 1.0042, 1.0390000000000001, 1.08925...</td>\n",
              "      <td>2002-06-03</td>\n",
              "      <td>1023062400000000000</td>\n",
              "    </tr>\n",
              "    <tr>\n",
              "      <th>1614</th>\n",
              "      <td>2002</td>\n",
              "      <td>6</td>\n",
              "      <td>4</td>\n",
              "      <td>[27.525, 27.581249999999997, 28.65, 28.525, 28...</td>\n",
              "      <td>[0.982925, 1.0193, 1.0624, 1.1079500000000002,...</td>\n",
              "      <td>2002-06-04</td>\n",
              "      <td>1023148800000000000</td>\n",
              "    </tr>\n",
              "    <tr>\n",
              "      <th>1615</th>\n",
              "      <td>2002</td>\n",
              "      <td>6</td>\n",
              "      <td>5</td>\n",
              "      <td>[27.787499999999998, 27.468749999999996, 28.04...</td>\n",
              "      <td>[0.99525, 1.0323125, 1.0793000000000001, 1.124...</td>\n",
              "      <td>2002-06-05</td>\n",
              "      <td>1023235200000000000</td>\n",
              "    </tr>\n",
              "    <tr>\n",
              "      <th>1616</th>\n",
              "      <td>2002</td>\n",
              "      <td>6</td>\n",
              "      <td>6</td>\n",
              "      <td>[28.05, 27.6375, 27.9, 28.7, 28.56666666666666...</td>\n",
              "      <td>[1.0021, 1.0426375, 1.0975000000000001, 1.1285...</td>\n",
              "      <td>2002-06-06</td>\n",
              "      <td>1023321600000000000</td>\n",
              "    </tr>\n",
              "    <tr>\n",
              "      <th>...</th>\n",
              "      <td>...</td>\n",
              "      <td>...</td>\n",
              "      <td>...</td>\n",
              "      <td>...</td>\n",
              "      <td>...</td>\n",
              "      <td>...</td>\n",
              "      <td>...</td>\n",
              "    </tr>\n",
              "    <tr>\n",
              "      <th>6569</th>\n",
              "      <td>2015</td>\n",
              "      <td>12</td>\n",
              "      <td>28</td>\n",
              "      <td>[25.162499999999998, 25.706249999999997, 24.59...</td>\n",
              "      <td>[0.8793, 1.1076625, 1.0347, 1.0110666666666666...</td>\n",
              "      <td>2015-12-28</td>\n",
              "      <td>1451260800000000000</td>\n",
              "    </tr>\n",
              "    <tr>\n",
              "      <th>6570</th>\n",
              "      <td>2015</td>\n",
              "      <td>12</td>\n",
              "      <td>29</td>\n",
              "      <td>[24.375, 25.1625, 23.7, 25.249999999999996, 26...</td>\n",
              "      <td>[0.8756, 1.1099375, 1.0243, 1.0115333333333334...</td>\n",
              "      <td>2015-12-29</td>\n",
              "      <td>1451347200000000000</td>\n",
              "    </tr>\n",
              "    <tr>\n",
              "      <th>6571</th>\n",
              "      <td>2015</td>\n",
              "      <td>12</td>\n",
              "      <td>30</td>\n",
              "      <td>[24.1875, 25.21875, 24.0, 25.325, 26.433333333...</td>\n",
              "      <td>[0.8729500000000001, 1.1075375, 1.0192, 1.0152...</td>\n",
              "      <td>2015-12-30</td>\n",
              "      <td>1451433600000000000</td>\n",
              "    </tr>\n",
              "    <tr>\n",
              "      <th>6572</th>\n",
              "      <td>2015</td>\n",
              "      <td>12</td>\n",
              "      <td>31</td>\n",
              "      <td>[24.15, 25.425, 24.3, 25.374999999999996, 26.4...</td>\n",
              "      <td>[0.868, 1.097325, 1.0339, 1.01675, 1.134366666...</td>\n",
              "      <td>2015-12-31</td>\n",
              "      <td>1451520000000000000</td>\n",
              "    </tr>\n",
              "    <tr>\n",
              "      <th>6573</th>\n",
              "      <td>2016</td>\n",
              "      <td>1</td>\n",
              "      <td>1</td>\n",
              "      <td>[24.0375, 25.66875, 24.15, 25.449999999999996,...</td>\n",
              "      <td>[0.8562750000000001, 1.0804500000000001, 1.024...</td>\n",
              "      <td>2016-01-01</td>\n",
              "      <td>1451606400000000000</td>\n",
              "    </tr>\n",
              "  </tbody>\n",
              "</table>\n",
              "<p>4962 rows × 7 columns</p>\n",
              "</div>\n",
              "      <button class=\"colab-df-convert\" onclick=\"convertToInteractive('df-70b15097-14a6-4685-9842-ab3a54e6c8ea')\"\n",
              "              title=\"Convert this dataframe to an interactive table.\"\n",
              "              style=\"display:none;\">\n",
              "        \n",
              "  <svg xmlns=\"http://www.w3.org/2000/svg\" height=\"24px\"viewBox=\"0 0 24 24\"\n",
              "       width=\"24px\">\n",
              "    <path d=\"M0 0h24v24H0V0z\" fill=\"none\"/>\n",
              "    <path d=\"M18.56 5.44l.94 2.06.94-2.06 2.06-.94-2.06-.94-.94-2.06-.94 2.06-2.06.94zm-11 1L8.5 8.5l.94-2.06 2.06-.94-2.06-.94L8.5 2.5l-.94 2.06-2.06.94zm10 10l.94 2.06.94-2.06 2.06-.94-2.06-.94-.94-2.06-.94 2.06-2.06.94z\"/><path d=\"M17.41 7.96l-1.37-1.37c-.4-.4-.92-.59-1.43-.59-.52 0-1.04.2-1.43.59L10.3 9.45l-7.72 7.72c-.78.78-.78 2.05 0 2.83L4 21.41c.39.39.9.59 1.41.59.51 0 1.02-.2 1.41-.59l7.78-7.78 2.81-2.81c.8-.78.8-2.07 0-2.86zM5.41 20L4 18.59l7.72-7.72 1.47 1.35L5.41 20z\"/>\n",
              "  </svg>\n",
              "      </button>\n",
              "      \n",
              "  <style>\n",
              "    .colab-df-container {\n",
              "      display:flex;\n",
              "      flex-wrap:wrap;\n",
              "      gap: 12px;\n",
              "    }\n",
              "\n",
              "    .colab-df-convert {\n",
              "      background-color: #E8F0FE;\n",
              "      border: none;\n",
              "      border-radius: 50%;\n",
              "      cursor: pointer;\n",
              "      display: none;\n",
              "      fill: #1967D2;\n",
              "      height: 32px;\n",
              "      padding: 0 0 0 0;\n",
              "      width: 32px;\n",
              "    }\n",
              "\n",
              "    .colab-df-convert:hover {\n",
              "      background-color: #E2EBFA;\n",
              "      box-shadow: 0px 1px 2px rgba(60, 64, 67, 0.3), 0px 1px 3px 1px rgba(60, 64, 67, 0.15);\n",
              "      fill: #174EA6;\n",
              "    }\n",
              "\n",
              "    [theme=dark] .colab-df-convert {\n",
              "      background-color: #3B4455;\n",
              "      fill: #D2E3FC;\n",
              "    }\n",
              "\n",
              "    [theme=dark] .colab-df-convert:hover {\n",
              "      background-color: #434B5C;\n",
              "      box-shadow: 0px 1px 3px 1px rgba(0, 0, 0, 0.15);\n",
              "      filter: drop-shadow(0px 1px 2px rgba(0, 0, 0, 0.3));\n",
              "      fill: #FFFFFF;\n",
              "    }\n",
              "  </style>\n",
              "\n",
              "      <script>\n",
              "        const buttonEl =\n",
              "          document.querySelector('#df-70b15097-14a6-4685-9842-ab3a54e6c8ea button.colab-df-convert');\n",
              "        buttonEl.style.display =\n",
              "          google.colab.kernel.accessAllowed ? 'block' : 'none';\n",
              "\n",
              "        async function convertToInteractive(key) {\n",
              "          const element = document.querySelector('#df-70b15097-14a6-4685-9842-ab3a54e6c8ea');\n",
              "          const dataTable =\n",
              "            await google.colab.kernel.invokeFunction('convertToInteractive',\n",
              "                                                     [key], {});\n",
              "          if (!dataTable) return;\n",
              "\n",
              "          const docLinkHtml = 'Like what you see? Visit the ' +\n",
              "            '<a target=\"_blank\" href=https://colab.research.google.com/notebooks/data_table.ipynb>data table notebook</a>'\n",
              "            + ' to learn more about interactive tables.';\n",
              "          element.innerHTML = '';\n",
              "          dataTable['output_type'] = 'display_data';\n",
              "          await google.colab.output.renderOutput(dataTable, element);\n",
              "          const docLink = document.createElement('div');\n",
              "          docLink.innerHTML = docLinkHtml;\n",
              "          element.appendChild(docLink);\n",
              "        }\n",
              "      </script>\n",
              "    </div>\n",
              "  </div>\n",
              "  "
            ]
          },
          "metadata": {},
          "execution_count": 71
        }
      ]
    },
    {
      "cell_type": "code",
      "source": [
        "coordDegreeMultiple = 0.250\n",
        "\n",
        "cyclonesData.ISO_TIME = pd.to_datetime(cyclonesData.ISO_TIME.dt.date)\n",
        "cyclonesData[\"CYCLONE_PRESENT\"] = 1\n",
        "cyclonesData.drop(columns=[\"LAT\", \"LON\"])\n",
        "cyclonesData.head()"
      ],
      "metadata": {
        "id": "ms3ncM8TLuXA",
        "outputId": "01eebaa6-1302-4f44-99e9-b68aba25d141",
        "colab": {
          "base_uri": "https://localhost:8080/",
          "height": 206
        }
      },
      "execution_count": 38,
      "outputs": [
        {
          "output_type": "execute_result",
          "data": {
            "text/plain": [
              "      LAT      LON            SID  USA_WIND CATEGORY           NSEC_TIME  \\\n",
              "0  20.086  129.000  1998187N17132      30.0       TD  899877600000000000   \n",
              "1  20.254  128.858  1998187N17132      30.0       TD  899888400000000000   \n",
              "2  20.450  128.700  1998187N17132      30.0       TD  899899200000000000   \n",
              "3  20.632  128.575  1998187N17132      30.0       TD  899910000000000000   \n",
              "4  20.800  128.450  1998187N17132      30.0       TD  899920800000000000   \n",
              "\n",
              "    ISO_TIME  CYCLONE_PRESENT  \n",
              "0 1998-07-08                1  \n",
              "1 1998-07-08                1  \n",
              "2 1998-07-08                1  \n",
              "3 1998-07-08                1  \n",
              "4 1998-07-08                1  "
            ],
            "text/html": [
              "\n",
              "  <div id=\"df-c2a1f4de-9317-44d4-8a7b-8cc0d5a34ac4\">\n",
              "    <div class=\"colab-df-container\">\n",
              "      <div>\n",
              "<style scoped>\n",
              "    .dataframe tbody tr th:only-of-type {\n",
              "        vertical-align: middle;\n",
              "    }\n",
              "\n",
              "    .dataframe tbody tr th {\n",
              "        vertical-align: top;\n",
              "    }\n",
              "\n",
              "    .dataframe thead th {\n",
              "        text-align: right;\n",
              "    }\n",
              "</style>\n",
              "<table border=\"1\" class=\"dataframe\">\n",
              "  <thead>\n",
              "    <tr style=\"text-align: right;\">\n",
              "      <th></th>\n",
              "      <th>LAT</th>\n",
              "      <th>LON</th>\n",
              "      <th>SID</th>\n",
              "      <th>USA_WIND</th>\n",
              "      <th>CATEGORY</th>\n",
              "      <th>NSEC_TIME</th>\n",
              "      <th>ISO_TIME</th>\n",
              "      <th>CYCLONE_PRESENT</th>\n",
              "    </tr>\n",
              "  </thead>\n",
              "  <tbody>\n",
              "    <tr>\n",
              "      <th>0</th>\n",
              "      <td>20.086</td>\n",
              "      <td>129.000</td>\n",
              "      <td>1998187N17132</td>\n",
              "      <td>30.0</td>\n",
              "      <td>TD</td>\n",
              "      <td>899877600000000000</td>\n",
              "      <td>1998-07-08</td>\n",
              "      <td>1</td>\n",
              "    </tr>\n",
              "    <tr>\n",
              "      <th>1</th>\n",
              "      <td>20.254</td>\n",
              "      <td>128.858</td>\n",
              "      <td>1998187N17132</td>\n",
              "      <td>30.0</td>\n",
              "      <td>TD</td>\n",
              "      <td>899888400000000000</td>\n",
              "      <td>1998-07-08</td>\n",
              "      <td>1</td>\n",
              "    </tr>\n",
              "    <tr>\n",
              "      <th>2</th>\n",
              "      <td>20.450</td>\n",
              "      <td>128.700</td>\n",
              "      <td>1998187N17132</td>\n",
              "      <td>30.0</td>\n",
              "      <td>TD</td>\n",
              "      <td>899899200000000000</td>\n",
              "      <td>1998-07-08</td>\n",
              "      <td>1</td>\n",
              "    </tr>\n",
              "    <tr>\n",
              "      <th>3</th>\n",
              "      <td>20.632</td>\n",
              "      <td>128.575</td>\n",
              "      <td>1998187N17132</td>\n",
              "      <td>30.0</td>\n",
              "      <td>TD</td>\n",
              "      <td>899910000000000000</td>\n",
              "      <td>1998-07-08</td>\n",
              "      <td>1</td>\n",
              "    </tr>\n",
              "    <tr>\n",
              "      <th>4</th>\n",
              "      <td>20.800</td>\n",
              "      <td>128.450</td>\n",
              "      <td>1998187N17132</td>\n",
              "      <td>30.0</td>\n",
              "      <td>TD</td>\n",
              "      <td>899920800000000000</td>\n",
              "      <td>1998-07-08</td>\n",
              "      <td>1</td>\n",
              "    </tr>\n",
              "  </tbody>\n",
              "</table>\n",
              "</div>\n",
              "      <button class=\"colab-df-convert\" onclick=\"convertToInteractive('df-c2a1f4de-9317-44d4-8a7b-8cc0d5a34ac4')\"\n",
              "              title=\"Convert this dataframe to an interactive table.\"\n",
              "              style=\"display:none;\">\n",
              "        \n",
              "  <svg xmlns=\"http://www.w3.org/2000/svg\" height=\"24px\"viewBox=\"0 0 24 24\"\n",
              "       width=\"24px\">\n",
              "    <path d=\"M0 0h24v24H0V0z\" fill=\"none\"/>\n",
              "    <path d=\"M18.56 5.44l.94 2.06.94-2.06 2.06-.94-2.06-.94-.94-2.06-.94 2.06-2.06.94zm-11 1L8.5 8.5l.94-2.06 2.06-.94-2.06-.94L8.5 2.5l-.94 2.06-2.06.94zm10 10l.94 2.06.94-2.06 2.06-.94-2.06-.94-.94-2.06-.94 2.06-2.06.94z\"/><path d=\"M17.41 7.96l-1.37-1.37c-.4-.4-.92-.59-1.43-.59-.52 0-1.04.2-1.43.59L10.3 9.45l-7.72 7.72c-.78.78-.78 2.05 0 2.83L4 21.41c.39.39.9.59 1.41.59.51 0 1.02-.2 1.41-.59l7.78-7.78 2.81-2.81c.8-.78.8-2.07 0-2.86zM5.41 20L4 18.59l7.72-7.72 1.47 1.35L5.41 20z\"/>\n",
              "  </svg>\n",
              "      </button>\n",
              "      \n",
              "  <style>\n",
              "    .colab-df-container {\n",
              "      display:flex;\n",
              "      flex-wrap:wrap;\n",
              "      gap: 12px;\n",
              "    }\n",
              "\n",
              "    .colab-df-convert {\n",
              "      background-color: #E8F0FE;\n",
              "      border: none;\n",
              "      border-radius: 50%;\n",
              "      cursor: pointer;\n",
              "      display: none;\n",
              "      fill: #1967D2;\n",
              "      height: 32px;\n",
              "      padding: 0 0 0 0;\n",
              "      width: 32px;\n",
              "    }\n",
              "\n",
              "    .colab-df-convert:hover {\n",
              "      background-color: #E2EBFA;\n",
              "      box-shadow: 0px 1px 2px rgba(60, 64, 67, 0.3), 0px 1px 3px 1px rgba(60, 64, 67, 0.15);\n",
              "      fill: #174EA6;\n",
              "    }\n",
              "\n",
              "    [theme=dark] .colab-df-convert {\n",
              "      background-color: #3B4455;\n",
              "      fill: #D2E3FC;\n",
              "    }\n",
              "\n",
              "    [theme=dark] .colab-df-convert:hover {\n",
              "      background-color: #434B5C;\n",
              "      box-shadow: 0px 1px 3px 1px rgba(0, 0, 0, 0.15);\n",
              "      filter: drop-shadow(0px 1px 2px rgba(0, 0, 0, 0.3));\n",
              "      fill: #FFFFFF;\n",
              "    }\n",
              "  </style>\n",
              "\n",
              "      <script>\n",
              "        const buttonEl =\n",
              "          document.querySelector('#df-c2a1f4de-9317-44d4-8a7b-8cc0d5a34ac4 button.colab-df-convert');\n",
              "        buttonEl.style.display =\n",
              "          google.colab.kernel.accessAllowed ? 'block' : 'none';\n",
              "\n",
              "        async function convertToInteractive(key) {\n",
              "          const element = document.querySelector('#df-c2a1f4de-9317-44d4-8a7b-8cc0d5a34ac4');\n",
              "          const dataTable =\n",
              "            await google.colab.kernel.invokeFunction('convertToInteractive',\n",
              "                                                     [key], {});\n",
              "          if (!dataTable) return;\n",
              "\n",
              "          const docLinkHtml = 'Like what you see? Visit the ' +\n",
              "            '<a target=\"_blank\" href=https://colab.research.google.com/notebooks/data_table.ipynb>data table notebook</a>'\n",
              "            + ' to learn more about interactive tables.';\n",
              "          element.innerHTML = '';\n",
              "          dataTable['output_type'] = 'display_data';\n",
              "          await google.colab.output.renderOutput(dataTable, element);\n",
              "          const docLink = document.createElement('div');\n",
              "          docLink.innerHTML = docLinkHtml;\n",
              "          element.appendChild(docLink);\n",
              "        }\n",
              "      </script>\n",
              "    </div>\n",
              "  </div>\n",
              "  "
            ]
          },
          "metadata": {},
          "execution_count": 38
        }
      ]
    },
    {
      "cell_type": "code",
      "source": [
        "finalData = pd.merge(left=output, right=cyclonesData[[\"ISO_TIME\", \"CYCLONE_PRESENT\", \"SID\"]], how=\"left\", on=['ISO_TIME'])\n",
        "finalData.head()"
      ],
      "metadata": {
        "id": "fX6OWZxpQ1AG",
        "colab": {
          "base_uri": "https://localhost:8080/",
          "height": 337
        },
        "outputId": "061f79eb-0909-4eb6-a3f0-7b25832e57a0"
      },
      "execution_count": 39,
      "outputs": [
        {
          "output_type": "execute_result",
          "data": {
            "text/plain": [
              "   year  month  day                                                sst  \\\n",
              "0  2002      6    2  [27.599999999999998, 27.75, 28.349999999999998...   \n",
              "1  2002      6    3  [27.674999999999997, 27.84375, 28.65, 28.29999...   \n",
              "2  2002      6    4  [27.525, 27.581249999999997, 28.65, 28.525, 28...   \n",
              "3  2002      6    5  [27.787499999999998, 27.468749999999996, 28.04...   \n",
              "4  2002      6    6  [28.05, 27.6375, 27.9, 28.7, 28.56666666666666...   \n",
              "\n",
              "                                                 ssh   ISO_TIME  \\\n",
              "0  [0.9814750000000001, 0.9988874999999999, 1.015... 2002-06-02   \n",
              "1  [0.976075, 1.0042, 1.0390000000000001, 1.08925... 2002-06-03   \n",
              "2  [0.982925, 1.0193, 1.0624, 1.1079500000000002,... 2002-06-04   \n",
              "3  [0.99525, 1.0323125, 1.0793000000000001, 1.124... 2002-06-05   \n",
              "4  [1.0021, 1.0426375, 1.0975000000000001, 1.1285... 2002-06-06   \n",
              "\n",
              "             NSEC_TIME  CYCLONE_PRESENT  SID  \n",
              "0  1022976000000000000              NaN  NaN  \n",
              "1  1023062400000000000              NaN  NaN  \n",
              "2  1023148800000000000              NaN  NaN  \n",
              "3  1023235200000000000              NaN  NaN  \n",
              "4  1023321600000000000              NaN  NaN  "
            ],
            "text/html": [
              "\n",
              "  <div id=\"df-c61452d0-812d-4fbb-8452-10d58d246858\">\n",
              "    <div class=\"colab-df-container\">\n",
              "      <div>\n",
              "<style scoped>\n",
              "    .dataframe tbody tr th:only-of-type {\n",
              "        vertical-align: middle;\n",
              "    }\n",
              "\n",
              "    .dataframe tbody tr th {\n",
              "        vertical-align: top;\n",
              "    }\n",
              "\n",
              "    .dataframe thead th {\n",
              "        text-align: right;\n",
              "    }\n",
              "</style>\n",
              "<table border=\"1\" class=\"dataframe\">\n",
              "  <thead>\n",
              "    <tr style=\"text-align: right;\">\n",
              "      <th></th>\n",
              "      <th>year</th>\n",
              "      <th>month</th>\n",
              "      <th>day</th>\n",
              "      <th>sst</th>\n",
              "      <th>ssh</th>\n",
              "      <th>ISO_TIME</th>\n",
              "      <th>NSEC_TIME</th>\n",
              "      <th>CYCLONE_PRESENT</th>\n",
              "      <th>SID</th>\n",
              "    </tr>\n",
              "  </thead>\n",
              "  <tbody>\n",
              "    <tr>\n",
              "      <th>0</th>\n",
              "      <td>2002</td>\n",
              "      <td>6</td>\n",
              "      <td>2</td>\n",
              "      <td>[27.599999999999998, 27.75, 28.349999999999998...</td>\n",
              "      <td>[0.9814750000000001, 0.9988874999999999, 1.015...</td>\n",
              "      <td>2002-06-02</td>\n",
              "      <td>1022976000000000000</td>\n",
              "      <td>NaN</td>\n",
              "      <td>NaN</td>\n",
              "    </tr>\n",
              "    <tr>\n",
              "      <th>1</th>\n",
              "      <td>2002</td>\n",
              "      <td>6</td>\n",
              "      <td>3</td>\n",
              "      <td>[27.674999999999997, 27.84375, 28.65, 28.29999...</td>\n",
              "      <td>[0.976075, 1.0042, 1.0390000000000001, 1.08925...</td>\n",
              "      <td>2002-06-03</td>\n",
              "      <td>1023062400000000000</td>\n",
              "      <td>NaN</td>\n",
              "      <td>NaN</td>\n",
              "    </tr>\n",
              "    <tr>\n",
              "      <th>2</th>\n",
              "      <td>2002</td>\n",
              "      <td>6</td>\n",
              "      <td>4</td>\n",
              "      <td>[27.525, 27.581249999999997, 28.65, 28.525, 28...</td>\n",
              "      <td>[0.982925, 1.0193, 1.0624, 1.1079500000000002,...</td>\n",
              "      <td>2002-06-04</td>\n",
              "      <td>1023148800000000000</td>\n",
              "      <td>NaN</td>\n",
              "      <td>NaN</td>\n",
              "    </tr>\n",
              "    <tr>\n",
              "      <th>3</th>\n",
              "      <td>2002</td>\n",
              "      <td>6</td>\n",
              "      <td>5</td>\n",
              "      <td>[27.787499999999998, 27.468749999999996, 28.04...</td>\n",
              "      <td>[0.99525, 1.0323125, 1.0793000000000001, 1.124...</td>\n",
              "      <td>2002-06-05</td>\n",
              "      <td>1023235200000000000</td>\n",
              "      <td>NaN</td>\n",
              "      <td>NaN</td>\n",
              "    </tr>\n",
              "    <tr>\n",
              "      <th>4</th>\n",
              "      <td>2002</td>\n",
              "      <td>6</td>\n",
              "      <td>6</td>\n",
              "      <td>[28.05, 27.6375, 27.9, 28.7, 28.56666666666666...</td>\n",
              "      <td>[1.0021, 1.0426375, 1.0975000000000001, 1.1285...</td>\n",
              "      <td>2002-06-06</td>\n",
              "      <td>1023321600000000000</td>\n",
              "      <td>NaN</td>\n",
              "      <td>NaN</td>\n",
              "    </tr>\n",
              "  </tbody>\n",
              "</table>\n",
              "</div>\n",
              "      <button class=\"colab-df-convert\" onclick=\"convertToInteractive('df-c61452d0-812d-4fbb-8452-10d58d246858')\"\n",
              "              title=\"Convert this dataframe to an interactive table.\"\n",
              "              style=\"display:none;\">\n",
              "        \n",
              "  <svg xmlns=\"http://www.w3.org/2000/svg\" height=\"24px\"viewBox=\"0 0 24 24\"\n",
              "       width=\"24px\">\n",
              "    <path d=\"M0 0h24v24H0V0z\" fill=\"none\"/>\n",
              "    <path d=\"M18.56 5.44l.94 2.06.94-2.06 2.06-.94-2.06-.94-.94-2.06-.94 2.06-2.06.94zm-11 1L8.5 8.5l.94-2.06 2.06-.94-2.06-.94L8.5 2.5l-.94 2.06-2.06.94zm10 10l.94 2.06.94-2.06 2.06-.94-2.06-.94-.94-2.06-.94 2.06-2.06.94z\"/><path d=\"M17.41 7.96l-1.37-1.37c-.4-.4-.92-.59-1.43-.59-.52 0-1.04.2-1.43.59L10.3 9.45l-7.72 7.72c-.78.78-.78 2.05 0 2.83L4 21.41c.39.39.9.59 1.41.59.51 0 1.02-.2 1.41-.59l7.78-7.78 2.81-2.81c.8-.78.8-2.07 0-2.86zM5.41 20L4 18.59l7.72-7.72 1.47 1.35L5.41 20z\"/>\n",
              "  </svg>\n",
              "      </button>\n",
              "      \n",
              "  <style>\n",
              "    .colab-df-container {\n",
              "      display:flex;\n",
              "      flex-wrap:wrap;\n",
              "      gap: 12px;\n",
              "    }\n",
              "\n",
              "    .colab-df-convert {\n",
              "      background-color: #E8F0FE;\n",
              "      border: none;\n",
              "      border-radius: 50%;\n",
              "      cursor: pointer;\n",
              "      display: none;\n",
              "      fill: #1967D2;\n",
              "      height: 32px;\n",
              "      padding: 0 0 0 0;\n",
              "      width: 32px;\n",
              "    }\n",
              "\n",
              "    .colab-df-convert:hover {\n",
              "      background-color: #E2EBFA;\n",
              "      box-shadow: 0px 1px 2px rgba(60, 64, 67, 0.3), 0px 1px 3px 1px rgba(60, 64, 67, 0.15);\n",
              "      fill: #174EA6;\n",
              "    }\n",
              "\n",
              "    [theme=dark] .colab-df-convert {\n",
              "      background-color: #3B4455;\n",
              "      fill: #D2E3FC;\n",
              "    }\n",
              "\n",
              "    [theme=dark] .colab-df-convert:hover {\n",
              "      background-color: #434B5C;\n",
              "      box-shadow: 0px 1px 3px 1px rgba(0, 0, 0, 0.15);\n",
              "      filter: drop-shadow(0px 1px 2px rgba(0, 0, 0, 0.3));\n",
              "      fill: #FFFFFF;\n",
              "    }\n",
              "  </style>\n",
              "\n",
              "      <script>\n",
              "        const buttonEl =\n",
              "          document.querySelector('#df-c61452d0-812d-4fbb-8452-10d58d246858 button.colab-df-convert');\n",
              "        buttonEl.style.display =\n",
              "          google.colab.kernel.accessAllowed ? 'block' : 'none';\n",
              "\n",
              "        async function convertToInteractive(key) {\n",
              "          const element = document.querySelector('#df-c61452d0-812d-4fbb-8452-10d58d246858');\n",
              "          const dataTable =\n",
              "            await google.colab.kernel.invokeFunction('convertToInteractive',\n",
              "                                                     [key], {});\n",
              "          if (!dataTable) return;\n",
              "\n",
              "          const docLinkHtml = 'Like what you see? Visit the ' +\n",
              "            '<a target=\"_blank\" href=https://colab.research.google.com/notebooks/data_table.ipynb>data table notebook</a>'\n",
              "            + ' to learn more about interactive tables.';\n",
              "          element.innerHTML = '';\n",
              "          dataTable['output_type'] = 'display_data';\n",
              "          await google.colab.output.renderOutput(dataTable, element);\n",
              "          const docLink = document.createElement('div');\n",
              "          docLink.innerHTML = docLinkHtml;\n",
              "          element.appendChild(docLink);\n",
              "        }\n",
              "      </script>\n",
              "    </div>\n",
              "  </div>\n",
              "  "
            ]
          },
          "metadata": {},
          "execution_count": 39
        }
      ]
    },
    {
      "cell_type": "code",
      "source": [
        "print(\"From all unique cyclones :\",cyclonesData[\"SID\"].nunique())\n",
        "print(finalData[\"SID\"].nunique(), \"were matched in the sst/ssh dataset\")"
      ],
      "metadata": {
        "id": "ABaIGu08Q3mV",
        "outputId": "c67c0533-cbb0-4a0a-e69f-e1fff60ed0b1",
        "colab": {
          "base_uri": "https://localhost:8080/"
        }
      },
      "execution_count": 40,
      "outputs": [
        {
          "output_type": "stream",
          "name": "stdout",
          "text": [
            "From all unique cyclones : 268\n",
            "200 were matched in the sst/ssh dataset\n"
          ]
        }
      ]
    },
    {
      "cell_type": "markdown",
      "source": [
        "# Model cyclone apparition prediction"
      ],
      "metadata": {
        "id": "L9cmUrEsdKW6"
      }
    },
    {
      "cell_type": "markdown",
      "source": [
        "\n",
        "## Hyperparameters selection"
      ],
      "metadata": {
        "id": "B4FcxiVtkvw_"
      }
    },
    {
      "cell_type": "code",
      "source": [
        "#free up memory\n",
        "del output\n",
        "gc.collect()"
      ],
      "metadata": {
        "colab": {
          "base_uri": "https://localhost:8080/"
        },
        "id": "92PyNBJgacTZ",
        "outputId": "a20a7503-34d3-473a-9123-9858b4cdd54a"
      },
      "execution_count": 41,
      "outputs": [
        {
          "output_type": "execute_result",
          "data": {
            "text/plain": [
              "284"
            ]
          },
          "metadata": {},
          "execution_count": 41
        }
      ]
    },
    {
      "cell_type": "code",
      "source": [
        "measures_per_day_ssh = len(finalData[\"ssh\"].iloc[0])\n",
        "measures_names_ssh = [\"ssh-\"+str(i) for i in range(measures_per_day_ssh)]\n",
        "\n",
        "measures_per_day_sst = len(finalData[\"sst\"].iloc[0])\n",
        "measures_names_sst = [\"sst-\"+str(i) for i in range(measures_per_day_sst)]\n",
        "\n",
        "feature_names = [\"year\", \"month\", \"day\", \"NSEC_TIME\"] + measures_names_ssh + measures_names_sst\n",
        "print(\"Total columns : \", len(feature_names))"
      ],
      "metadata": {
        "id": "IvcY6i4nofY2",
        "outputId": "051f8882-abc1-4554-9f4c-c91a88b90cbd",
        "colab": {
          "base_uri": "https://localhost:8080/"
        }
      },
      "execution_count": 42,
      "outputs": [
        {
          "output_type": "stream",
          "name": "stdout",
          "text": [
            "Total columns :  844\n"
          ]
        }
      ]
    },
    {
      "cell_type": "code",
      "source": [
        "finalData[\"CYCLONE_PRESENT\"].fillna(0, inplace=True)\n",
        "if \"SID\" in finalData.columns: finalData.drop(columns=[\"SID\"], inplace=True)\n",
        "\n",
        "finalData[measures_names_ssh] = pd.DataFrame(finalData['ssh'].to_list(), columns=measures_names_ssh)\n",
        "finalData[measures_names_sst] = pd.DataFrame(finalData['sst'].to_list(), columns=measures_names_sst)\n",
        "\n",
        "finalData.head()"
      ],
      "metadata": {
        "colab": {
          "base_uri": "https://localhost:8080/",
          "height": 473
        },
        "id": "_y0ZwA4idZ-Y",
        "outputId": "62101a45-a250-4674-b7a8-2d555cacc7fb"
      },
      "execution_count": 43,
      "outputs": [
        {
          "output_type": "execute_result",
          "data": {
            "text/plain": [
              "   year  month  day                                                sst  \\\n",
              "0  2002      6    2  [27.599999999999998, 27.75, 28.349999999999998...   \n",
              "1  2002      6    3  [27.674999999999997, 27.84375, 28.65, 28.29999...   \n",
              "2  2002      6    4  [27.525, 27.581249999999997, 28.65, 28.525, 28...   \n",
              "3  2002      6    5  [27.787499999999998, 27.468749999999996, 28.04...   \n",
              "4  2002      6    6  [28.05, 27.6375, 27.9, 28.7, 28.56666666666666...   \n",
              "\n",
              "                                                 ssh   ISO_TIME  \\\n",
              "0  [0.9814750000000001, 0.9988874999999999, 1.015... 2002-06-02   \n",
              "1  [0.976075, 1.0042, 1.0390000000000001, 1.08925... 2002-06-03   \n",
              "2  [0.982925, 1.0193, 1.0624, 1.1079500000000002,... 2002-06-04   \n",
              "3  [0.99525, 1.0323125, 1.0793000000000001, 1.124... 2002-06-05   \n",
              "4  [1.0021, 1.0426375, 1.0975000000000001, 1.1285... 2002-06-06   \n",
              "\n",
              "             NSEC_TIME  CYCLONE_PRESENT     ssh-0     ssh-1  ...   sst-410  \\\n",
              "0  1022976000000000000              0.0  0.981475  0.998887  ...  20.53125   \n",
              "1  1023062400000000000              0.0  0.976075  1.004200  ...  20.75625   \n",
              "2  1023148800000000000              0.0  0.982925  1.019300  ...  21.30000   \n",
              "3  1023235200000000000              0.0  0.995250  1.032312  ...  21.63750   \n",
              "4  1023321600000000000              0.0  1.002100  1.042638  ...  21.75000   \n",
              "\n",
              "    sst-411   sst-412   sst-413   sst-414   sst-415   sst-416   sst-417  \\\n",
              "0  20.10000  20.10000  21.33750  21.61875  20.86875  18.35625  17.02500   \n",
              "1  20.41875  20.85000  21.90000  21.75000  21.31875  18.41250  17.19375   \n",
              "2  20.92500  21.24375  22.25625  22.38750  21.91875  19.12500  17.60625   \n",
              "3  21.35625  21.76875  22.50000  22.72500  22.65000  19.68750  18.50625   \n",
              "4  21.56250  21.86250  22.66875  22.66875  22.25625  19.59375  18.88125   \n",
              "\n",
              "    sst-418  sst-419  \n",
              "0  14.88750  12.6375  \n",
              "1  14.58750  12.6750  \n",
              "2  14.96250  12.9750  \n",
              "3  16.10625  13.5750  \n",
              "4  16.76250  14.1750  \n",
              "\n",
              "[5 rows x 848 columns]"
            ],
            "text/html": [
              "\n",
              "  <div id=\"df-4722185c-b7bf-4826-8956-7c543633b494\">\n",
              "    <div class=\"colab-df-container\">\n",
              "      <div>\n",
              "<style scoped>\n",
              "    .dataframe tbody tr th:only-of-type {\n",
              "        vertical-align: middle;\n",
              "    }\n",
              "\n",
              "    .dataframe tbody tr th {\n",
              "        vertical-align: top;\n",
              "    }\n",
              "\n",
              "    .dataframe thead th {\n",
              "        text-align: right;\n",
              "    }\n",
              "</style>\n",
              "<table border=\"1\" class=\"dataframe\">\n",
              "  <thead>\n",
              "    <tr style=\"text-align: right;\">\n",
              "      <th></th>\n",
              "      <th>year</th>\n",
              "      <th>month</th>\n",
              "      <th>day</th>\n",
              "      <th>sst</th>\n",
              "      <th>ssh</th>\n",
              "      <th>ISO_TIME</th>\n",
              "      <th>NSEC_TIME</th>\n",
              "      <th>CYCLONE_PRESENT</th>\n",
              "      <th>ssh-0</th>\n",
              "      <th>ssh-1</th>\n",
              "      <th>...</th>\n",
              "      <th>sst-410</th>\n",
              "      <th>sst-411</th>\n",
              "      <th>sst-412</th>\n",
              "      <th>sst-413</th>\n",
              "      <th>sst-414</th>\n",
              "      <th>sst-415</th>\n",
              "      <th>sst-416</th>\n",
              "      <th>sst-417</th>\n",
              "      <th>sst-418</th>\n",
              "      <th>sst-419</th>\n",
              "    </tr>\n",
              "  </thead>\n",
              "  <tbody>\n",
              "    <tr>\n",
              "      <th>0</th>\n",
              "      <td>2002</td>\n",
              "      <td>6</td>\n",
              "      <td>2</td>\n",
              "      <td>[27.599999999999998, 27.75, 28.349999999999998...</td>\n",
              "      <td>[0.9814750000000001, 0.9988874999999999, 1.015...</td>\n",
              "      <td>2002-06-02</td>\n",
              "      <td>1022976000000000000</td>\n",
              "      <td>0.0</td>\n",
              "      <td>0.981475</td>\n",
              "      <td>0.998887</td>\n",
              "      <td>...</td>\n",
              "      <td>20.53125</td>\n",
              "      <td>20.10000</td>\n",
              "      <td>20.10000</td>\n",
              "      <td>21.33750</td>\n",
              "      <td>21.61875</td>\n",
              "      <td>20.86875</td>\n",
              "      <td>18.35625</td>\n",
              "      <td>17.02500</td>\n",
              "      <td>14.88750</td>\n",
              "      <td>12.6375</td>\n",
              "    </tr>\n",
              "    <tr>\n",
              "      <th>1</th>\n",
              "      <td>2002</td>\n",
              "      <td>6</td>\n",
              "      <td>3</td>\n",
              "      <td>[27.674999999999997, 27.84375, 28.65, 28.29999...</td>\n",
              "      <td>[0.976075, 1.0042, 1.0390000000000001, 1.08925...</td>\n",
              "      <td>2002-06-03</td>\n",
              "      <td>1023062400000000000</td>\n",
              "      <td>0.0</td>\n",
              "      <td>0.976075</td>\n",
              "      <td>1.004200</td>\n",
              "      <td>...</td>\n",
              "      <td>20.75625</td>\n",
              "      <td>20.41875</td>\n",
              "      <td>20.85000</td>\n",
              "      <td>21.90000</td>\n",
              "      <td>21.75000</td>\n",
              "      <td>21.31875</td>\n",
              "      <td>18.41250</td>\n",
              "      <td>17.19375</td>\n",
              "      <td>14.58750</td>\n",
              "      <td>12.6750</td>\n",
              "    </tr>\n",
              "    <tr>\n",
              "      <th>2</th>\n",
              "      <td>2002</td>\n",
              "      <td>6</td>\n",
              "      <td>4</td>\n",
              "      <td>[27.525, 27.581249999999997, 28.65, 28.525, 28...</td>\n",
              "      <td>[0.982925, 1.0193, 1.0624, 1.1079500000000002,...</td>\n",
              "      <td>2002-06-04</td>\n",
              "      <td>1023148800000000000</td>\n",
              "      <td>0.0</td>\n",
              "      <td>0.982925</td>\n",
              "      <td>1.019300</td>\n",
              "      <td>...</td>\n",
              "      <td>21.30000</td>\n",
              "      <td>20.92500</td>\n",
              "      <td>21.24375</td>\n",
              "      <td>22.25625</td>\n",
              "      <td>22.38750</td>\n",
              "      <td>21.91875</td>\n",
              "      <td>19.12500</td>\n",
              "      <td>17.60625</td>\n",
              "      <td>14.96250</td>\n",
              "      <td>12.9750</td>\n",
              "    </tr>\n",
              "    <tr>\n",
              "      <th>3</th>\n",
              "      <td>2002</td>\n",
              "      <td>6</td>\n",
              "      <td>5</td>\n",
              "      <td>[27.787499999999998, 27.468749999999996, 28.04...</td>\n",
              "      <td>[0.99525, 1.0323125, 1.0793000000000001, 1.124...</td>\n",
              "      <td>2002-06-05</td>\n",
              "      <td>1023235200000000000</td>\n",
              "      <td>0.0</td>\n",
              "      <td>0.995250</td>\n",
              "      <td>1.032312</td>\n",
              "      <td>...</td>\n",
              "      <td>21.63750</td>\n",
              "      <td>21.35625</td>\n",
              "      <td>21.76875</td>\n",
              "      <td>22.50000</td>\n",
              "      <td>22.72500</td>\n",
              "      <td>22.65000</td>\n",
              "      <td>19.68750</td>\n",
              "      <td>18.50625</td>\n",
              "      <td>16.10625</td>\n",
              "      <td>13.5750</td>\n",
              "    </tr>\n",
              "    <tr>\n",
              "      <th>4</th>\n",
              "      <td>2002</td>\n",
              "      <td>6</td>\n",
              "      <td>6</td>\n",
              "      <td>[28.05, 27.6375, 27.9, 28.7, 28.56666666666666...</td>\n",
              "      <td>[1.0021, 1.0426375, 1.0975000000000001, 1.1285...</td>\n",
              "      <td>2002-06-06</td>\n",
              "      <td>1023321600000000000</td>\n",
              "      <td>0.0</td>\n",
              "      <td>1.002100</td>\n",
              "      <td>1.042638</td>\n",
              "      <td>...</td>\n",
              "      <td>21.75000</td>\n",
              "      <td>21.56250</td>\n",
              "      <td>21.86250</td>\n",
              "      <td>22.66875</td>\n",
              "      <td>22.66875</td>\n",
              "      <td>22.25625</td>\n",
              "      <td>19.59375</td>\n",
              "      <td>18.88125</td>\n",
              "      <td>16.76250</td>\n",
              "      <td>14.1750</td>\n",
              "    </tr>\n",
              "  </tbody>\n",
              "</table>\n",
              "<p>5 rows × 848 columns</p>\n",
              "</div>\n",
              "      <button class=\"colab-df-convert\" onclick=\"convertToInteractive('df-4722185c-b7bf-4826-8956-7c543633b494')\"\n",
              "              title=\"Convert this dataframe to an interactive table.\"\n",
              "              style=\"display:none;\">\n",
              "        \n",
              "  <svg xmlns=\"http://www.w3.org/2000/svg\" height=\"24px\"viewBox=\"0 0 24 24\"\n",
              "       width=\"24px\">\n",
              "    <path d=\"M0 0h24v24H0V0z\" fill=\"none\"/>\n",
              "    <path d=\"M18.56 5.44l.94 2.06.94-2.06 2.06-.94-2.06-.94-.94-2.06-.94 2.06-2.06.94zm-11 1L8.5 8.5l.94-2.06 2.06-.94-2.06-.94L8.5 2.5l-.94 2.06-2.06.94zm10 10l.94 2.06.94-2.06 2.06-.94-2.06-.94-.94-2.06-.94 2.06-2.06.94z\"/><path d=\"M17.41 7.96l-1.37-1.37c-.4-.4-.92-.59-1.43-.59-.52 0-1.04.2-1.43.59L10.3 9.45l-7.72 7.72c-.78.78-.78 2.05 0 2.83L4 21.41c.39.39.9.59 1.41.59.51 0 1.02-.2 1.41-.59l7.78-7.78 2.81-2.81c.8-.78.8-2.07 0-2.86zM5.41 20L4 18.59l7.72-7.72 1.47 1.35L5.41 20z\"/>\n",
              "  </svg>\n",
              "      </button>\n",
              "      \n",
              "  <style>\n",
              "    .colab-df-container {\n",
              "      display:flex;\n",
              "      flex-wrap:wrap;\n",
              "      gap: 12px;\n",
              "    }\n",
              "\n",
              "    .colab-df-convert {\n",
              "      background-color: #E8F0FE;\n",
              "      border: none;\n",
              "      border-radius: 50%;\n",
              "      cursor: pointer;\n",
              "      display: none;\n",
              "      fill: #1967D2;\n",
              "      height: 32px;\n",
              "      padding: 0 0 0 0;\n",
              "      width: 32px;\n",
              "    }\n",
              "\n",
              "    .colab-df-convert:hover {\n",
              "      background-color: #E2EBFA;\n",
              "      box-shadow: 0px 1px 2px rgba(60, 64, 67, 0.3), 0px 1px 3px 1px rgba(60, 64, 67, 0.15);\n",
              "      fill: #174EA6;\n",
              "    }\n",
              "\n",
              "    [theme=dark] .colab-df-convert {\n",
              "      background-color: #3B4455;\n",
              "      fill: #D2E3FC;\n",
              "    }\n",
              "\n",
              "    [theme=dark] .colab-df-convert:hover {\n",
              "      background-color: #434B5C;\n",
              "      box-shadow: 0px 1px 3px 1px rgba(0, 0, 0, 0.15);\n",
              "      filter: drop-shadow(0px 1px 2px rgba(0, 0, 0, 0.3));\n",
              "      fill: #FFFFFF;\n",
              "    }\n",
              "  </style>\n",
              "\n",
              "      <script>\n",
              "        const buttonEl =\n",
              "          document.querySelector('#df-4722185c-b7bf-4826-8956-7c543633b494 button.colab-df-convert');\n",
              "        buttonEl.style.display =\n",
              "          google.colab.kernel.accessAllowed ? 'block' : 'none';\n",
              "\n",
              "        async function convertToInteractive(key) {\n",
              "          const element = document.querySelector('#df-4722185c-b7bf-4826-8956-7c543633b494');\n",
              "          const dataTable =\n",
              "            await google.colab.kernel.invokeFunction('convertToInteractive',\n",
              "                                                     [key], {});\n",
              "          if (!dataTable) return;\n",
              "\n",
              "          const docLinkHtml = 'Like what you see? Visit the ' +\n",
              "            '<a target=\"_blank\" href=https://colab.research.google.com/notebooks/data_table.ipynb>data table notebook</a>'\n",
              "            + ' to learn more about interactive tables.';\n",
              "          element.innerHTML = '';\n",
              "          dataTable['output_type'] = 'display_data';\n",
              "          await google.colab.output.renderOutput(dataTable, element);\n",
              "          const docLink = document.createElement('div');\n",
              "          docLink.innerHTML = docLinkHtml;\n",
              "          element.appendChild(docLink);\n",
              "        }\n",
              "      </script>\n",
              "    </div>\n",
              "  </div>\n",
              "  "
            ]
          },
          "metadata": {},
          "execution_count": 43
        }
      ]
    },
    {
      "cell_type": "code",
      "source": [
        "cyclonePtCount = len(finalData[finalData.CYCLONE_PRESENT == 1])\n",
        "totalDataCount = len(finalData)\n",
        "\n",
        "print(\"Points labelled as cyclone present : \", cyclonePtCount, f'({cyclonePtCount/totalDataCount*100:.{2}f}%)')\n",
        "print(\"Points labelled as cyclone not present : \",  totalDataCount-cyclonePtCount, f'({(1-cyclonePtCount/totalDataCount)*100:.{2}f}%)')"
      ],
      "metadata": {
        "colab": {
          "base_uri": "https://localhost:8080/"
        },
        "id": "_hWHsrJzeqIf",
        "outputId": "d6a7c7c7-e4c5-4e0c-adc6-c1c9b64368a6"
      },
      "execution_count": 44,
      "outputs": [
        {
          "output_type": "stream",
          "name": "stdout",
          "text": [
            "Points labelled as cyclone present :  5492 (56.76%)\n",
            "Points labelled as cyclone not present :  4184 (43.24%)\n"
          ]
        }
      ]
    },
    {
      "cell_type": "code",
      "source": [
        "from sklearn.model_selection import train_test_split\n",
        "from sklearn.ensemble import RandomForestClassifier\n",
        "from sklearn.preprocessing import StandardScaler\n",
        "from sklearn.metrics import precision_score, recall_score, ConfusionMatrixDisplay, roc_auc_score"
      ],
      "metadata": {
        "id": "oCxP58ngfBCx"
      },
      "execution_count": 45,
      "outputs": []
    },
    {
      "cell_type": "code",
      "source": [
        "def generateData(positive_ratio, train_test_ratio):\n",
        "    data = finalData[finalData[\"CYCLONE_PRESENT\"] == 1] #getting all positive data\n",
        "    data = pd.concat([\n",
        "        data, \n",
        "        finalData.sample(min(int(len(data)*(1-positive_ratio)/positive_ratio), len(finalData)))\n",
        "    ]) #mixing with negative data\n",
        "    data.sort_values(\"NSEC_TIME\", inplace=True)\n",
        "\n",
        "    x = data[feature_names]\n",
        "    y = data[\"CYCLONE_PRESENT\"]\n",
        "\n",
        "    x_train, x_test, y_train, y_test = train_test_split(x, y, test_size=train_test_ratio, shuffle=False)\n",
        "\n",
        "    scaler = StandardScaler()\n",
        "    scaler.fit(x_train)\n",
        "\n",
        "    x_train = scaler.transform(x_train)\n",
        "    x_test = scaler.transform(x_test)\n",
        "\n",
        "    return x_train, x_test, y_train, y_test, scaler"
      ],
      "metadata": {
        "id": "cjetwrfmkJWc"
      },
      "execution_count": 48,
      "outputs": []
    },
    {
      "cell_type": "code",
      "source": [
        "train_test_ratios = np.linspace(0.5, 0.9, 5)\n",
        "positive_ratios = np.linspace(0.3, 0.8, 6)\n",
        "precisionMatrix = []\n",
        "recallMatrix = []\n",
        "precisionValidMatrix = []\n",
        "recallValidMatrix = []\n",
        "\n",
        "for positive_ratio in positive_ratios:\n",
        "    precisionSubMatrix = []\n",
        "    recallSubMatrix = []\n",
        "    precisionValidSubMatrix = []\n",
        "    recallValidSubMatrix = []\n",
        "    for train_test_ratio in train_test_ratios:\n",
        "        print(\"Testing for pos/neg ratio :\", positive_ratio, \"; train/test :\", train_test_ratio)\n",
        "        #--------------data splitting\n",
        "        x_train, x_test, y_train, y_test, scaler = generateData(positive_ratio, train_test_ratio)\n",
        "\n",
        "        #-------------fitting\n",
        "        model = RandomForestClassifier()\n",
        "\n",
        "        model.fit(x_train, y_train)\n",
        "\n",
        "        #-------------testing\n",
        "        y_pred = model.predict(x_test)\n",
        "\n",
        "        prec = precision_score(y_test, y_pred)\n",
        "        recall = recall_score(y_test, y_pred)\n",
        "\n",
        "        precisionSubMatrix.append(prec)\n",
        "        recallSubMatrix.append(recall)\n",
        "\n",
        "        #--------------validation\n",
        "        latest_train_date = scaler.inverse_transform(x_train[argmax(x_train[:, -1])].reshape(1,-1))[0][-1]\n",
        "        validation_data = finalData[finalData[\"NSEC_TIME\"] > latest_train_date]\n",
        "\n",
        "        x_valid = validation_data[feature_names]\n",
        "        y_valid = validation_data[\"CYCLONE_PRESENT\"]\n",
        "\n",
        "        y_pred_valid = model.predict(scaler.transform(x_valid))\n",
        "\n",
        "        prec_valid = precision_score(y_valid, y_pred_valid)\n",
        "        recall_valid = recall_score(y_valid, y_pred_valid)\n",
        "\n",
        "        precisionValidSubMatrix.append(prec_valid)\n",
        "        recallValidSubMatrix.append(recall_valid)\n",
        "\n",
        "\n",
        "    precisionSubMatrix.reverse()\n",
        "    recallSubMatrix.reverse()\n",
        "    precisionMatrix.append(precisionSubMatrix)\n",
        "    recallMatrix.append(recallSubMatrix)\n",
        "    \n",
        "    precisionValidSubMatrix.reverse()\n",
        "    recallValidSubMatrix.reverse()\n",
        "    precisionValidMatrix.append(precisionValidSubMatrix)\n",
        "    recallValidMatrix.append(recallValidSubMatrix)\n",
        "\n",
        "precisionMatrix.reverse()\n",
        "recallMatrix.reverse()\n",
        "precisionValidMatrix.reverse()\n",
        "recallValidMatrix.reverse()"
      ],
      "metadata": {
        "colab": {
          "base_uri": "https://localhost:8080/"
        },
        "id": "-Dou9jAKiJrl",
        "outputId": "bb356282-420f-4ea3-bbb9-4d2ec303ffc7"
      },
      "execution_count": 49,
      "outputs": [
        {
          "output_type": "stream",
          "name": "stdout",
          "text": [
            "Testing for pos/neg ratio : 0.3 ; train/test : 0.5\n",
            "Testing for pos/neg ratio : 0.3 ; train/test : 0.6\n",
            "Testing for pos/neg ratio : 0.3 ; train/test : 0.7\n",
            "Testing for pos/neg ratio : 0.3 ; train/test : 0.8\n",
            "Testing for pos/neg ratio : 0.3 ; train/test : 0.9\n",
            "Testing for pos/neg ratio : 0.4 ; train/test : 0.5\n",
            "Testing for pos/neg ratio : 0.4 ; train/test : 0.6\n",
            "Testing for pos/neg ratio : 0.4 ; train/test : 0.7\n",
            "Testing for pos/neg ratio : 0.4 ; train/test : 0.8\n",
            "Testing for pos/neg ratio : 0.4 ; train/test : 0.9\n",
            "Testing for pos/neg ratio : 0.5 ; train/test : 0.5\n",
            "Testing for pos/neg ratio : 0.5 ; train/test : 0.6\n",
            "Testing for pos/neg ratio : 0.5 ; train/test : 0.7\n",
            "Testing for pos/neg ratio : 0.5 ; train/test : 0.8\n",
            "Testing for pos/neg ratio : 0.5 ; train/test : 0.9\n",
            "Testing for pos/neg ratio : 0.6000000000000001 ; train/test : 0.5\n",
            "Testing for pos/neg ratio : 0.6000000000000001 ; train/test : 0.6\n",
            "Testing for pos/neg ratio : 0.6000000000000001 ; train/test : 0.7\n",
            "Testing for pos/neg ratio : 0.6000000000000001 ; train/test : 0.8\n",
            "Testing for pos/neg ratio : 0.6000000000000001 ; train/test : 0.9\n",
            "Testing for pos/neg ratio : 0.7 ; train/test : 0.5\n",
            "Testing for pos/neg ratio : 0.7 ; train/test : 0.6\n",
            "Testing for pos/neg ratio : 0.7 ; train/test : 0.7\n",
            "Testing for pos/neg ratio : 0.7 ; train/test : 0.8\n",
            "Testing for pos/neg ratio : 0.7 ; train/test : 0.9\n",
            "Testing for pos/neg ratio : 0.8 ; train/test : 0.5\n",
            "Testing for pos/neg ratio : 0.8 ; train/test : 0.6\n",
            "Testing for pos/neg ratio : 0.8 ; train/test : 0.7\n",
            "Testing for pos/neg ratio : 0.8 ; train/test : 0.8\n",
            "Testing for pos/neg ratio : 0.8 ; train/test : 0.9\n"
          ]
        }
      ]
    },
    {
      "cell_type": "code",
      "source": [
        "from mpl_toolkits.axes_grid1 import make_axes_locatable\n",
        "def plot_score(ax, matrixScore, titleTxt):\n",
        "    im = ax.imshow(matrixScore, cmap= 'viridis', vmin=0, vmax=1)\n",
        "\n",
        "    ax.set_xticks([i for i in range(len(train_test_ratios))])\n",
        "    ax.set_xticklabels(train_test_ratios)\n",
        "    ax.set_xlabel(\"Train/Test ratio\", size=20)\n",
        "\n",
        "    ax.set_yticks([i for i in range(len(positive_ratios))])\n",
        "    ax.set_yticklabels(np.flip(positive_ratios))\n",
        "    ax.set_ylabel(\"Positive/Negative ratio\", size=20)\n",
        "\n",
        "    ax.set_title(titleTxt, size=20)\n",
        "    return im"
      ],
      "metadata": {
        "id": "uMjcaDQdL8XY"
      },
      "execution_count": 50,
      "outputs": []
    },
    {
      "cell_type": "code",
      "source": [
        "fig, (ax1, ax2) = plt.subplots(1, 2)\n",
        "fig.suptitle('Scores on training set')\n",
        "im1 = plot_score(ax1, precisionMatrix, \"Precision score\")\n",
        "im2 = plot_score(ax2, recallMatrix, \"Recall score\")\n",
        "divider = make_axes_locatable(ax2)\n",
        "cax = divider.append_axes(\"right\", size=\"5%\", pad=0.05)\n",
        "   \n",
        "plt.colorbar(im1, cax=cax)"
      ],
      "metadata": {
        "colab": {
          "base_uri": "https://localhost:8080/",
          "height": 832
        },
        "id": "7Nkc5EG7ppk6",
        "outputId": "896cb3c3-33c6-425d-cdce-6c6324e9709d"
      },
      "execution_count": 51,
      "outputs": [
        {
          "output_type": "execute_result",
          "data": {
            "text/plain": [
              "<matplotlib.colorbar.Colorbar at 0x7fa991b061c0>"
            ]
          },
          "metadata": {},
          "execution_count": 51
        },
        {
          "output_type": "display_data",
          "data": {
            "text/plain": [
              "<Figure size 1080x1080 with 3 Axes>"
            ],
            "image/png": "[encoded data removed]"
          },
          "metadata": {
            "needs_background": "light"
          }
        }
      ]
    },
    {
      "cell_type": "code",
      "source": [
        "fig, (ax1, ax2) = plt.subplots(1, 2)\n",
        "fig.suptitle('Scores on validation set')\n",
        "im1 = plot_score(ax1, precisionValidMatrix, \"Precision score\")\n",
        "im2 = plot_score(ax2, recallValidMatrix, \"Recall score\")\n",
        "divider = make_axes_locatable(ax2)\n",
        "cax = divider.append_axes(\"right\", size=\"5%\", pad=0.05)\n",
        "   \n",
        "plt.colorbar(im1, cax=cax)"
      ],
      "metadata": {
        "colab": {
          "base_uri": "https://localhost:8080/",
          "height": 832
        },
        "id": "Wyj-UM_Wru4r",
        "outputId": "6a7ef18d-c525-4b9e-c7ac-d9f25b0a4ec5"
      },
      "execution_count": 52,
      "outputs": [
        {
          "output_type": "execute_result",
          "data": {
            "text/plain": [
              "<matplotlib.colorbar.Colorbar at 0x7fa99181e4f0>"
            ]
          },
          "metadata": {},
          "execution_count": 52
        },
        {
          "output_type": "display_data",
          "data": {
            "text/plain": [
              "<Figure size 1080x1080 with 3 Axes>"
            ],
            "image/png": "[encoded data removed]"
          },
          "metadata": {
            "needs_background": "light"
          }
        }
      ]
    },
    {
      "cell_type": "code",
      "source": [
        "maxForeach = [max(precisionValidMatrix[i]) for i in range(len(precisionValidMatrix))]\n",
        "posRInd = maxForeach.index(max(maxForeach))\n",
        "trainRInd = precisionValidMatrix[posRInd].index(max(precisionValidMatrix[posRInd]))\n",
        "print(\"To maximize precision (\",precisionValidMatrix[posRInd][trainRInd],\"), best ratios are :\")\n",
        "print(\"Pos/Neg ratio :\", np.flip(positive_ratios)[posRInd])\n",
        "print(\"Train/Test ratio :\", train_test_ratios[trainRInd])"
      ],
      "metadata": {
        "id": "64Pi7_UuQnsF",
        "outputId": "757251c8-efb0-4f4e-8a6f-3623ddfe8934",
        "colab": {
          "base_uri": "https://localhost:8080/"
        }
      },
      "execution_count": 53,
      "outputs": [
        {
          "output_type": "stream",
          "name": "stdout",
          "text": [
            "To maximize precision ( 0.9947916666666666 ), best ratios are :\n",
            "Pos/Neg ratio : 0.3\n",
            "Train/Test ratio : 0.5\n"
          ]
        }
      ]
    },
    {
      "cell_type": "code",
      "source": [
        "maxForeach = [max(recallValidMatrix[i]) for i in range(len(recallValidMatrix))]\n",
        "posRInd = maxForeach.index(max(maxForeach))\n",
        "trainRInd = recallValidMatrix[posRInd].index(max(recallValidMatrix[posRInd]))\n",
        "print(\"To maximize recall (\",recallValidMatrix[posRInd][trainRInd],\"), best ratios are :\")\n",
        "print(\"Pos/Neg ratio :\", np.flip(positive_ratios)[posRInd])\n",
        "print(\"Train/Test ratio :\", train_test_ratios[trainRInd])"
      ],
      "metadata": {
        "id": "G7YAbCJwR6K-",
        "outputId": "9067f6d8-d2c4-4880-80b6-eb898381ccab",
        "colab": {
          "base_uri": "https://localhost:8080/"
        }
      },
      "execution_count": 54,
      "outputs": [
        {
          "output_type": "stream",
          "name": "stdout",
          "text": [
            "To maximize recall ( 0.7135833940276766 ), best ratios are :\n",
            "Pos/Neg ratio : 0.8\n",
            "Train/Test ratio : 0.9\n"
          ]
        }
      ]
    },
    {
      "cell_type": "markdown",
      "source": [
        "## Model validation"
      ],
      "metadata": {
        "id": "_EpulkYskx3D"
      }
    },
    {
      "cell_type": "code",
      "source": [
        "bestPosR = 0.8\n",
        "bestTrainTestR = 0.9\n",
        "\n",
        "#validating model\n",
        "#--------------data splitting\n",
        "x_train, x_test, y_train, y_test, scaler = generateData(bestPosR, bestTrainTestR)\n",
        "\n",
        "#-------------fitting\n",
        "model = RandomForestClassifier(n_estimators=100)\n",
        "\n",
        "model.fit(x_train, y_train)\n",
        "\n",
        "#-------------testing\n",
        "y_pred = model.predict(x_test)\n",
        "\n",
        "prec = precision_score(y_test, y_pred)\n",
        "recall = recall_score(y_test, y_pred)\n",
        "roc = roc_auc_score(y_test, y_pred)\n",
        "\n",
        "#--------------validation\n",
        "latest_train_date = scaler.inverse_transform(x_train[argmax(x_train[:, -1])].reshape(1,-1))[0][-1]\n",
        "validation_data = finalData[finalData[\"NSEC_TIME\"] > latest_train_date]\n",
        "\n",
        "x_valid = validation_data[feature_names]\n",
        "y_valid = validation_data[\"CYCLONE_PRESENT\"]\n",
        "\n",
        "y_pred_valid = model.predict(scaler.transform(x_valid))\n",
        "\n",
        "prec_valid = precision_score(y_valid, y_pred_valid)\n",
        "recall_valid = recall_score(y_valid, y_pred_valid)\n",
        "roc_valid = roc_auc_score(y_valid, y_pred_valid)\n",
        "\n",
        "print(\"Using pos/neg ratio =\", bestPosR, \"; train/test ratio =\", bestTrainTestR)\n",
        "print(\"Results for test set with\", len(x_test), \"points\")\n",
        "print(\"Precision :\", prec)\n",
        "print(\"Recall :\", recall)\n",
        "print(\"ROC AUC :\", roc)\n",
        "print(\"-----------------------------------------\")\n",
        "print(\"Results for validation set with\", len(x_valid), \"points\")\n",
        "print(\"Precision valid :\", prec_valid)\n",
        "print(\"Recall valid :\", recall_valid)\n",
        "print(\"ROC AUC valid :\", roc_valid)"
      ],
      "metadata": {
        "id": "e9dC0TEpS6zP",
        "outputId": "8643288d-9d0e-47fd-816d-87152f4ec5b3",
        "colab": {
          "base_uri": "https://localhost:8080/"
        }
      },
      "execution_count": 62,
      "outputs": [
        {
          "output_type": "stream",
          "name": "stdout",
          "text": [
            "Using pos/neg ratio = 0.8 ; train/test ratio = 0.9\n",
            "Results for test set with 6178 points\n",
            "Precision : 0.9344432882414152\n",
            "Recall : 0.318496187267246\n",
            "ROC AUC : 0.5423649767505061\n",
            "-----------------------------------------\n",
            "Results for validation set with 9676 points\n",
            "Precision valid : 0.6980066445182724\n",
            "Recall valid : 0.3825564457392571\n",
            "ROC AUC valid : 0.5826501157950588\n"
          ]
        }
      ]
    },
    {
      "cell_type": "code",
      "source": [
        "ConfusionMatrixDisplay.from_predictions(y_valid, y_pred_valid)"
      ],
      "metadata": {
        "id": "8YVWrmy9iyAp",
        "outputId": "6f619103-eb87-4b8a-dbcc-91f0c368d7ca",
        "colab": {
          "base_uri": "https://localhost:8080/",
          "height": 863
        }
      },
      "execution_count": 60,
      "outputs": [
        {
          "output_type": "execute_result",
          "data": {
            "text/plain": [
              "<sklearn.metrics._plot.confusion_matrix.ConfusionMatrixDisplay at 0x7fa991756ac0>"
            ]
          },
          "metadata": {},
          "execution_count": 60
        },
        {
          "output_type": "display_data",
          "data": {
            "text/plain": [
              "<Figure size 1080x1080 with 2 Axes>"
            ],
            "image/png": "[encoded data removed]"
          },
          "metadata": {
            "needs_background": "light"
          }
        }
      ]
    },
    {
      "cell_type": "code",
      "source": [
        "importances = model.feature_importances_\n",
        "forest_importances = pd.Series(importances, index=feature_names)\n",
        "\n",
        "forest_importances_mean = forest_importances[[\"year\", \"month\", \"day\", \"NSEC_TIME\"]]\n",
        "forest_importances_mean[\"mean_sst\"] = forest_importances[measures_names_sst].mean()\n",
        "forest_importances_mean[\"mean_ssh\"] = forest_importances[measures_names_ssh].mean()\n",
        "\n",
        "plt.rcParams.update({'font.size': 22})\n",
        "fig, ax = plt.subplots()\n",
        "forest_importances_mean.plot.bar(ax=ax)\n",
        "ax.set_title(\"Feature importances\")\n",
        "ax.set_ylabel(\"Mean decrease in impurity\")"
      ],
      "metadata": {
        "id": "yV3QmrLPjOCP",
        "outputId": "e152fd48-c319-43b6-de05-c4bd3bed66b3",
        "colab": {
          "base_uri": "https://localhost:8080/",
          "height": 1000
        }
      },
      "execution_count": 63,
      "outputs": [
        {
          "output_type": "execute_result",
          "data": {
            "text/plain": [
              "Text(0, 0.5, 'Mean decrease in impurity')"
            ]
          },
          "metadata": {},
          "execution_count": 63
        },
        {
          "output_type": "display_data",
          "data": {
            "text/plain": [
              "<Figure size 1080x1080 with 1 Axes>"
            ],
            "image/png": "[encoded data removed]"
          },
          "metadata": {
            "needs_background": "light"
          }
        }
      ]
    },
    {
      "cell_type": "code",
      "source": [],
      "metadata": {
        "id": "-N8Z9wbN1hUm"
      },
      "execution_count": null,
      "outputs": []
    },
    {
      "cell_type": "code",
      "source": [
        "forest_importances_map = pd.DataFrame()\n",
        "\n",
        "forest_importances_map[\"lon\"] = lonlatdata[\"lon\"]\n",
        "forest_importances_map[\"lat\"] = lonlatdata[\"lat\"]\n",
        "forest_importances_map[\"sst\"] = forest_importances[measures_names_sst].to_numpy()\n",
        "forest_importances_map[\"ssh\"] = forest_importances[measures_names_ssh].to_numpy()\n",
        "\n",
        "plot_im(forest_importances_map.lon, forest_importances_map.lat, forest_importances_map.sst, 150, \"Feature Importance\")"
      ],
      "metadata": {
        "id": "F3LOcmOKBS90",
        "outputId": "d265d643-3eff-44b4-e794-d9386515c8ba",
        "colab": {
          "base_uri": "https://localhost:8080/",
          "height": 772
        }
      },
      "execution_count": 74,
      "outputs": [
        {
          "output_type": "display_data",
          "data": {
            "text/plain": [
              "<Figure size 1080x1080 with 2 Axes>"
            ],
            "image/png": "[encoded data removed]"
          },
          "metadata": {
            "needs_background": "light"
          }
        }
      ]
    },
    {
      "cell_type": "code",
      "source": [],
      "metadata": {
        "id": "guAz3MZsMNb3",
        "outputId": "3960fdb4-dfa4-4209-8512-a8cca3871558",
        "colab": {
          "base_uri": "https://localhost:8080/"
        }
      },
      "execution_count": 72,
      "outputs": [
        {
          "output_type": "execute_result",
          "data": {
            "text/plain": [
              "lon    [120.0, 120.0, 120.0, 121.0, 121.0, 121.0, 121...\n",
              "lat    [20.0, 21.0, 22.0, 20.0, 21.0, 26.0, 27.0, 34....\n",
              "Name: 1612, dtype: object"
            ]
          },
          "metadata": {},
          "execution_count": 72
        }
      ]
    },
    {
      "cell_type": "code",
      "source": [],
      "metadata": {
        "id": "Zv4yyxxOMR5Q"
      },
      "execution_count": null,
      "outputs": []
    }
  ]
}