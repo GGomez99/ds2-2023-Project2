{
  "nbformat": 4,
  "nbformat_minor": 0,
  "metadata": {
    "anaconda-cloud": {},
    "colab": {
      "provenance": []
    },
    "kernelspec": {
      "display_name": "Python 3",
      "language": "python",
      "name": "python3"
    },
    "language_info": {
      "codemirror_mode": {
        "name": "ipython",
        "version": 3
      },
      "file_extension": ".py",
      "mimetype": "text/x-python",
      "name": "python",
      "nbconvert_exporter": "python",
      "pygments_lexer": "ipython3",
      "version": "3.7.8"
    },
    "widgets": {
      "application/vnd.jupyter.widget-state+json": {
        "d105be0ec6fd48ce9fa32c664aba2cdf": {
          "model_module": "@jupyter-widgets/controls",
          "model_name": "HBoxModel",
          "model_module_version": "1.5.0",
          "state": {
            "_dom_classes": [],
            "_model_module": "@jupyter-widgets/controls",
            "_model_module_version": "1.5.0",
            "_model_name": "HBoxModel",
            "_view_count": null,
            "_view_module": "@jupyter-widgets/controls",
            "_view_module_version": "1.5.0",
            "_view_name": "HBoxView",
            "box_style": "",
            "children": [
              "IPY_MODEL_92730a70df5b42a3afe2a08f6248e550",
              "IPY_MODEL_f726f32b20004737a4b646fd8ce22084",
              "IPY_MODEL_9ce3d2cf6f24496c8525e0cfb8f6451d"
            ],
            "layout": "IPY_MODEL_2d9c6b748a374d34a6aa1650bbf7e11e"
          }
        },
        "92730a70df5b42a3afe2a08f6248e550": {
          "model_module": "@jupyter-widgets/controls",
          "model_name": "HTMLModel",
          "model_module_version": "1.5.0",
          "state": {
            "_dom_classes": [],
            "_model_module": "@jupyter-widgets/controls",
            "_model_module_version": "1.5.0",
            "_model_name": "HTMLModel",
            "_view_count": null,
            "_view_module": "@jupyter-widgets/controls",
            "_view_module_version": "1.5.0",
            "_view_name": "HTMLView",
            "description": "",
            "description_tooltip": null,
            "layout": "IPY_MODEL_1dce4623d33f4473b63b41d0875ce7d2",
            "placeholder": "​",
            "style": "IPY_MODEL_3e2938eac7a24b358bc7f9457b1cf896",
            "value": "Job ID 21a1adc6-118a-46d8-abc2-044ee02d0d26 successfully executed: 100%"
          }
        },
        "f726f32b20004737a4b646fd8ce22084": {
          "model_module": "@jupyter-widgets/controls",
          "model_name": "FloatProgressModel",
          "model_module_version": "1.5.0",
          "state": {
            "_dom_classes": [],
            "_model_module": "@jupyter-widgets/controls",
            "_model_module_version": "1.5.0",
            "_model_name": "FloatProgressModel",
            "_view_count": null,
            "_view_module": "@jupyter-widgets/controls",
            "_view_module_version": "1.5.0",
            "_view_name": "ProgressView",
            "bar_style": "success",
            "description": "",
            "description_tooltip": null,
            "layout": "IPY_MODEL_43fd4ec602674e4c8816141f6cce29eb",
            "max": 1,
            "min": 0,
            "orientation": "horizontal",
            "style": "IPY_MODEL_15eae807c7b746fbbb44a1bf58d8eacc",
            "value": 1
          }
        },
        "9ce3d2cf6f24496c8525e0cfb8f6451d": {
          "model_module": "@jupyter-widgets/controls",
          "model_name": "HTMLModel",
          "model_module_version": "1.5.0",
          "state": {
            "_dom_classes": [],
            "_model_module": "@jupyter-widgets/controls",
            "_model_module_version": "1.5.0",
            "_model_name": "HTMLModel",
            "_view_count": null,
            "_view_module": "@jupyter-widgets/controls",
            "_view_module_version": "1.5.0",
            "_view_name": "HTMLView",
            "description": "",
            "description_tooltip": null,
            "layout": "IPY_MODEL_3fb5d770d60340489a3069e8c8c6c5bf",
            "placeholder": "​",
            "style": "IPY_MODEL_f9e601c1a06049afa6e9b8a060d357a0",
            "value": ""
          }
        },
        "2d9c6b748a374d34a6aa1650bbf7e11e": {
          "model_module": "@jupyter-widgets/base",
          "model_name": "LayoutModel",
          "model_module_version": "1.2.0",
          "state": {
            "_model_module": "@jupyter-widgets/base",
            "_model_module_version": "1.2.0",
            "_model_name": "LayoutModel",
            "_view_count": null,
            "_view_module": "@jupyter-widgets/base",
            "_view_module_version": "1.2.0",
            "_view_name": "LayoutView",
            "align_content": null,
            "align_items": null,
            "align_self": null,
            "border": null,
            "bottom": null,
            "display": null,
            "flex": null,
            "flex_flow": null,
            "grid_area": null,
            "grid_auto_columns": null,
            "grid_auto_flow": null,
            "grid_auto_rows": null,
            "grid_column": null,
            "grid_gap": null,
            "grid_row": null,
            "grid_template_areas": null,
            "grid_template_columns": null,
            "grid_template_rows": null,
            "height": null,
            "justify_content": null,
            "justify_items": null,
            "left": null,
            "margin": null,
            "max_height": null,
            "max_width": null,
            "min_height": null,
            "min_width": null,
            "object_fit": null,
            "object_position": null,
            "order": null,
            "overflow": null,
            "overflow_x": null,
            "overflow_y": null,
            "padding": null,
            "right": null,
            "top": null,
            "visibility": null,
            "width": null
          }
        },
        "1dce4623d33f4473b63b41d0875ce7d2": {
          "model_module": "@jupyter-widgets/base",
          "model_name": "LayoutModel",
          "model_module_version": "1.2.0",
          "state": {
            "_model_module": "@jupyter-widgets/base",
            "_model_module_version": "1.2.0",
            "_model_name": "LayoutModel",
            "_view_count": null,
            "_view_module": "@jupyter-widgets/base",
            "_view_module_version": "1.2.0",
            "_view_name": "LayoutView",
            "align_content": null,
            "align_items": null,
            "align_self": null,
            "border": null,
            "bottom": null,
            "display": null,
            "flex": null,
            "flex_flow": null,
            "grid_area": null,
            "grid_auto_columns": null,
            "grid_auto_flow": null,
            "grid_auto_rows": null,
            "grid_column": null,
            "grid_gap": null,
            "grid_row": null,
            "grid_template_areas": null,
            "grid_template_columns": null,
            "grid_template_rows": null,
            "height": null,
            "justify_content": null,
            "justify_items": null,
            "left": null,
            "margin": null,
            "max_height": null,
            "max_width": null,
            "min_height": null,
            "min_width": null,
            "object_fit": null,
            "object_position": null,
            "order": null,
            "overflow": null,
            "overflow_x": null,
            "overflow_y": null,
            "padding": null,
            "right": null,
            "top": null,
            "visibility": null,
            "width": null
          }
        },
        "3e2938eac7a24b358bc7f9457b1cf896": {
          "model_module": "@jupyter-widgets/controls",
          "model_name": "DescriptionStyleModel",
          "model_module_version": "1.5.0",
          "state": {
            "_model_module": "@jupyter-widgets/controls",
            "_model_module_version": "1.5.0",
            "_model_name": "DescriptionStyleModel",
            "_view_count": null,
            "_view_module": "@jupyter-widgets/base",
            "_view_module_version": "1.2.0",
            "_view_name": "StyleView",
            "description_width": ""
          }
        },
        "43fd4ec602674e4c8816141f6cce29eb": {
          "model_module": "@jupyter-widgets/base",
          "model_name": "LayoutModel",
          "model_module_version": "1.2.0",
          "state": {
            "_model_module": "@jupyter-widgets/base",
            "_model_module_version": "1.2.0",
            "_model_name": "LayoutModel",
            "_view_count": null,
            "_view_module": "@jupyter-widgets/base",
            "_view_module_version": "1.2.0",
            "_view_name": "LayoutView",
            "align_content": null,
            "align_items": null,
            "align_self": null,
            "border": null,
            "bottom": null,
            "display": null,
            "flex": null,
            "flex_flow": null,
            "grid_area": null,
            "grid_auto_columns": null,
            "grid_auto_flow": null,
            "grid_auto_rows": null,
            "grid_column": null,
            "grid_gap": null,
            "grid_row": null,
            "grid_template_areas": null,
            "grid_template_columns": null,
            "grid_template_rows": null,
            "height": null,
            "justify_content": null,
            "justify_items": null,
            "left": null,
            "margin": null,
            "max_height": null,
            "max_width": null,
            "min_height": null,
            "min_width": null,
            "object_fit": null,
            "object_position": null,
            "order": null,
            "overflow": null,
            "overflow_x": null,
            "overflow_y": null,
            "padding": null,
            "right": null,
            "top": null,
            "visibility": null,
            "width": null
          }
        },
        "15eae807c7b746fbbb44a1bf58d8eacc": {
          "model_module": "@jupyter-widgets/controls",
          "model_name": "ProgressStyleModel",
          "model_module_version": "1.5.0",
          "state": {
            "_model_module": "@jupyter-widgets/controls",
            "_model_module_version": "1.5.0",
            "_model_name": "ProgressStyleModel",
            "_view_count": null,
            "_view_module": "@jupyter-widgets/base",
            "_view_module_version": "1.2.0",
            "_view_name": "StyleView",
            "bar_color": null,
            "description_width": ""
          }
        },
        "3fb5d770d60340489a3069e8c8c6c5bf": {
          "model_module": "@jupyter-widgets/base",
          "model_name": "LayoutModel",
          "model_module_version": "1.2.0",
          "state": {
            "_model_module": "@jupyter-widgets/base",
            "_model_module_version": "1.2.0",
            "_model_name": "LayoutModel",
            "_view_count": null,
            "_view_module": "@jupyter-widgets/base",
            "_view_module_version": "1.2.0",
            "_view_name": "LayoutView",
            "align_content": null,
            "align_items": null,
            "align_self": null,
            "border": null,
            "bottom": null,
            "display": null,
            "flex": null,
            "flex_flow": null,
            "grid_area": null,
            "grid_auto_columns": null,
            "grid_auto_flow": null,
            "grid_auto_rows": null,
            "grid_column": null,
            "grid_gap": null,
            "grid_row": null,
            "grid_template_areas": null,
            "grid_template_columns": null,
            "grid_template_rows": null,
            "height": null,
            "justify_content": null,
            "justify_items": null,
            "left": null,
            "margin": null,
            "max_height": null,
            "max_width": null,
            "min_height": null,
            "min_width": null,
            "object_fit": null,
            "object_position": null,
            "order": null,
            "overflow": null,
            "overflow_x": null,
            "overflow_y": null,
            "padding": null,
            "right": null,
            "top": null,
            "visibility": null,
            "width": null
          }
        },
        "f9e601c1a06049afa6e9b8a060d357a0": {
          "model_module": "@jupyter-widgets/controls",
          "model_name": "DescriptionStyleModel",
          "model_module_version": "1.5.0",
          "state": {
            "_model_module": "@jupyter-widgets/controls",
            "_model_module_version": "1.5.0",
            "_model_name": "DescriptionStyleModel",
            "_view_count": null,
            "_view_module": "@jupyter-widgets/base",
            "_view_module_version": "1.2.0",
            "_view_name": "StyleView",
            "description_width": ""
          }
        },
        "d25b0950ae09410dbd3cccba65f989aa": {
          "model_module": "@jupyter-widgets/controls",
          "model_name": "HBoxModel",
          "model_module_version": "1.5.0",
          "state": {
            "_dom_classes": [],
            "_model_module": "@jupyter-widgets/controls",
            "_model_module_version": "1.5.0",
            "_model_name": "HBoxModel",
            "_view_count": null,
            "_view_module": "@jupyter-widgets/controls",
            "_view_module_version": "1.5.0",
            "_view_name": "HBoxView",
            "box_style": "",
            "children": [
              "IPY_MODEL_4b2082af633e4044a9b46320deccf0ff",
              "IPY_MODEL_a4cccc44485841dbaf04a22f86d3c4de",
              "IPY_MODEL_8cd6f9a311604d6ba87a61538eff431e"
            ],
            "layout": "IPY_MODEL_a89fae4074bc420585a5b7e1c7abe0a9"
          }
        },
        "4b2082af633e4044a9b46320deccf0ff": {
          "model_module": "@jupyter-widgets/controls",
          "model_name": "HTMLModel",
          "model_module_version": "1.5.0",
          "state": {
            "_dom_classes": [],
            "_model_module": "@jupyter-widgets/controls",
            "_model_module_version": "1.5.0",
            "_model_name": "HTMLModel",
            "_view_count": null,
            "_view_module": "@jupyter-widgets/controls",
            "_view_module_version": "1.5.0",
            "_view_name": "HTMLView",
            "description": "",
            "description_tooltip": null,
            "layout": "IPY_MODEL_ec689767825f48169648e5ae78763a21",
            "placeholder": "​",
            "style": "IPY_MODEL_0e399adfdbdb47ebaadbf52308f0a405",
            "value": "Downloading: 100%"
          }
        },
        "a4cccc44485841dbaf04a22f86d3c4de": {
          "model_module": "@jupyter-widgets/controls",
          "model_name": "FloatProgressModel",
          "model_module_version": "1.5.0",
          "state": {
            "_dom_classes": [],
            "_model_module": "@jupyter-widgets/controls",
            "_model_module_version": "1.5.0",
            "_model_name": "FloatProgressModel",
            "_view_count": null,
            "_view_module": "@jupyter-widgets/controls",
            "_view_module_version": "1.5.0",
            "_view_name": "ProgressView",
            "bar_style": "success",
            "description": "",
            "description_tooltip": null,
            "layout": "IPY_MODEL_4fa3ba35a31e4ec3a0f9369e28691441",
            "max": 14936128,
            "min": 0,
            "orientation": "horizontal",
            "style": "IPY_MODEL_ff350dfe77414e4189f62a46a2ec7980",
            "value": 14936128
          }
        },
        "8cd6f9a311604d6ba87a61538eff431e": {
          "model_module": "@jupyter-widgets/controls",
          "model_name": "HTMLModel",
          "model_module_version": "1.5.0",
          "state": {
            "_dom_classes": [],
            "_model_module": "@jupyter-widgets/controls",
            "_model_module_version": "1.5.0",
            "_model_name": "HTMLModel",
            "_view_count": null,
            "_view_module": "@jupyter-widgets/controls",
            "_view_module_version": "1.5.0",
            "_view_name": "HTMLView",
            "description": "",
            "description_tooltip": null,
            "layout": "IPY_MODEL_4c4cf0c4efd94551aca3118a82d125db",
            "placeholder": "​",
            "style": "IPY_MODEL_7ffc60cdd5ab4da38a7739af6bcf319f",
            "value": ""
          }
        },
        "a89fae4074bc420585a5b7e1c7abe0a9": {
          "model_module": "@jupyter-widgets/base",
          "model_name": "LayoutModel",
          "model_module_version": "1.2.0",
          "state": {
            "_model_module": "@jupyter-widgets/base",
            "_model_module_version": "1.2.0",
            "_model_name": "LayoutModel",
            "_view_count": null,
            "_view_module": "@jupyter-widgets/base",
            "_view_module_version": "1.2.0",
            "_view_name": "LayoutView",
            "align_content": null,
            "align_items": null,
            "align_self": null,
            "border": null,
            "bottom": null,
            "display": null,
            "flex": null,
            "flex_flow": null,
            "grid_area": null,
            "grid_auto_columns": null,
            "grid_auto_flow": null,
            "grid_auto_rows": null,
            "grid_column": null,
            "grid_gap": null,
            "grid_row": null,
            "grid_template_areas": null,
            "grid_template_columns": null,
            "grid_template_rows": null,
            "height": null,
            "justify_content": null,
            "justify_items": null,
            "left": null,
            "margin": null,
            "max_height": null,
            "max_width": null,
            "min_height": null,
            "min_width": null,
            "object_fit": null,
            "object_position": null,
            "order": null,
            "overflow": null,
            "overflow_x": null,
            "overflow_y": null,
            "padding": null,
            "right": null,
            "top": null,
            "visibility": null,
            "width": null
          }
        },
        "ec689767825f48169648e5ae78763a21": {
          "model_module": "@jupyter-widgets/base",
          "model_name": "LayoutModel",
          "model_module_version": "1.2.0",
          "state": {
            "_model_module": "@jupyter-widgets/base",
            "_model_module_version": "1.2.0",
            "_model_name": "LayoutModel",
            "_view_count": null,
            "_view_module": "@jupyter-widgets/base",
            "_view_module_version": "1.2.0",
            "_view_name": "LayoutView",
            "align_content": null,
            "align_items": null,
            "align_self": null,
            "border": null,
            "bottom": null,
            "display": null,
            "flex": null,
            "flex_flow": null,
            "grid_area": null,
            "grid_auto_columns": null,
            "grid_auto_flow": null,
            "grid_auto_rows": null,
            "grid_column": null,
            "grid_gap": null,
            "grid_row": null,
            "grid_template_areas": null,
            "grid_template_columns": null,
            "grid_template_rows": null,
            "height": null,
            "justify_content": null,
            "justify_items": null,
            "left": null,
            "margin": null,
            "max_height": null,
            "max_width": null,
            "min_height": null,
            "min_width": null,
            "object_fit": null,
            "object_position": null,
            "order": null,
            "overflow": null,
            "overflow_x": null,
            "overflow_y": null,
            "padding": null,
            "right": null,
            "top": null,
            "visibility": null,
            "width": null
          }
        },
        "0e399adfdbdb47ebaadbf52308f0a405": {
          "model_module": "@jupyter-widgets/controls",
          "model_name": "DescriptionStyleModel",
          "model_module_version": "1.5.0",
          "state": {
            "_model_module": "@jupyter-widgets/controls",
            "_model_module_version": "1.5.0",
            "_model_name": "DescriptionStyleModel",
            "_view_count": null,
            "_view_module": "@jupyter-widgets/base",
            "_view_module_version": "1.2.0",
            "_view_name": "StyleView",
            "description_width": ""
          }
        },
        "4fa3ba35a31e4ec3a0f9369e28691441": {
          "model_module": "@jupyter-widgets/base",
          "model_name": "LayoutModel",
          "model_module_version": "1.2.0",
          "state": {
            "_model_module": "@jupyter-widgets/base",
            "_model_module_version": "1.2.0",
            "_model_name": "LayoutModel",
            "_view_count": null,
            "_view_module": "@jupyter-widgets/base",
            "_view_module_version": "1.2.0",
            "_view_name": "LayoutView",
            "align_content": null,
            "align_items": null,
            "align_self": null,
            "border": null,
            "bottom": null,
            "display": null,
            "flex": null,
            "flex_flow": null,
            "grid_area": null,
            "grid_auto_columns": null,
            "grid_auto_flow": null,
            "grid_auto_rows": null,
            "grid_column": null,
            "grid_gap": null,
            "grid_row": null,
            "grid_template_areas": null,
            "grid_template_columns": null,
            "grid_template_rows": null,
            "height": null,
            "justify_content": null,
            "justify_items": null,
            "left": null,
            "margin": null,
            "max_height": null,
            "max_width": null,
            "min_height": null,
            "min_width": null,
            "object_fit": null,
            "object_position": null,
            "order": null,
            "overflow": null,
            "overflow_x": null,
            "overflow_y": null,
            "padding": null,
            "right": null,
            "top": null,
            "visibility": null,
            "width": null
          }
        },
        "ff350dfe77414e4189f62a46a2ec7980": {
          "model_module": "@jupyter-widgets/controls",
          "model_name": "ProgressStyleModel",
          "model_module_version": "1.5.0",
          "state": {
            "_model_module": "@jupyter-widgets/controls",
            "_model_module_version": "1.5.0",
            "_model_name": "ProgressStyleModel",
            "_view_count": null,
            "_view_module": "@jupyter-widgets/base",
            "_view_module_version": "1.2.0",
            "_view_name": "StyleView",
            "bar_color": null,
            "description_width": ""
          }
        },
        "4c4cf0c4efd94551aca3118a82d125db": {
          "model_module": "@jupyter-widgets/base",
          "model_name": "LayoutModel",
          "model_module_version": "1.2.0",
          "state": {
            "_model_module": "@jupyter-widgets/base",
            "_model_module_version": "1.2.0",
            "_model_name": "LayoutModel",
            "_view_count": null,
            "_view_module": "@jupyter-widgets/base",
            "_view_module_version": "1.2.0",
            "_view_name": "LayoutView",
            "align_content": null,
            "align_items": null,
            "align_self": null,
            "border": null,
            "bottom": null,
            "display": null,
            "flex": null,
            "flex_flow": null,
            "grid_area": null,
            "grid_auto_columns": null,
            "grid_auto_flow": null,
            "grid_auto_rows": null,
            "grid_column": null,
            "grid_gap": null,
            "grid_row": null,
            "grid_template_areas": null,
            "grid_template_columns": null,
            "grid_template_rows": null,
            "height": null,
            "justify_content": null,
            "justify_items": null,
            "left": null,
            "margin": null,
            "max_height": null,
            "max_width": null,
            "min_height": null,
            "min_width": null,
            "object_fit": null,
            "object_position": null,
            "order": null,
            "overflow": null,
            "overflow_x": null,
            "overflow_y": null,
            "padding": null,
            "right": null,
            "top": null,
            "visibility": null,
            "width": null
          }
        },
        "7ffc60cdd5ab4da38a7739af6bcf319f": {
          "model_module": "@jupyter-widgets/controls",
          "model_name": "DescriptionStyleModel",
          "model_module_version": "1.5.0",
          "state": {
            "_model_module": "@jupyter-widgets/controls",
            "_model_module_version": "1.5.0",
            "_model_name": "DescriptionStyleModel",
            "_view_count": null,
            "_view_module": "@jupyter-widgets/base",
            "_view_module_version": "1.2.0",
            "_view_name": "StyleView",
            "description_width": ""
          }
        }
      }
    }
  },
  "cells": [
    {
      "cell_type": "code",
      "source": [
        "try:\n",
        "  import google.colab\n",
        "  print(\"Running in a colab, all good\")\n",
        "except:\n",
        "  raise \"You need to run this notebook in a Google Colab !\""
      ],
      "metadata": {
        "id": "yo3gIs2YUbVg",
        "outputId": "acf96b1e-fd78-455e-b234-3f39c12e50df",
        "colab": {
          "base_uri": "https://localhost:8080/"
        }
      },
      "execution_count": 1,
      "outputs": [
        {
          "output_type": "stream",
          "name": "stdout",
          "text": [
            "Running in a colab, all good\n"
          ]
        }
      ]
    },
    {
      "cell_type": "markdown",
      "source": [
        "## Note before running the repo\n",
        "In order to run this notebook, you need the datasets of cyclones, in a hierarchy as follows : \n",
        "```\n",
        "data\n",
        "  |--- ibtracs-gulf of mexico-1998-2015.csv\n",
        "  |--- ibtracs-japan-1998-2015.csv\n",
        "```\n",
        "You can either upload the files manually yo collab, or run the commands below to automatically download the files from our github repo"
      ],
      "metadata": {
        "id": "HfhU7CMwUpBQ"
      }
    },
    {
      "cell_type": "code",
      "source": [
        "!mkdir data\n",
        "!wget 'https://raw.githubusercontent.com/GGomez99/ds2-2023-Project2/main/project/arens-gomez-humeau-khieu/data/ibtracs-gulf%20of%20mexico-1998-2015.csv' -O \"data/ibtracs-gulf of mexico-1998-2015.csv\"\n",
        "!wget 'https://raw.githubusercontent.com/GGomez99/ds2-2023-Project2/main/project/arens-gomez-humeau-khieu/data/ibtracs-japan-1998-2015.csv' -O \"data/ibtracs-japan-1998-2015.csv\""
      ],
      "metadata": {
        "id": "aagctwh3UogU",
        "outputId": "92137ee9-a756-44f5-ae6e-4d2d5f48a4d8",
        "colab": {
          "base_uri": "https://localhost:8080/"
        }
      },
      "execution_count": 2,
      "outputs": [
        {
          "output_type": "stream",
          "name": "stdout",
          "text": [
            "--2023-01-19 15:05:32--  https://raw.githubusercontent.com/GGomez99/ds2-2023-Project2/main/project/arens-gomez-humeau-khieu/data/ibtracs-gulf%20of%20mexico-1998-2015.csv\n",
            "Resolving raw.githubusercontent.com (raw.githubusercontent.com)... 185.199.109.133, 185.199.108.133, 185.199.110.133, ...\n",
            "Connecting to raw.githubusercontent.com (raw.githubusercontent.com)|185.199.109.133|:443... connected.\n",
            "HTTP request sent, awaiting response... 200 OK\n",
            "Length: 235033 (230K) [text/plain]\n",
            "Saving to: ‘data/ibtracs-gulf of mexico-1998-2015.csv’\n",
            "\n",
            "data/ibtracs-gulf o 100%[===================>] 229.52K  --.-KB/s    in 0.02s   \n",
            "\n",
            "2023-01-19 15:05:32 (12.5 MB/s) - ‘data/ibtracs-gulf of mexico-1998-2015.csv’ saved [235033/235033]\n",
            "\n",
            "--2023-01-19 15:05:32--  https://raw.githubusercontent.com/GGomez99/ds2-2023-Project2/main/project/arens-gomez-humeau-khieu/data/ibtracs-japan-1998-2015.csv\n",
            "Resolving raw.githubusercontent.com (raw.githubusercontent.com)... 185.199.108.133, 185.199.109.133, 185.199.110.133, ...\n",
            "Connecting to raw.githubusercontent.com (raw.githubusercontent.com)|185.199.108.133|:443... connected.\n",
            "HTTP request sent, awaiting response... 200 OK\n",
            "Length: 553390 (540K) [text/plain]\n",
            "Saving to: ‘data/ibtracs-japan-1998-2015.csv’\n",
            "\n",
            "data/ibtracs-japan- 100%[===================>] 540.42K  --.-KB/s    in 0.03s   \n",
            "\n",
            "2023-01-19 15:05:33 (17.1 MB/s) - ‘data/ibtracs-japan-1998-2015.csv’ saved [553390/553390]\n",
            "\n"
          ]
        }
      ]
    },
    {
      "cell_type": "markdown",
      "source": [
        "## Parameters and variables"
      ],
      "metadata": {
        "id": "nqlP7KOvPlv-"
      }
    },
    {
      "cell_type": "code",
      "source": [
        "#Notebook parameters\n",
        "#zoneAnalysis = \"Japan\"\n",
        "zoneAnalysis = \"Gulf of Mexico\""
      ],
      "metadata": {
        "id": "X1SVb-OYMBOK"
      },
      "execution_count": 5,
      "outputs": []
    },
    {
      "cell_type": "code",
      "source": [
        "#usefull global variables\n",
        "maxLon, minLon, maxLat, minLat = 0,0,0,0\n",
        "minYear = 1998\n",
        "maxYear = 2015\n",
        "\n",
        "if (zoneAnalysis == \"Gulf of Mexico\"):\n",
        "    maxLon = 282\n",
        "    minLon = 256\n",
        "    maxLat = 32\n",
        "    minLat = 18\n",
        "else:\n",
        "    maxLon = 145\n",
        "    minLon = 120\n",
        "    maxLat = 40\n",
        "    minLat = 20"
      ],
      "metadata": {
        "id": "6athtBSOMg9R"
      },
      "execution_count": 6,
      "outputs": []
    },
    {
      "cell_type": "markdown",
      "source": [
        "## Initialisation & Data loading"
      ],
      "metadata": {
        "id": "Y7xNqnFyPo3p"
      }
    },
    {
      "cell_type": "code",
      "metadata": {
        "id": "PHwkL_9OtuBw",
        "colab": {
          "base_uri": "https://localhost:8080/"
        },
        "outputId": "b31fa6b1-9ad0-4733-fe4d-06b92f27d1f1",
        "pycharm": {
          "name": "#%%\n"
        }
      },
      "source": [
        "!pip install basemap"
      ],
      "execution_count": 7,
      "outputs": [
        {
          "output_type": "stream",
          "name": "stdout",
          "text": [
            "Looking in indexes: https://pypi.org/simple, https://us-python.pkg.dev/colab-wheels/public/simple/\n",
            "Collecting basemap\n",
            "  Downloading basemap-1.3.6-cp38-cp38-manylinux1_x86_64.whl (863 kB)\n",
            "\u001b[2K     \u001b[90m━━━━━━━━━━━━━━━━━━━━━━━━━━━━━━━━━━━━━━\u001b[0m \u001b[32m863.9/863.9 KB\u001b[0m \u001b[31m20.5 MB/s\u001b[0m eta \u001b[36m0:00:00\u001b[0m\n",
            "\u001b[?25hCollecting pyshp<2.4,>=1.2\n",
            "  Downloading pyshp-2.3.1-py2.py3-none-any.whl (46 kB)\n",
            "\u001b[2K     \u001b[90m━━━━━━━━━━━━━━━━━━━━━━━━━━━━━━━━━━━━━━━━\u001b[0m \u001b[32m46.5/46.5 KB\u001b[0m \u001b[31m5.1 MB/s\u001b[0m eta \u001b[36m0:00:00\u001b[0m\n",
            "\u001b[?25hRequirement already satisfied: matplotlib<3.7,>=1.5 in /usr/local/lib/python3.8/dist-packages (from basemap) (3.2.2)\n",
            "Collecting basemap-data<1.4,>=1.3.2\n",
            "  Downloading basemap_data-1.3.2-py2.py3-none-any.whl (30.5 MB)\n",
            "\u001b[2K     \u001b[90m━━━━━━━━━━━━━━━━━━━━━━━━━━━━━━━━━━━━━━━━\u001b[0m \u001b[32m30.5/30.5 MB\u001b[0m \u001b[31m35.6 MB/s\u001b[0m eta \u001b[36m0:00:00\u001b[0m\n",
            "\u001b[?25hCollecting numpy<1.24,>=1.22\n",
            "  Downloading numpy-1.23.5-cp38-cp38-manylinux_2_17_x86_64.manylinux2014_x86_64.whl (17.1 MB)\n",
            "\u001b[2K     \u001b[90m━━━━━━━━━━━━━━━━━━━━━━━━━━━━━━━━━━━━━━━━\u001b[0m \u001b[32m17.1/17.1 MB\u001b[0m \u001b[31m62.2 MB/s\u001b[0m eta \u001b[36m0:00:00\u001b[0m\n",
            "\u001b[?25hCollecting pyproj<3.5.0,>=1.9.3\n",
            "  Downloading pyproj-3.4.1-cp38-cp38-manylinux_2_17_x86_64.manylinux2014_x86_64.whl (7.8 MB)\n",
            "\u001b[2K     \u001b[90m━━━━━━━━━━━━━━━━━━━━━━━━━━━━━━━━━━━━━━━━\u001b[0m \u001b[32m7.8/7.8 MB\u001b[0m \u001b[31m77.0 MB/s\u001b[0m eta \u001b[36m0:00:00\u001b[0m\n",
            "\u001b[?25hRequirement already satisfied: pyparsing!=2.0.4,!=2.1.2,!=2.1.6,>=2.0.1 in /usr/local/lib/python3.8/dist-packages (from matplotlib<3.7,>=1.5->basemap) (3.0.9)\n",
            "Requirement already satisfied: cycler>=0.10 in /usr/local/lib/python3.8/dist-packages (from matplotlib<3.7,>=1.5->basemap) (0.11.0)\n",
            "Requirement already satisfied: kiwisolver>=1.0.1 in /usr/local/lib/python3.8/dist-packages (from matplotlib<3.7,>=1.5->basemap) (1.4.4)\n",
            "Requirement already satisfied: python-dateutil>=2.1 in /usr/local/lib/python3.8/dist-packages (from matplotlib<3.7,>=1.5->basemap) (2.8.2)\n",
            "Requirement already satisfied: certifi in /usr/local/lib/python3.8/dist-packages (from pyproj<3.5.0,>=1.9.3->basemap) (2022.12.7)\n",
            "Requirement already satisfied: six>=1.5 in /usr/local/lib/python3.8/dist-packages (from python-dateutil>=2.1->matplotlib<3.7,>=1.5->basemap) (1.15.0)\n",
            "Installing collected packages: pyshp, pyproj, numpy, basemap-data, basemap\n",
            "  Attempting uninstall: numpy\n",
            "    Found existing installation: numpy 1.21.6\n",
            "    Uninstalling numpy-1.21.6:\n",
            "      Successfully uninstalled numpy-1.21.6\n",
            "\u001b[31mERROR: pip's dependency resolver does not currently take into account all the packages that are installed. This behaviour is the source of the following dependency conflicts.\n",
            "scipy 1.7.3 requires numpy<1.23.0,>=1.16.5, but you have numpy 1.23.5 which is incompatible.\u001b[0m\u001b[31m\n",
            "\u001b[0mSuccessfully installed basemap-1.3.6 basemap-data-1.3.2 numpy-1.23.5 pyproj-3.4.1 pyshp-2.3.1\n"
          ]
        }
      ]
    },
    {
      "cell_type": "code",
      "metadata": {
        "id": "7SYwR8rLjJ4T",
        "colab": {
          "base_uri": "https://localhost:8080/"
        },
        "outputId": "cb155142-c5e8-4641-b7f8-63995fe3ef22",
        "pycharm": {
          "name": "#%%\n"
        }
      },
      "source": [
        "%matplotlib inline\n",
        "%pylab inline\n",
        "from mpl_toolkits.basemap import Basemap\n",
        "import sklearn\n",
        "import pandas as pd\n",
        "from scipy.stats.mstats import zscore\n",
        "import warnings, gc\n",
        "warnings.filterwarnings(\"ignore\") # disable warnings\n",
        "pylab.rcParams['figure.figsize']=(15,15) # graph size"
      ],
      "execution_count": 37,
      "outputs": [
        {
          "output_type": "stream",
          "name": "stdout",
          "text": [
            "Populating the interactive namespace from numpy and matplotlib\n"
          ]
        }
      ]
    },
    {
      "cell_type": "code",
      "metadata": {
        "id": "irVyDROljJ4X",
        "pycharm": {
          "name": "#%%\n"
        }
      },
      "source": [
        "# function to plot images  \n",
        "def plot_im(lon,lat,im,size_points,var_name):\n",
        "    \n",
        "    # transform to arrays (just in case)\n",
        "    lon=array(lon)\n",
        "    lat=array(lat)\n",
        "    im=array(im)\n",
        "    \n",
        "    if max(lon)-min(lon)<100:\n",
        "      # Mercator projection (for small zone)\n",
        "      m=Basemap(projection='merc',llcrnrlat=nanmin(lat),urcrnrlat=nanmax(lat),\\\n",
        "                llcrnrlon=nanmin(lon),urcrnrlon=nanmax(lon),lat_0=(nanmax(lat)+nanmin(lat))*0.5,\\\n",
        "                lon_0=(nanmax(lon)+nanmin(lon))*0.5,resolution='l')\n",
        "    else:\n",
        "      # Orthogonal projection (for large zone)\n",
        "      m=Basemap(projection='robin',lat_0=0,lon_0=0,resolution='l')\n",
        "    # you can use other projections (see https://matplotlib.org/basemap/users/mapsetup.html)\n",
        "    \n",
        "    # transform (lon,lat) to (x,y)\n",
        "    x,y=m(lon,lat)\n",
        "\n",
        "    # plot\n",
        "    #im=ma.masked_where(isnan(im),im)\n",
        "    res=m.scatter(x,y,size_points,im,'o',alpha=1,cmap='jet',lw=0)\n",
        "    m.drawcoastlines()\n",
        "    m.fillcontinents()\n",
        "    parallels = linspace(nanmin(lat),nanmax(lat),15)\n",
        "    meridians = linspace(nanmin(lon),nanmax(lon),15)\n",
        "    #m.drawparallels(parallels,labels=[1,0,0,1],fontsize=10)\n",
        "    #m.drawmeridians(meridians,labels=[1,0,0,1],fontsize=10)\n",
        "    cb=m.colorbar(res,location=\"right\")\n",
        "    cb.set_label(var_name,fontsize=15)\n",
        "    \n",
        "# function to plot time series\n",
        "def plot_ts(time,ts,line_type,var_name):\n",
        "\n",
        "    # plot\n",
        "    plot_date(time,ts,line_type)\n",
        "    xlabel('Time',fontsize=15)\n",
        "    ylabel(var_name,fontsize=15)"
      ],
      "execution_count": 9,
      "outputs": []
    },
    {
      "cell_type": "markdown",
      "metadata": {
        "id": "oC-kPabMjJ4Z",
        "pycharm": {
          "name": "#%% md\n"
        }
      },
      "source": [
        "**Connection to the GCP:**\n",
        "\n",
        "First, we have to connect to the Google Cloud Platform. Enter the login \"bigdataocean2020@gmail.com\" and password \"bdoimt2023\". Do it only once. We will maybe need an authentication: contact me at pierre.tandeo@imt-atlantique.fr."
      ]
    },
    {
      "cell_type": "code",
      "metadata": {
        "id": "XST81zP1ZS0i",
        "pycharm": {
          "name": "#%%\n"
        }
      },
      "source": [
        "import os\n",
        "os.environ['USE_AUTH_EPHEM'] = '0'\n",
        "\n",
        "from google.colab import auth\n",
        "auth.authenticate_user()"
      ],
      "execution_count": 10,
      "outputs": []
    },
    {
      "cell_type": "code",
      "source": [
        "params = {\"min_lat\": minLat, \"max_lat\": maxLat, \"min_lon\": minLon, \"max_lon\": maxLon}"
      ],
      "metadata": {
        "id": "a1UBZY3_NtjO"
      },
      "execution_count": 11,
      "outputs": []
    },
    {
      "cell_type": "markdown",
      "source": [
        "### SST & SSH request to bigquery database"
      ],
      "metadata": {
        "id": "EoTuaDJPP_ho"
      }
    },
    {
      "cell_type": "code",
      "metadata": {
        "id": "YZzH5UWaZ1zb",
        "colab": {
          "base_uri": "https://localhost:8080/",
          "height": 81,
          "referenced_widgets": [
            "d105be0ec6fd48ce9fa32c664aba2cdf",
            "92730a70df5b42a3afe2a08f6248e550",
            "f726f32b20004737a4b646fd8ce22084",
            "9ce3d2cf6f24496c8525e0cfb8f6451d",
            "2d9c6b748a374d34a6aa1650bbf7e11e",
            "1dce4623d33f4473b63b41d0875ce7d2",
            "3e2938eac7a24b358bc7f9457b1cf896",
            "43fd4ec602674e4c8816141f6cce29eb",
            "15eae807c7b746fbbb44a1bf58d8eacc",
            "3fb5d770d60340489a3069e8c8c6c5bf",
            "f9e601c1a06049afa6e9b8a060d357a0",
            "d25b0950ae09410dbd3cccba65f989aa",
            "4b2082af633e4044a9b46320deccf0ff",
            "a4cccc44485841dbaf04a22f86d3c4de",
            "8cd6f9a311604d6ba87a61538eff431e",
            "a89fae4074bc420585a5b7e1c7abe0a9",
            "ec689767825f48169648e5ae78763a21",
            "0e399adfdbdb47ebaadbf52308f0a405",
            "4fa3ba35a31e4ec3a0f9369e28691441",
            "ff350dfe77414e4189f62a46a2ec7980",
            "4c4cf0c4efd94551aca3118a82d125db",
            "7ffc60cdd5ab4da38a7739af6bcf319f"
          ]
        },
        "outputId": "784e1052-a35a-43f5-da6a-09ec974686e4",
        "pycharm": {
          "name": "#%%\n"
        }
      },
      "source": [
        "%%bigquery output --project alert-ground-261008 --params $params\n",
        "SELECT lon, lat, year, month, day, AVG(sst) AS sst, AVG(ssh) AS ssh\n",
        "FROM bdo2020.bdo2020.1998_2015_withtimes\n",
        "WHERE lon>@min_lon AND lon<@max_lon AND lat>@min_lat AND lat<@max_lat\n",
        "GROUP BY lon, lat, year, month, day"
      ],
      "execution_count": 12,
      "outputs": [
        {
          "output_type": "display_data",
          "data": {
            "text/plain": [
              "Query is running:   0%|          |"
            ],
            "application/vnd.jupyter.widget-view+json": {
              "version_major": 2,
              "version_minor": 0,
              "model_id": "d105be0ec6fd48ce9fa32c664aba2cdf"
            }
          },
          "metadata": {}
        },
        {
          "output_type": "display_data",
          "data": {
            "text/plain": [
              "Downloading:   0%|          |"
            ],
            "application/vnd.jupyter.widget-view+json": {
              "version_major": 2,
              "version_minor": 0,
              "model_id": "d25b0950ae09410dbd3cccba65f989aa"
            }
          },
          "metadata": {}
        }
      ]
    },
    {
      "cell_type": "markdown",
      "source": [
        "### IBTRACS data loading"
      ],
      "metadata": {
        "id": "szuIl01rQJLj"
      }
    },
    {
      "cell_type": "code",
      "source": [
        "#data loading from zone files\n",
        "cyclonesData: pd.DataFrame\n",
        "if (zoneAnalysis == \"Japan\"):\n",
        "    cyclonesData = pd.read_csv(\"data/ibtracs-japan-1998-2015.csv\")\n",
        "else:\n",
        "    cyclonesData = pd.read_csv(\"data/ibtracs-gulf of mexico-1998-2015.csv\")\n",
        "\n",
        "#time conversion\n",
        "cyclonesData.ISO_TIME = pd.to_datetime(cyclonesData.ISO_TIME)\n",
        "cyclonesData[\"NSEC_TIME\"] = cyclonesData.NSEC_TIME.astype(\"int64\")"
      ],
      "metadata": {
        "id": "CosSjF5vQI31"
      },
      "execution_count": 23,
      "outputs": []
    },
    {
      "cell_type": "markdown",
      "source": [
        "## Data formating & merging for final dataset"
      ],
      "metadata": {
        "id": "mQ-2WGo-Pi85"
      }
    },
    {
      "cell_type": "code",
      "source": [
        "output[\"ISO_TIME\"] = pd.to_datetime(output[['year','month','day']])\n",
        "output[\"NSEC_TIME\"] = output.ISO_TIME.astype(\"int64\")\n",
        "output.rename(columns={\"lon\": \"LON\", \"lat\": \"LAT\"}, inplace=True)\n",
        "output.head()"
      ],
      "metadata": {
        "id": "plPioCh2YQYW",
        "outputId": "1f201fa0-7874-480c-b18a-30a66923d5b2",
        "colab": {
          "base_uri": "https://localhost:8080/",
          "height": 206
        }
      },
      "execution_count": 14,
      "outputs": [
        {
          "output_type": "execute_result",
          "data": {
            "text/plain": [
              "       LON     LAT  year  month  day    sst     ssh   ISO_TIME  \\\n",
              "0  272.875  29.125  2008      1   19  21.00  0.1878 2008-01-19   \n",
              "1  265.875  28.125  2001      2   13  19.80  0.0984 2001-02-13   \n",
              "2  268.375  28.625  2005      4   12  21.15  0.2088 2005-04-12   \n",
              "3  271.875  28.875  2007      2   16  20.10  0.1204 2007-02-16   \n",
              "4  266.125  28.125  2009      3   22  21.45  0.2050 2009-03-22   \n",
              "\n",
              "             NSEC_TIME  \n",
              "0  1200700800000000000  \n",
              "1   982022400000000000  \n",
              "2  1113264000000000000  \n",
              "3  1171584000000000000  \n",
              "4  1237680000000000000  "
            ],
            "text/html": [
              "\n",
              "  <div id=\"df-84caf5b3-3240-49b4-928f-5d99d8251d48\">\n",
              "    <div class=\"colab-df-container\">\n",
              "      <div>\n",
              "<style scoped>\n",
              "    .dataframe tbody tr th:only-of-type {\n",
              "        vertical-align: middle;\n",
              "    }\n",
              "\n",
              "    .dataframe tbody tr th {\n",
              "        vertical-align: top;\n",
              "    }\n",
              "\n",
              "    .dataframe thead th {\n",
              "        text-align: right;\n",
              "    }\n",
              "</style>\n",
              "<table border=\"1\" class=\"dataframe\">\n",
              "  <thead>\n",
              "    <tr style=\"text-align: right;\">\n",
              "      <th></th>\n",
              "      <th>LON</th>\n",
              "      <th>LAT</th>\n",
              "      <th>year</th>\n",
              "      <th>month</th>\n",
              "      <th>day</th>\n",
              "      <th>sst</th>\n",
              "      <th>ssh</th>\n",
              "      <th>ISO_TIME</th>\n",
              "      <th>NSEC_TIME</th>\n",
              "    </tr>\n",
              "  </thead>\n",
              "  <tbody>\n",
              "    <tr>\n",
              "      <th>0</th>\n",
              "      <td>272.875</td>\n",
              "      <td>29.125</td>\n",
              "      <td>2008</td>\n",
              "      <td>1</td>\n",
              "      <td>19</td>\n",
              "      <td>21.00</td>\n",
              "      <td>0.1878</td>\n",
              "      <td>2008-01-19</td>\n",
              "      <td>1200700800000000000</td>\n",
              "    </tr>\n",
              "    <tr>\n",
              "      <th>1</th>\n",
              "      <td>265.875</td>\n",
              "      <td>28.125</td>\n",
              "      <td>2001</td>\n",
              "      <td>2</td>\n",
              "      <td>13</td>\n",
              "      <td>19.80</td>\n",
              "      <td>0.0984</td>\n",
              "      <td>2001-02-13</td>\n",
              "      <td>982022400000000000</td>\n",
              "    </tr>\n",
              "    <tr>\n",
              "      <th>2</th>\n",
              "      <td>268.375</td>\n",
              "      <td>28.625</td>\n",
              "      <td>2005</td>\n",
              "      <td>4</td>\n",
              "      <td>12</td>\n",
              "      <td>21.15</td>\n",
              "      <td>0.2088</td>\n",
              "      <td>2005-04-12</td>\n",
              "      <td>1113264000000000000</td>\n",
              "    </tr>\n",
              "    <tr>\n",
              "      <th>3</th>\n",
              "      <td>271.875</td>\n",
              "      <td>28.875</td>\n",
              "      <td>2007</td>\n",
              "      <td>2</td>\n",
              "      <td>16</td>\n",
              "      <td>20.10</td>\n",
              "      <td>0.1204</td>\n",
              "      <td>2007-02-16</td>\n",
              "      <td>1171584000000000000</td>\n",
              "    </tr>\n",
              "    <tr>\n",
              "      <th>4</th>\n",
              "      <td>266.125</td>\n",
              "      <td>28.125</td>\n",
              "      <td>2009</td>\n",
              "      <td>3</td>\n",
              "      <td>22</td>\n",
              "      <td>21.45</td>\n",
              "      <td>0.2050</td>\n",
              "      <td>2009-03-22</td>\n",
              "      <td>1237680000000000000</td>\n",
              "    </tr>\n",
              "  </tbody>\n",
              "</table>\n",
              "</div>\n",
              "      <button class=\"colab-df-convert\" onclick=\"convertToInteractive('df-84caf5b3-3240-49b4-928f-5d99d8251d48')\"\n",
              "              title=\"Convert this dataframe to an interactive table.\"\n",
              "              style=\"display:none;\">\n",
              "        \n",
              "  <svg xmlns=\"http://www.w3.org/2000/svg\" height=\"24px\"viewBox=\"0 0 24 24\"\n",
              "       width=\"24px\">\n",
              "    <path d=\"M0 0h24v24H0V0z\" fill=\"none\"/>\n",
              "    <path d=\"M18.56 5.44l.94 2.06.94-2.06 2.06-.94-2.06-.94-.94-2.06-.94 2.06-2.06.94zm-11 1L8.5 8.5l.94-2.06 2.06-.94-2.06-.94L8.5 2.5l-.94 2.06-2.06.94zm10 10l.94 2.06.94-2.06 2.06-.94-2.06-.94-.94-2.06-.94 2.06-2.06.94z\"/><path d=\"M17.41 7.96l-1.37-1.37c-.4-.4-.92-.59-1.43-.59-.52 0-1.04.2-1.43.59L10.3 9.45l-7.72 7.72c-.78.78-.78 2.05 0 2.83L4 21.41c.39.39.9.59 1.41.59.51 0 1.02-.2 1.41-.59l7.78-7.78 2.81-2.81c.8-.78.8-2.07 0-2.86zM5.41 20L4 18.59l7.72-7.72 1.47 1.35L5.41 20z\"/>\n",
              "  </svg>\n",
              "      </button>\n",
              "      \n",
              "  <style>\n",
              "    .colab-df-container {\n",
              "      display:flex;\n",
              "      flex-wrap:wrap;\n",
              "      gap: 12px;\n",
              "    }\n",
              "\n",
              "    .colab-df-convert {\n",
              "      background-color: #E8F0FE;\n",
              "      border: none;\n",
              "      border-radius: 50%;\n",
              "      cursor: pointer;\n",
              "      display: none;\n",
              "      fill: #1967D2;\n",
              "      height: 32px;\n",
              "      padding: 0 0 0 0;\n",
              "      width: 32px;\n",
              "    }\n",
              "\n",
              "    .colab-df-convert:hover {\n",
              "      background-color: #E2EBFA;\n",
              "      box-shadow: 0px 1px 2px rgba(60, 64, 67, 0.3), 0px 1px 3px 1px rgba(60, 64, 67, 0.15);\n",
              "      fill: #174EA6;\n",
              "    }\n",
              "\n",
              "    [theme=dark] .colab-df-convert {\n",
              "      background-color: #3B4455;\n",
              "      fill: #D2E3FC;\n",
              "    }\n",
              "\n",
              "    [theme=dark] .colab-df-convert:hover {\n",
              "      background-color: #434B5C;\n",
              "      box-shadow: 0px 1px 3px 1px rgba(0, 0, 0, 0.15);\n",
              "      filter: drop-shadow(0px 1px 2px rgba(0, 0, 0, 0.3));\n",
              "      fill: #FFFFFF;\n",
              "    }\n",
              "  </style>\n",
              "\n",
              "      <script>\n",
              "        const buttonEl =\n",
              "          document.querySelector('#df-84caf5b3-3240-49b4-928f-5d99d8251d48 button.colab-df-convert');\n",
              "        buttonEl.style.display =\n",
              "          google.colab.kernel.accessAllowed ? 'block' : 'none';\n",
              "\n",
              "        async function convertToInteractive(key) {\n",
              "          const element = document.querySelector('#df-84caf5b3-3240-49b4-928f-5d99d8251d48');\n",
              "          const dataTable =\n",
              "            await google.colab.kernel.invokeFunction('convertToInteractive',\n",
              "                                                     [key], {});\n",
              "          if (!dataTable) return;\n",
              "\n",
              "          const docLinkHtml = 'Like what you see? Visit the ' +\n",
              "            '<a target=\"_blank\" href=https://colab.research.google.com/notebooks/data_table.ipynb>data table notebook</a>'\n",
              "            + ' to learn more about interactive tables.';\n",
              "          element.innerHTML = '';\n",
              "          dataTable['output_type'] = 'display_data';\n",
              "          await google.colab.output.renderOutput(dataTable, element);\n",
              "          const docLink = document.createElement('div');\n",
              "          docLink.innerHTML = docLinkHtml;\n",
              "          element.appendChild(docLink);\n",
              "        }\n",
              "      </script>\n",
              "    </div>\n",
              "  </div>\n",
              "  "
            ]
          },
          "metadata": {},
          "execution_count": 14
        }
      ]
    },
    {
      "cell_type": "code",
      "source": [
        "coordDegreeMultiple = 0.250\n",
        "\n",
        "cyclonesData.ISO_TIME = pd.to_datetime(cyclonesData.ISO_TIME.dt.date)\n",
        "cyclonesData[\"CYCLONE_PRESENT\"] = 1\n",
        "cyclonesData[[\"LAT\", \"LON\"]] = (cyclonesData[[\"LAT\", \"LON\"]] - coordDegreeMultiple/2) / coordDegreeMultiple\n",
        "cyclonesData[[\"LAT\", \"LON\"]] = cyclonesData[[\"LAT\", \"LON\"]].round()\n",
        "cyclonesData[[\"LAT\", \"LON\"]] = cyclonesData[[\"LAT\", \"LON\"]] * coordDegreeMultiple + coordDegreeMultiple/2\n",
        "cyclonesData.head()"
      ],
      "metadata": {
        "id": "ms3ncM8TLuXA",
        "outputId": "42813ab2-d865-4f88-d0a1-a6e6ff1dc477",
        "colab": {
          "base_uri": "https://localhost:8080/",
          "height": 206
        }
      },
      "execution_count": 24,
      "outputs": [
        {
          "output_type": "execute_result",
          "data": {
            "text/plain": [
              "      LAT      LON            SID  USA_WIND CATEGORY           NSEC_TIME  \\\n",
              "0  25.375  267.625  1998233N25268      25.0       TD  903679200000000000   \n",
              "1  25.375  266.875  1998233N25268      27.0       TD  903690000000000000   \n",
              "2  25.375  266.125  1998233N25268      30.0       TD  903700800000000000   \n",
              "3  25.625  265.875  1998233N25268      35.0       TS  903711600000000000   \n",
              "4  26.125  265.625  1998233N25268      40.0       TS  903722400000000000   \n",
              "\n",
              "    ISO_TIME  CYCLONE_PRESENT  \n",
              "0 1998-08-21                1  \n",
              "1 1998-08-21                1  \n",
              "2 1998-08-21                1  \n",
              "3 1998-08-21                1  \n",
              "4 1998-08-21                1  "
            ],
            "text/html": [
              "\n",
              "  <div id=\"df-3a0748bc-a3b6-4682-b825-6e264317cebc\">\n",
              "    <div class=\"colab-df-container\">\n",
              "      <div>\n",
              "<style scoped>\n",
              "    .dataframe tbody tr th:only-of-type {\n",
              "        vertical-align: middle;\n",
              "    }\n",
              "\n",
              "    .dataframe tbody tr th {\n",
              "        vertical-align: top;\n",
              "    }\n",
              "\n",
              "    .dataframe thead th {\n",
              "        text-align: right;\n",
              "    }\n",
              "</style>\n",
              "<table border=\"1\" class=\"dataframe\">\n",
              "  <thead>\n",
              "    <tr style=\"text-align: right;\">\n",
              "      <th></th>\n",
              "      <th>LAT</th>\n",
              "      <th>LON</th>\n",
              "      <th>SID</th>\n",
              "      <th>USA_WIND</th>\n",
              "      <th>CATEGORY</th>\n",
              "      <th>NSEC_TIME</th>\n",
              "      <th>ISO_TIME</th>\n",
              "      <th>CYCLONE_PRESENT</th>\n",
              "    </tr>\n",
              "  </thead>\n",
              "  <tbody>\n",
              "    <tr>\n",
              "      <th>0</th>\n",
              "      <td>25.375</td>\n",
              "      <td>267.625</td>\n",
              "      <td>1998233N25268</td>\n",
              "      <td>25.0</td>\n",
              "      <td>TD</td>\n",
              "      <td>903679200000000000</td>\n",
              "      <td>1998-08-21</td>\n",
              "      <td>1</td>\n",
              "    </tr>\n",
              "    <tr>\n",
              "      <th>1</th>\n",
              "      <td>25.375</td>\n",
              "      <td>266.875</td>\n",
              "      <td>1998233N25268</td>\n",
              "      <td>27.0</td>\n",
              "      <td>TD</td>\n",
              "      <td>903690000000000000</td>\n",
              "      <td>1998-08-21</td>\n",
              "      <td>1</td>\n",
              "    </tr>\n",
              "    <tr>\n",
              "      <th>2</th>\n",
              "      <td>25.375</td>\n",
              "      <td>266.125</td>\n",
              "      <td>1998233N25268</td>\n",
              "      <td>30.0</td>\n",
              "      <td>TD</td>\n",
              "      <td>903700800000000000</td>\n",
              "      <td>1998-08-21</td>\n",
              "      <td>1</td>\n",
              "    </tr>\n",
              "    <tr>\n",
              "      <th>3</th>\n",
              "      <td>25.625</td>\n",
              "      <td>265.875</td>\n",
              "      <td>1998233N25268</td>\n",
              "      <td>35.0</td>\n",
              "      <td>TS</td>\n",
              "      <td>903711600000000000</td>\n",
              "      <td>1998-08-21</td>\n",
              "      <td>1</td>\n",
              "    </tr>\n",
              "    <tr>\n",
              "      <th>4</th>\n",
              "      <td>26.125</td>\n",
              "      <td>265.625</td>\n",
              "      <td>1998233N25268</td>\n",
              "      <td>40.0</td>\n",
              "      <td>TS</td>\n",
              "      <td>903722400000000000</td>\n",
              "      <td>1998-08-21</td>\n",
              "      <td>1</td>\n",
              "    </tr>\n",
              "  </tbody>\n",
              "</table>\n",
              "</div>\n",
              "      <button class=\"colab-df-convert\" onclick=\"convertToInteractive('df-3a0748bc-a3b6-4682-b825-6e264317cebc')\"\n",
              "              title=\"Convert this dataframe to an interactive table.\"\n",
              "              style=\"display:none;\">\n",
              "        \n",
              "  <svg xmlns=\"http://www.w3.org/2000/svg\" height=\"24px\"viewBox=\"0 0 24 24\"\n",
              "       width=\"24px\">\n",
              "    <path d=\"M0 0h24v24H0V0z\" fill=\"none\"/>\n",
              "    <path d=\"M18.56 5.44l.94 2.06.94-2.06 2.06-.94-2.06-.94-.94-2.06-.94 2.06-2.06.94zm-11 1L8.5 8.5l.94-2.06 2.06-.94-2.06-.94L8.5 2.5l-.94 2.06-2.06.94zm10 10l.94 2.06.94-2.06 2.06-.94-2.06-.94-.94-2.06-.94 2.06-2.06.94z\"/><path d=\"M17.41 7.96l-1.37-1.37c-.4-.4-.92-.59-1.43-.59-.52 0-1.04.2-1.43.59L10.3 9.45l-7.72 7.72c-.78.78-.78 2.05 0 2.83L4 21.41c.39.39.9.59 1.41.59.51 0 1.02-.2 1.41-.59l7.78-7.78 2.81-2.81c.8-.78.8-2.07 0-2.86zM5.41 20L4 18.59l7.72-7.72 1.47 1.35L5.41 20z\"/>\n",
              "  </svg>\n",
              "      </button>\n",
              "      \n",
              "  <style>\n",
              "    .colab-df-container {\n",
              "      display:flex;\n",
              "      flex-wrap:wrap;\n",
              "      gap: 12px;\n",
              "    }\n",
              "\n",
              "    .colab-df-convert {\n",
              "      background-color: #E8F0FE;\n",
              "      border: none;\n",
              "      border-radius: 50%;\n",
              "      cursor: pointer;\n",
              "      display: none;\n",
              "      fill: #1967D2;\n",
              "      height: 32px;\n",
              "      padding: 0 0 0 0;\n",
              "      width: 32px;\n",
              "    }\n",
              "\n",
              "    .colab-df-convert:hover {\n",
              "      background-color: #E2EBFA;\n",
              "      box-shadow: 0px 1px 2px rgba(60, 64, 67, 0.3), 0px 1px 3px 1px rgba(60, 64, 67, 0.15);\n",
              "      fill: #174EA6;\n",
              "    }\n",
              "\n",
              "    [theme=dark] .colab-df-convert {\n",
              "      background-color: #3B4455;\n",
              "      fill: #D2E3FC;\n",
              "    }\n",
              "\n",
              "    [theme=dark] .colab-df-convert:hover {\n",
              "      background-color: #434B5C;\n",
              "      box-shadow: 0px 1px 3px 1px rgba(0, 0, 0, 0.15);\n",
              "      filter: drop-shadow(0px 1px 2px rgba(0, 0, 0, 0.3));\n",
              "      fill: #FFFFFF;\n",
              "    }\n",
              "  </style>\n",
              "\n",
              "      <script>\n",
              "        const buttonEl =\n",
              "          document.querySelector('#df-3a0748bc-a3b6-4682-b825-6e264317cebc button.colab-df-convert');\n",
              "        buttonEl.style.display =\n",
              "          google.colab.kernel.accessAllowed ? 'block' : 'none';\n",
              "\n",
              "        async function convertToInteractive(key) {\n",
              "          const element = document.querySelector('#df-3a0748bc-a3b6-4682-b825-6e264317cebc');\n",
              "          const dataTable =\n",
              "            await google.colab.kernel.invokeFunction('convertToInteractive',\n",
              "                                                     [key], {});\n",
              "          if (!dataTable) return;\n",
              "\n",
              "          const docLinkHtml = 'Like what you see? Visit the ' +\n",
              "            '<a target=\"_blank\" href=https://colab.research.google.com/notebooks/data_table.ipynb>data table notebook</a>'\n",
              "            + ' to learn more about interactive tables.';\n",
              "          element.innerHTML = '';\n",
              "          dataTable['output_type'] = 'display_data';\n",
              "          await google.colab.output.renderOutput(dataTable, element);\n",
              "          const docLink = document.createElement('div');\n",
              "          docLink.innerHTML = docLinkHtml;\n",
              "          element.appendChild(docLink);\n",
              "        }\n",
              "      </script>\n",
              "    </div>\n",
              "  </div>\n",
              "  "
            ]
          },
          "metadata": {},
          "execution_count": 24
        }
      ]
    },
    {
      "cell_type": "code",
      "source": [
        "finalData = pd.merge(left=output, right=cyclonesData[['LON', 'LAT', \"ISO_TIME\", \"CYCLONE_PRESENT\", \"SID\"]], how=\"left\", on=['LON', 'LAT','ISO_TIME'])\n",
        "finalData.head()"
      ],
      "metadata": {
        "id": "fX6OWZxpQ1AG",
        "outputId": "ae731c06-772c-4b69-8183-43c2c0f15c46",
        "colab": {
          "base_uri": "https://localhost:8080/",
          "height": 206
        }
      },
      "execution_count": 25,
      "outputs": [
        {
          "output_type": "execute_result",
          "data": {
            "text/plain": [
              "       LON     LAT  year  month  day    sst     ssh   ISO_TIME  \\\n",
              "0  272.875  29.125  2008      1   19  21.00  0.1878 2008-01-19   \n",
              "1  265.875  28.125  2001      2   13  19.80  0.0984 2001-02-13   \n",
              "2  268.375  28.625  2005      4   12  21.15  0.2088 2005-04-12   \n",
              "3  271.875  28.875  2007      2   16  20.10  0.1204 2007-02-16   \n",
              "4  266.125  28.125  2009      3   22  21.45  0.2050 2009-03-22   \n",
              "\n",
              "             NSEC_TIME  CYCLONE_PRESENT  SID  \n",
              "0  1200700800000000000              NaN  NaN  \n",
              "1   982022400000000000              NaN  NaN  \n",
              "2  1113264000000000000              NaN  NaN  \n",
              "3  1171584000000000000              NaN  NaN  \n",
              "4  1237680000000000000              NaN  NaN  "
            ],
            "text/html": [
              "\n",
              "  <div id=\"df-33e98f2d-3e90-4254-8430-f0d23eec0ddc\">\n",
              "    <div class=\"colab-df-container\">\n",
              "      <div>\n",
              "<style scoped>\n",
              "    .dataframe tbody tr th:only-of-type {\n",
              "        vertical-align: middle;\n",
              "    }\n",
              "\n",
              "    .dataframe tbody tr th {\n",
              "        vertical-align: top;\n",
              "    }\n",
              "\n",
              "    .dataframe thead th {\n",
              "        text-align: right;\n",
              "    }\n",
              "</style>\n",
              "<table border=\"1\" class=\"dataframe\">\n",
              "  <thead>\n",
              "    <tr style=\"text-align: right;\">\n",
              "      <th></th>\n",
              "      <th>LON</th>\n",
              "      <th>LAT</th>\n",
              "      <th>year</th>\n",
              "      <th>month</th>\n",
              "      <th>day</th>\n",
              "      <th>sst</th>\n",
              "      <th>ssh</th>\n",
              "      <th>ISO_TIME</th>\n",
              "      <th>NSEC_TIME</th>\n",
              "      <th>CYCLONE_PRESENT</th>\n",
              "      <th>SID</th>\n",
              "    </tr>\n",
              "  </thead>\n",
              "  <tbody>\n",
              "    <tr>\n",
              "      <th>0</th>\n",
              "      <td>272.875</td>\n",
              "      <td>29.125</td>\n",
              "      <td>2008</td>\n",
              "      <td>1</td>\n",
              "      <td>19</td>\n",
              "      <td>21.00</td>\n",
              "      <td>0.1878</td>\n",
              "      <td>2008-01-19</td>\n",
              "      <td>1200700800000000000</td>\n",
              "      <td>NaN</td>\n",
              "      <td>NaN</td>\n",
              "    </tr>\n",
              "    <tr>\n",
              "      <th>1</th>\n",
              "      <td>265.875</td>\n",
              "      <td>28.125</td>\n",
              "      <td>2001</td>\n",
              "      <td>2</td>\n",
              "      <td>13</td>\n",
              "      <td>19.80</td>\n",
              "      <td>0.0984</td>\n",
              "      <td>2001-02-13</td>\n",
              "      <td>982022400000000000</td>\n",
              "      <td>NaN</td>\n",
              "      <td>NaN</td>\n",
              "    </tr>\n",
              "    <tr>\n",
              "      <th>2</th>\n",
              "      <td>268.375</td>\n",
              "      <td>28.625</td>\n",
              "      <td>2005</td>\n",
              "      <td>4</td>\n",
              "      <td>12</td>\n",
              "      <td>21.15</td>\n",
              "      <td>0.2088</td>\n",
              "      <td>2005-04-12</td>\n",
              "      <td>1113264000000000000</td>\n",
              "      <td>NaN</td>\n",
              "      <td>NaN</td>\n",
              "    </tr>\n",
              "    <tr>\n",
              "      <th>3</th>\n",
              "      <td>271.875</td>\n",
              "      <td>28.875</td>\n",
              "      <td>2007</td>\n",
              "      <td>2</td>\n",
              "      <td>16</td>\n",
              "      <td>20.10</td>\n",
              "      <td>0.1204</td>\n",
              "      <td>2007-02-16</td>\n",
              "      <td>1171584000000000000</td>\n",
              "      <td>NaN</td>\n",
              "      <td>NaN</td>\n",
              "    </tr>\n",
              "    <tr>\n",
              "      <th>4</th>\n",
              "      <td>266.125</td>\n",
              "      <td>28.125</td>\n",
              "      <td>2009</td>\n",
              "      <td>3</td>\n",
              "      <td>22</td>\n",
              "      <td>21.45</td>\n",
              "      <td>0.2050</td>\n",
              "      <td>2009-03-22</td>\n",
              "      <td>1237680000000000000</td>\n",
              "      <td>NaN</td>\n",
              "      <td>NaN</td>\n",
              "    </tr>\n",
              "  </tbody>\n",
              "</table>\n",
              "</div>\n",
              "      <button class=\"colab-df-convert\" onclick=\"convertToInteractive('df-33e98f2d-3e90-4254-8430-f0d23eec0ddc')\"\n",
              "              title=\"Convert this dataframe to an interactive table.\"\n",
              "              style=\"display:none;\">\n",
              "        \n",
              "  <svg xmlns=\"http://www.w3.org/2000/svg\" height=\"24px\"viewBox=\"0 0 24 24\"\n",
              "       width=\"24px\">\n",
              "    <path d=\"M0 0h24v24H0V0z\" fill=\"none\"/>\n",
              "    <path d=\"M18.56 5.44l.94 2.06.94-2.06 2.06-.94-2.06-.94-.94-2.06-.94 2.06-2.06.94zm-11 1L8.5 8.5l.94-2.06 2.06-.94-2.06-.94L8.5 2.5l-.94 2.06-2.06.94zm10 10l.94 2.06.94-2.06 2.06-.94-2.06-.94-.94-2.06-.94 2.06-2.06.94z\"/><path d=\"M17.41 7.96l-1.37-1.37c-.4-.4-.92-.59-1.43-.59-.52 0-1.04.2-1.43.59L10.3 9.45l-7.72 7.72c-.78.78-.78 2.05 0 2.83L4 21.41c.39.39.9.59 1.41.59.51 0 1.02-.2 1.41-.59l7.78-7.78 2.81-2.81c.8-.78.8-2.07 0-2.86zM5.41 20L4 18.59l7.72-7.72 1.47 1.35L5.41 20z\"/>\n",
              "  </svg>\n",
              "      </button>\n",
              "      \n",
              "  <style>\n",
              "    .colab-df-container {\n",
              "      display:flex;\n",
              "      flex-wrap:wrap;\n",
              "      gap: 12px;\n",
              "    }\n",
              "\n",
              "    .colab-df-convert {\n",
              "      background-color: #E8F0FE;\n",
              "      border: none;\n",
              "      border-radius: 50%;\n",
              "      cursor: pointer;\n",
              "      display: none;\n",
              "      fill: #1967D2;\n",
              "      height: 32px;\n",
              "      padding: 0 0 0 0;\n",
              "      width: 32px;\n",
              "    }\n",
              "\n",
              "    .colab-df-convert:hover {\n",
              "      background-color: #E2EBFA;\n",
              "      box-shadow: 0px 1px 2px rgba(60, 64, 67, 0.3), 0px 1px 3px 1px rgba(60, 64, 67, 0.15);\n",
              "      fill: #174EA6;\n",
              "    }\n",
              "\n",
              "    [theme=dark] .colab-df-convert {\n",
              "      background-color: #3B4455;\n",
              "      fill: #D2E3FC;\n",
              "    }\n",
              "\n",
              "    [theme=dark] .colab-df-convert:hover {\n",
              "      background-color: #434B5C;\n",
              "      box-shadow: 0px 1px 3px 1px rgba(0, 0, 0, 0.15);\n",
              "      filter: drop-shadow(0px 1px 2px rgba(0, 0, 0, 0.3));\n",
              "      fill: #FFFFFF;\n",
              "    }\n",
              "  </style>\n",
              "\n",
              "      <script>\n",
              "        const buttonEl =\n",
              "          document.querySelector('#df-33e98f2d-3e90-4254-8430-f0d23eec0ddc button.colab-df-convert');\n",
              "        buttonEl.style.display =\n",
              "          google.colab.kernel.accessAllowed ? 'block' : 'none';\n",
              "\n",
              "        async function convertToInteractive(key) {\n",
              "          const element = document.querySelector('#df-33e98f2d-3e90-4254-8430-f0d23eec0ddc');\n",
              "          const dataTable =\n",
              "            await google.colab.kernel.invokeFunction('convertToInteractive',\n",
              "                                                     [key], {});\n",
              "          if (!dataTable) return;\n",
              "\n",
              "          const docLinkHtml = 'Like what you see? Visit the ' +\n",
              "            '<a target=\"_blank\" href=https://colab.research.google.com/notebooks/data_table.ipynb>data table notebook</a>'\n",
              "            + ' to learn more about interactive tables.';\n",
              "          element.innerHTML = '';\n",
              "          dataTable['output_type'] = 'display_data';\n",
              "          await google.colab.output.renderOutput(dataTable, element);\n",
              "          const docLink = document.createElement('div');\n",
              "          docLink.innerHTML = docLinkHtml;\n",
              "          element.appendChild(docLink);\n",
              "        }\n",
              "      </script>\n",
              "    </div>\n",
              "  </div>\n",
              "  "
            ]
          },
          "metadata": {},
          "execution_count": 25
        }
      ]
    },
    {
      "cell_type": "code",
      "source": [
        "print(\"From all unique cyclones :\",cyclonesData[\"SID\"].nunique())\n",
        "print(finalData[\"SID\"].nunique(), \"were matched in the sst/ssh dataset\")"
      ],
      "metadata": {
        "id": "ABaIGu08Q3mV",
        "outputId": "f8c7aeed-19fe-4eda-f164-c15060d1e164",
        "colab": {
          "base_uri": "https://localhost:8080/"
        }
      },
      "execution_count": 26,
      "outputs": [
        {
          "output_type": "stream",
          "name": "stdout",
          "text": [
            "From all unique cyclones : 134\n",
            "111 were matched in the sst/ssh dataset\n"
          ]
        }
      ]
    },
    {
      "cell_type": "markdown",
      "source": [
        "Here, we found that not all cyclones in the selected area are matched with the uniform and complete data.\n",
        "The following code shows why :"
      ],
      "metadata": {
        "id": "XDy4C519SFVB"
      }
    },
    {
      "cell_type": "code",
      "source": [
        "cyclonePoints = finalData[finalData[\"SID\"].isna() == False][['LAT', 'LON', 'SID', 'ISO_TIME', \"sst\"]]\n",
        "cyclonesWithSST = pd.merge(left=cyclonesData, right=cyclonePoints, how=\"left\", on=['LAT', 'LON', 'SID', 'ISO_TIME'])\n",
        "cyclonesWithSST.head()"
      ],
      "metadata": {
        "id": "5K2YREy5MYdB",
        "outputId": "82ca5be0-4abd-41a2-af29-971608bd17aa",
        "colab": {
          "base_uri": "https://localhost:8080/",
          "height": 206
        }
      },
      "execution_count": 29,
      "outputs": [
        {
          "output_type": "execute_result",
          "data": {
            "text/plain": [
              "      LAT      LON            SID  USA_WIND CATEGORY           NSEC_TIME  \\\n",
              "0  25.375  267.625  1998233N25268      25.0       TD  903679200000000000   \n",
              "1  25.375  266.875  1998233N25268      27.0       TD  903690000000000000   \n",
              "2  25.375  266.125  1998233N25268      30.0       TD  903700800000000000   \n",
              "3  25.625  265.875  1998233N25268      35.0       TS  903711600000000000   \n",
              "4  26.125  265.625  1998233N25268      40.0       TS  903722400000000000   \n",
              "\n",
              "    ISO_TIME  CYCLONE_PRESENT    sst  \n",
              "0 1998-08-21                1  30.30  \n",
              "1 1998-08-21                1  30.30  \n",
              "2 1998-08-21                1  30.45  \n",
              "3 1998-08-21                1  30.30  \n",
              "4 1998-08-21                1  30.30  "
            ],
            "text/html": [
              "\n",
              "  <div id=\"df-67c29493-f86a-4a70-b0c5-ff22622582f7\">\n",
              "    <div class=\"colab-df-container\">\n",
              "      <div>\n",
              "<style scoped>\n",
              "    .dataframe tbody tr th:only-of-type {\n",
              "        vertical-align: middle;\n",
              "    }\n",
              "\n",
              "    .dataframe tbody tr th {\n",
              "        vertical-align: top;\n",
              "    }\n",
              "\n",
              "    .dataframe thead th {\n",
              "        text-align: right;\n",
              "    }\n",
              "</style>\n",
              "<table border=\"1\" class=\"dataframe\">\n",
              "  <thead>\n",
              "    <tr style=\"text-align: right;\">\n",
              "      <th></th>\n",
              "      <th>LAT</th>\n",
              "      <th>LON</th>\n",
              "      <th>SID</th>\n",
              "      <th>USA_WIND</th>\n",
              "      <th>CATEGORY</th>\n",
              "      <th>NSEC_TIME</th>\n",
              "      <th>ISO_TIME</th>\n",
              "      <th>CYCLONE_PRESENT</th>\n",
              "      <th>sst</th>\n",
              "    </tr>\n",
              "  </thead>\n",
              "  <tbody>\n",
              "    <tr>\n",
              "      <th>0</th>\n",
              "      <td>25.375</td>\n",
              "      <td>267.625</td>\n",
              "      <td>1998233N25268</td>\n",
              "      <td>25.0</td>\n",
              "      <td>TD</td>\n",
              "      <td>903679200000000000</td>\n",
              "      <td>1998-08-21</td>\n",
              "      <td>1</td>\n",
              "      <td>30.30</td>\n",
              "    </tr>\n",
              "    <tr>\n",
              "      <th>1</th>\n",
              "      <td>25.375</td>\n",
              "      <td>266.875</td>\n",
              "      <td>1998233N25268</td>\n",
              "      <td>27.0</td>\n",
              "      <td>TD</td>\n",
              "      <td>903690000000000000</td>\n",
              "      <td>1998-08-21</td>\n",
              "      <td>1</td>\n",
              "      <td>30.30</td>\n",
              "    </tr>\n",
              "    <tr>\n",
              "      <th>2</th>\n",
              "      <td>25.375</td>\n",
              "      <td>266.125</td>\n",
              "      <td>1998233N25268</td>\n",
              "      <td>30.0</td>\n",
              "      <td>TD</td>\n",
              "      <td>903700800000000000</td>\n",
              "      <td>1998-08-21</td>\n",
              "      <td>1</td>\n",
              "      <td>30.45</td>\n",
              "    </tr>\n",
              "    <tr>\n",
              "      <th>3</th>\n",
              "      <td>25.625</td>\n",
              "      <td>265.875</td>\n",
              "      <td>1998233N25268</td>\n",
              "      <td>35.0</td>\n",
              "      <td>TS</td>\n",
              "      <td>903711600000000000</td>\n",
              "      <td>1998-08-21</td>\n",
              "      <td>1</td>\n",
              "      <td>30.30</td>\n",
              "    </tr>\n",
              "    <tr>\n",
              "      <th>4</th>\n",
              "      <td>26.125</td>\n",
              "      <td>265.625</td>\n",
              "      <td>1998233N25268</td>\n",
              "      <td>40.0</td>\n",
              "      <td>TS</td>\n",
              "      <td>903722400000000000</td>\n",
              "      <td>1998-08-21</td>\n",
              "      <td>1</td>\n",
              "      <td>30.30</td>\n",
              "    </tr>\n",
              "  </tbody>\n",
              "</table>\n",
              "</div>\n",
              "      <button class=\"colab-df-convert\" onclick=\"convertToInteractive('df-67c29493-f86a-4a70-b0c5-ff22622582f7')\"\n",
              "              title=\"Convert this dataframe to an interactive table.\"\n",
              "              style=\"display:none;\">\n",
              "        \n",
              "  <svg xmlns=\"http://www.w3.org/2000/svg\" height=\"24px\"viewBox=\"0 0 24 24\"\n",
              "       width=\"24px\">\n",
              "    <path d=\"M0 0h24v24H0V0z\" fill=\"none\"/>\n",
              "    <path d=\"M18.56 5.44l.94 2.06.94-2.06 2.06-.94-2.06-.94-.94-2.06-.94 2.06-2.06.94zm-11 1L8.5 8.5l.94-2.06 2.06-.94-2.06-.94L8.5 2.5l-.94 2.06-2.06.94zm10 10l.94 2.06.94-2.06 2.06-.94-2.06-.94-.94-2.06-.94 2.06-2.06.94z\"/><path d=\"M17.41 7.96l-1.37-1.37c-.4-.4-.92-.59-1.43-.59-.52 0-1.04.2-1.43.59L10.3 9.45l-7.72 7.72c-.78.78-.78 2.05 0 2.83L4 21.41c.39.39.9.59 1.41.59.51 0 1.02-.2 1.41-.59l7.78-7.78 2.81-2.81c.8-.78.8-2.07 0-2.86zM5.41 20L4 18.59l7.72-7.72 1.47 1.35L5.41 20z\"/>\n",
              "  </svg>\n",
              "      </button>\n",
              "      \n",
              "  <style>\n",
              "    .colab-df-container {\n",
              "      display:flex;\n",
              "      flex-wrap:wrap;\n",
              "      gap: 12px;\n",
              "    }\n",
              "\n",
              "    .colab-df-convert {\n",
              "      background-color: #E8F0FE;\n",
              "      border: none;\n",
              "      border-radius: 50%;\n",
              "      cursor: pointer;\n",
              "      display: none;\n",
              "      fill: #1967D2;\n",
              "      height: 32px;\n",
              "      padding: 0 0 0 0;\n",
              "      width: 32px;\n",
              "    }\n",
              "\n",
              "    .colab-df-convert:hover {\n",
              "      background-color: #E2EBFA;\n",
              "      box-shadow: 0px 1px 2px rgba(60, 64, 67, 0.3), 0px 1px 3px 1px rgba(60, 64, 67, 0.15);\n",
              "      fill: #174EA6;\n",
              "    }\n",
              "\n",
              "    [theme=dark] .colab-df-convert {\n",
              "      background-color: #3B4455;\n",
              "      fill: #D2E3FC;\n",
              "    }\n",
              "\n",
              "    [theme=dark] .colab-df-convert:hover {\n",
              "      background-color: #434B5C;\n",
              "      box-shadow: 0px 1px 3px 1px rgba(0, 0, 0, 0.15);\n",
              "      filter: drop-shadow(0px 1px 2px rgba(0, 0, 0, 0.3));\n",
              "      fill: #FFFFFF;\n",
              "    }\n",
              "  </style>\n",
              "\n",
              "      <script>\n",
              "        const buttonEl =\n",
              "          document.querySelector('#df-67c29493-f86a-4a70-b0c5-ff22622582f7 button.colab-df-convert');\n",
              "        buttonEl.style.display =\n",
              "          google.colab.kernel.accessAllowed ? 'block' : 'none';\n",
              "\n",
              "        async function convertToInteractive(key) {\n",
              "          const element = document.querySelector('#df-67c29493-f86a-4a70-b0c5-ff22622582f7');\n",
              "          const dataTable =\n",
              "            await google.colab.kernel.invokeFunction('convertToInteractive',\n",
              "                                                     [key], {});\n",
              "          if (!dataTable) return;\n",
              "\n",
              "          const docLinkHtml = 'Like what you see? Visit the ' +\n",
              "            '<a target=\"_blank\" href=https://colab.research.google.com/notebooks/data_table.ipynb>data table notebook</a>'\n",
              "            + ' to learn more about interactive tables.';\n",
              "          element.innerHTML = '';\n",
              "          dataTable['output_type'] = 'display_data';\n",
              "          await google.colab.output.renderOutput(dataTable, element);\n",
              "          const docLink = document.createElement('div');\n",
              "          docLink.innerHTML = docLinkHtml;\n",
              "          element.appendChild(docLink);\n",
              "        }\n",
              "      </script>\n",
              "    </div>\n",
              "  </div>\n",
              "  "
            ]
          },
          "metadata": {},
          "execution_count": 29
        }
      ]
    },
    {
      "cell_type": "code",
      "source": [
        "missingData = cyclonesWithSST[cyclonesWithSST[\"sst\"].isna()]\n",
        "plot_im(missingData.LON, missingData.LAT, missingData.USA_WIND, 20,  \"Max wind speed\")"
      ],
      "metadata": {
        "id": "ZwC9xj9rPRIT",
        "outputId": "6bbb9148-93e6-417d-f487-cb944ce928ab",
        "colab": {
          "base_uri": "https://localhost:8080/",
          "height": 497
        }
      },
      "execution_count": 31,
      "outputs": [
        {
          "output_type": "display_data",
          "data": {
            "text/plain": [
              "<Figure size 1080x1080 with 2 Axes>"
            ],
            "image/png": "[encoded data removed]"
          },
          "metadata": {
            "needs_background": "light"
          }
        }
      ]
    },
    {
      "cell_type": "markdown",
      "source": [
        "As expected, we can't study the cyclone points that are too close to the coast, since we don't have sst data there.\n",
        "\n",
        "Let's save a new dataset, with all the cyclones points close to the coast removed."
      ],
      "metadata": {
        "id": "9jAE7TADZixQ"
      }
    },
    {
      "cell_type": "code",
      "source": [
        "cyclonesWithSST.dropna().drop(columns=[\"CYCLONE_PRESENT\", \"sst\"]).to_csv(\"data/ibtracs-\"+zoneAnalysis.lower()+\"-1998-2015-sst-adapted.csv\")"
      ],
      "metadata": {
        "id": "ExLPRM92Q0s_"
      },
      "execution_count": 33,
      "outputs": []
    },
    {
      "cell_type": "code",
      "source": [
        "#free memory\n",
        "del cyclonePoints\n",
        "del cyclonesData\n",
        "del cyclonesWithSST\n",
        "del missingData"
      ],
      "metadata": {
        "id": "57u-Yvh6dx0n"
      },
      "execution_count": null,
      "outputs": []
    },
    {
      "cell_type": "code",
      "source": [
        "gc.collect()"
      ],
      "metadata": {
        "id": "HKJbpguEeN_C",
        "outputId": "3cd54411-f199-4169-da32-8353541297c7",
        "colab": {
          "base_uri": "https://localhost:8080/"
        }
      },
      "execution_count": 38,
      "outputs": [
        {
          "output_type": "execute_result",
          "data": {
            "text/plain": [
              "8246"
            ]
          },
          "metadata": {},
          "execution_count": 38
        }
      ]
    },
    {
      "cell_type": "markdown",
      "source": [
        "# Train/test set and model training"
      ],
      "metadata": {
        "id": "L9cmUrEsdKW6"
      }
    },
    {
      "cell_type": "code",
      "source": [
        "#free up memory\n",
        "del output\n",
        "gc.collect()"
      ],
      "metadata": {
        "id": "92PyNBJgacTZ",
        "outputId": "e40876fa-e2b1-4970-a2eb-c8b4570e7d76",
        "colab": {
          "base_uri": "https://localhost:8080/"
        }
      },
      "execution_count": 39,
      "outputs": [
        {
          "output_type": "execute_result",
          "data": {
            "text/plain": [
              "0"
            ]
          },
          "metadata": {},
          "execution_count": 39
        }
      ]
    },
    {
      "cell_type": "code",
      "source": [
        "finalData[\"CYCLONE_PRESENT\"].fillna(0, inplace=True)\n",
        "if \"SID\" in finalData.columns: finalData.drop(columns=[\"SID\"], inplace=True)\n",
        "finalData.head()"
      ],
      "metadata": {
        "id": "_y0ZwA4idZ-Y",
        "outputId": "3cf49ee6-4a58-45d8-d593-886132144c67",
        "colab": {
          "base_uri": "https://localhost:8080/",
          "height": 206
        }
      },
      "execution_count": 45,
      "outputs": [
        {
          "output_type": "execute_result",
          "data": {
            "text/plain": [
              "             LON     LAT  year  month  day    sst     ssh   ISO_TIME  \\\n",
              "835229   267.625  28.875  1998      1    2  17.25  0.0277 1998-01-02   \n",
              "694585   272.125  29.375  1998      1    2  18.90  0.0761 1998-01-02   \n",
              "974989   266.625  20.625  1998      1    2  24.00  0.1923 1998-01-02   \n",
              "7534007  281.375  29.375  1998      1    2  23.40  0.8240 1998-01-02   \n",
              "484539   263.625  25.125  1998      1    2  21.75  0.2131 1998-01-02   \n",
              "\n",
              "                  NSEC_TIME  CYCLONE_PRESENT  \n",
              "835229   883699200000000000              0.0  \n",
              "694585   883699200000000000              0.0  \n",
              "974989   883699200000000000              0.0  \n",
              "7534007  883699200000000000              0.0  \n",
              "484539   883699200000000000              0.0  "
            ],
            "text/html": [
              "\n",
              "  <div id=\"df-1afc244d-0806-482f-b708-3753f1b87db3\">\n",
              "    <div class=\"colab-df-container\">\n",
              "      <div>\n",
              "<style scoped>\n",
              "    .dataframe tbody tr th:only-of-type {\n",
              "        vertical-align: middle;\n",
              "    }\n",
              "\n",
              "    .dataframe tbody tr th {\n",
              "        vertical-align: top;\n",
              "    }\n",
              "\n",
              "    .dataframe thead th {\n",
              "        text-align: right;\n",
              "    }\n",
              "</style>\n",
              "<table border=\"1\" class=\"dataframe\">\n",
              "  <thead>\n",
              "    <tr style=\"text-align: right;\">\n",
              "      <th></th>\n",
              "      <th>LON</th>\n",
              "      <th>LAT</th>\n",
              "      <th>year</th>\n",
              "      <th>month</th>\n",
              "      <th>day</th>\n",
              "      <th>sst</th>\n",
              "      <th>ssh</th>\n",
              "      <th>ISO_TIME</th>\n",
              "      <th>NSEC_TIME</th>\n",
              "      <th>CYCLONE_PRESENT</th>\n",
              "    </tr>\n",
              "  </thead>\n",
              "  <tbody>\n",
              "    <tr>\n",
              "      <th>835229</th>\n",
              "      <td>267.625</td>\n",
              "      <td>28.875</td>\n",
              "      <td>1998</td>\n",
              "      <td>1</td>\n",
              "      <td>2</td>\n",
              "      <td>17.25</td>\n",
              "      <td>0.0277</td>\n",
              "      <td>1998-01-02</td>\n",
              "      <td>883699200000000000</td>\n",
              "      <td>0.0</td>\n",
              "    </tr>\n",
              "    <tr>\n",
              "      <th>694585</th>\n",
              "      <td>272.125</td>\n",
              "      <td>29.375</td>\n",
              "      <td>1998</td>\n",
              "      <td>1</td>\n",
              "      <td>2</td>\n",
              "      <td>18.90</td>\n",
              "      <td>0.0761</td>\n",
              "      <td>1998-01-02</td>\n",
              "      <td>883699200000000000</td>\n",
              "      <td>0.0</td>\n",
              "    </tr>\n",
              "    <tr>\n",
              "      <th>974989</th>\n",
              "      <td>266.625</td>\n",
              "      <td>20.625</td>\n",
              "      <td>1998</td>\n",
              "      <td>1</td>\n",
              "      <td>2</td>\n",
              "      <td>24.00</td>\n",
              "      <td>0.1923</td>\n",
              "      <td>1998-01-02</td>\n",
              "      <td>883699200000000000</td>\n",
              "      <td>0.0</td>\n",
              "    </tr>\n",
              "    <tr>\n",
              "      <th>7534007</th>\n",
              "      <td>281.375</td>\n",
              "      <td>29.375</td>\n",
              "      <td>1998</td>\n",
              "      <td>1</td>\n",
              "      <td>2</td>\n",
              "      <td>23.40</td>\n",
              "      <td>0.8240</td>\n",
              "      <td>1998-01-02</td>\n",
              "      <td>883699200000000000</td>\n",
              "      <td>0.0</td>\n",
              "    </tr>\n",
              "    <tr>\n",
              "      <th>484539</th>\n",
              "      <td>263.625</td>\n",
              "      <td>25.125</td>\n",
              "      <td>1998</td>\n",
              "      <td>1</td>\n",
              "      <td>2</td>\n",
              "      <td>21.75</td>\n",
              "      <td>0.2131</td>\n",
              "      <td>1998-01-02</td>\n",
              "      <td>883699200000000000</td>\n",
              "      <td>0.0</td>\n",
              "    </tr>\n",
              "  </tbody>\n",
              "</table>\n",
              "</div>\n",
              "      <button class=\"colab-df-convert\" onclick=\"convertToInteractive('df-1afc244d-0806-482f-b708-3753f1b87db3')\"\n",
              "              title=\"Convert this dataframe to an interactive table.\"\n",
              "              style=\"display:none;\">\n",
              "        \n",
              "  <svg xmlns=\"http://www.w3.org/2000/svg\" height=\"24px\"viewBox=\"0 0 24 24\"\n",
              "       width=\"24px\">\n",
              "    <path d=\"M0 0h24v24H0V0z\" fill=\"none\"/>\n",
              "    <path d=\"M18.56 5.44l.94 2.06.94-2.06 2.06-.94-2.06-.94-.94-2.06-.94 2.06-2.06.94zm-11 1L8.5 8.5l.94-2.06 2.06-.94-2.06-.94L8.5 2.5l-.94 2.06-2.06.94zm10 10l.94 2.06.94-2.06 2.06-.94-2.06-.94-.94-2.06-.94 2.06-2.06.94z\"/><path d=\"M17.41 7.96l-1.37-1.37c-.4-.4-.92-.59-1.43-.59-.52 0-1.04.2-1.43.59L10.3 9.45l-7.72 7.72c-.78.78-.78 2.05 0 2.83L4 21.41c.39.39.9.59 1.41.59.51 0 1.02-.2 1.41-.59l7.78-7.78 2.81-2.81c.8-.78.8-2.07 0-2.86zM5.41 20L4 18.59l7.72-7.72 1.47 1.35L5.41 20z\"/>\n",
              "  </svg>\n",
              "      </button>\n",
              "      \n",
              "  <style>\n",
              "    .colab-df-container {\n",
              "      display:flex;\n",
              "      flex-wrap:wrap;\n",
              "      gap: 12px;\n",
              "    }\n",
              "\n",
              "    .colab-df-convert {\n",
              "      background-color: #E8F0FE;\n",
              "      border: none;\n",
              "      border-radius: 50%;\n",
              "      cursor: pointer;\n",
              "      display: none;\n",
              "      fill: #1967D2;\n",
              "      height: 32px;\n",
              "      padding: 0 0 0 0;\n",
              "      width: 32px;\n",
              "    }\n",
              "\n",
              "    .colab-df-convert:hover {\n",
              "      background-color: #E2EBFA;\n",
              "      box-shadow: 0px 1px 2px rgba(60, 64, 67, 0.3), 0px 1px 3px 1px rgba(60, 64, 67, 0.15);\n",
              "      fill: #174EA6;\n",
              "    }\n",
              "\n",
              "    [theme=dark] .colab-df-convert {\n",
              "      background-color: #3B4455;\n",
              "      fill: #D2E3FC;\n",
              "    }\n",
              "\n",
              "    [theme=dark] .colab-df-convert:hover {\n",
              "      background-color: #434B5C;\n",
              "      box-shadow: 0px 1px 3px 1px rgba(0, 0, 0, 0.15);\n",
              "      filter: drop-shadow(0px 1px 2px rgba(0, 0, 0, 0.3));\n",
              "      fill: #FFFFFF;\n",
              "    }\n",
              "  </style>\n",
              "\n",
              "      <script>\n",
              "        const buttonEl =\n",
              "          document.querySelector('#df-1afc244d-0806-482f-b708-3753f1b87db3 button.colab-df-convert');\n",
              "        buttonEl.style.display =\n",
              "          google.colab.kernel.accessAllowed ? 'block' : 'none';\n",
              "\n",
              "        async function convertToInteractive(key) {\n",
              "          const element = document.querySelector('#df-1afc244d-0806-482f-b708-3753f1b87db3');\n",
              "          const dataTable =\n",
              "            await google.colab.kernel.invokeFunction('convertToInteractive',\n",
              "                                                     [key], {});\n",
              "          if (!dataTable) return;\n",
              "\n",
              "          const docLinkHtml = 'Like what you see? Visit the ' +\n",
              "            '<a target=\"_blank\" href=https://colab.research.google.com/notebooks/data_table.ipynb>data table notebook</a>'\n",
              "            + ' to learn more about interactive tables.';\n",
              "          element.innerHTML = '';\n",
              "          dataTable['output_type'] = 'display_data';\n",
              "          await google.colab.output.renderOutput(dataTable, element);\n",
              "          const docLink = document.createElement('div');\n",
              "          docLink.innerHTML = docLinkHtml;\n",
              "          element.appendChild(docLink);\n",
              "        }\n",
              "      </script>\n",
              "    </div>\n",
              "  </div>\n",
              "  "
            ]
          },
          "metadata": {},
          "execution_count": 45
        }
      ]
    },
    {
      "cell_type": "code",
      "source": [
        "cyclonePtCount = len(finalData[finalData.CYCLONE_PRESENT == 1])\n",
        "totalDataCount = len(finalData)\n",
        "\n",
        "print(\"Points labelled as cyclone present : \", cyclonePtCount, f'({cyclonePtCount/totalDataCount*100:.{2}f}%)')\n",
        "print(\"Points labelled as cyclone not present : \",  totalDataCount-cyclonePtCount, f'({(1-cyclonePtCount/totalDataCount)*100:.{2}f}%)')"
      ],
      "metadata": {
        "id": "_hWHsrJzeqIf",
        "outputId": "9652b553-03a7-4e49-f576-b6f0feaf2bcc",
        "colab": {
          "base_uri": "https://localhost:8080/"
        }
      },
      "execution_count": 42,
      "outputs": [
        {
          "output_type": "stream",
          "name": "stdout",
          "text": [
            "Points labelled as cyclone present :  1632 (0.01%)\n",
            "Points labelled as cyclone not present :  14934603 (99.99%)\n"
          ]
        }
      ]
    },
    {
      "cell_type": "code",
      "source": [
        "from sklearn.model_selection import train_test_split\n",
        "from sklearn.ensemble import RandomForestClassifier\n",
        "from sklearn.preprocessing import StandardScaler\n",
        "from sklearn.metrics import precision_score, recall_score"
      ],
      "metadata": {
        "id": "oCxP58ngfBCx"
      },
      "execution_count": 54,
      "outputs": []
    },
    {
      "cell_type": "code",
      "source": [
        "train_test_ratio = 0.8\n",
        "positive_ratio = 0.1\n",
        "\n",
        "data = finalData[finalData[\"CYCLONE_PRESENT\"] == 1] #getting all positive data\n",
        "data = pd.concat([\n",
        "    data, \n",
        "    finalData.sample(int(len(data)*(1-positive_ratio)/positive_ratio))\n",
        "]) #mixing with negative data\n",
        "data.sort_values(\"NSEC_TIME\", inplace=True)\n",
        "\n",
        "x = data[[\"LON\", \"LAT\", \"year\", \"month\", \"day\", \"sst\", \"ssh\", \"NSEC_TIME\"]]\n",
        "y = data[\"CYCLONE_PRESENT\"]\n",
        "\n",
        "x_train, x_test, y_train, y_test = train_test_split(x, y, test_size=train_test_ratio, shuffle=False)\n",
        "\n",
        "scaler = StandardScaler()\n",
        "scaler.fit(x_train)\n",
        "\n",
        "x_train = scaler.transform(x_train)\n",
        "x_test = scaler.transform(x_test)"
      ],
      "metadata": {
        "id": "-Dou9jAKiJrl"
      },
      "execution_count": 96,
      "outputs": []
    },
    {
      "cell_type": "code",
      "source": [
        "model = RandomForestClassifier()\n",
        "\n",
        "model.fit(x_train, y_train)"
      ],
      "metadata": {
        "id": "c7gNpkfDoecO",
        "outputId": "21291f9a-de8c-413f-d9cf-dc4f6d5b68ae",
        "colab": {
          "base_uri": "https://localhost:8080/"
        }
      },
      "execution_count": 97,
      "outputs": [
        {
          "output_type": "execute_result",
          "data": {
            "text/plain": [
              "RandomForestClassifier()"
            ]
          },
          "metadata": {},
          "execution_count": 97
        }
      ]
    },
    {
      "cell_type": "code",
      "source": [
        "y_pred = model.predict(x_test)\n",
        "\n",
        "print(\"precision :\", precision_score(y_test, y_pred))\n",
        "print(\"recall :\", recall_score(y_test, y_pred))"
      ],
      "metadata": {
        "id": "znNsZGu3pOVS",
        "outputId": "b2e1f543-6610-44b3-f215-51f8d0744c46",
        "colab": {
          "base_uri": "https://localhost:8080/"
        }
      },
      "execution_count": 98,
      "outputs": [
        {
          "output_type": "stream",
          "name": "stdout",
          "text": [
            "precision : 0.23658269441401972\n",
            "recall : 0.16314199395770393\n"
          ]
        }
      ]
    },
    {
      "cell_type": "code",
      "source": [
        "model.feature_importances_"
      ],
      "metadata": {
        "id": "7Nkc5EG7ppk6",
        "outputId": "95bfdc91-0dc9-4c85-d9fe-55ed40ecc0d8",
        "colab": {
          "base_uri": "https://localhost:8080/"
        }
      },
      "execution_count": 99,
      "outputs": [
        {
          "output_type": "execute_result",
          "data": {
            "text/plain": [
              "array([0.12189352, 0.11869174, 0.03551478, 0.17494057, 0.12067904,\n",
              "       0.13849813, 0.10191794, 0.18786429])"
            ]
          },
          "metadata": {},
          "execution_count": 99
        }
      ]
    },
    {
      "cell_type": "code",
      "source": [],
      "metadata": {
        "id": "Wyj-UM_Wru4r"
      },
      "execution_count": null,
      "outputs": []
    }
  ]
}